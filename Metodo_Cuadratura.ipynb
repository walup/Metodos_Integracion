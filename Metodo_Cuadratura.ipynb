{
 "cells": [
  {
   "cell_type": "markdown",
   "metadata": {},
   "source": [
    "El método de cuadratura consiste en sustituir la partición regular que se utiliza en métodos como el del trapecio o el de Simpson, por una que sea mas eficiente. Resulta, que si se utilizan las raices del n-esimo polinomio de Legendre para hacer la interpolación de una integral en el intervalo $[-1,1],$ la aproximación de la integral será exacta para polinomios de grado hasta $2n$, por supuesto, no todas las integrales se realizan en ese intervalo, pero con un cambio de variable apropiado se podrían cambiar los límites a -1 y 1. Veamos como tendría que ser dicho cambio:\n",
    "\n",
    "Buscamos una función lineal $T:\\left[a,b\\right]\\to \\left[-1,1\\right]$\n",
    "\n",
    "La función es de forma $$T(x) = mx+k$$\n",
    "\n",
    "\\begin{aligned}\n",
    "& T(a) = -1 \\to ma+k = -1\\\\\n",
    "& T(b) = 1 \\to mb +k = 1\n",
    "\\end{aligned}\n",
    "\n",
    "Resolviendo el sistema nos queda\n",
    "\n",
    "$$T(x) = \\frac{2}{b-a}x -\\frac{b+a}{b-a}$$\n",
    "\n",
    "cuando hacemos esa sustitución la integral de $a$ a $b$ quedaria\n",
    "\n",
    "$$\\int_{a}^b f(x)dx = \\frac{b-a}{2}\\int_{-1}^1 f\\left(\\frac{b-a}{2}\\left( v+\\frac{b+a}{b-a}\\right)\\right)dv$$\n",
    "\n",
    "\n",
    "\n",
    "\n",
    "\n",
    "\n"
   ]
  },
  {
   "cell_type": "code",
   "execution_count": 2,
   "metadata": {},
   "outputs": [
    {
     "data": {
      "text/plain": [
       "xSubscriptSym (generic function with 1 method)"
      ]
     },
     "execution_count": 2,
     "metadata": {},
     "output_type": "execute_result"
    }
   ],
   "source": [
    "function xSubscriptSym(i)\n",
    "   a = \"x_\"\n",
    "   b = string(i)\n",
    "    \n",
    "    return string(a,b)\n",
    "    \n",
    "end"
   ]
  },
  {
   "cell_type": "code",
   "execution_count": 18,
   "metadata": {},
   "outputs": [
    {
     "data": {
      "text/plain": [
       "lagrangeInterpolationDefined (generic function with 1 method)"
      ]
     },
     "execution_count": 18,
     "metadata": {},
     "output_type": "execute_result"
    }
   ],
   "source": [
    "using SymPy\n",
    "#=Copiamos nuestra función para la interpolación de la grange N va a ser en este caso el numero de\n",
    "puntos=#\n",
    "function lagrangeInterpolationDefined(N,f)\n",
    "    x0 = Sym(\"x_0\")\n",
    "    x = Sym(\"x\")\n",
    "    g = f(x)\n",
    "    points = []\n",
    "    push!(points,x0)\n",
    "    #=We create all the symbols for each point=#\n",
    "    \n",
    "    for i in 1:N-1\n",
    "       push!(points,Sym(xSubscriptSym(i))) \n",
    "    end\n",
    "    \n",
    "    sum = SymFunction(\"sum\")\n",
    "    lagrangeTerm = SymFunction(\"lagrangeTerm\")\n",
    "    lagrangeTerm = 1\n",
    "    sum = 0\n",
    "    \n",
    "    for i in 1:N\n",
    "        lagrangeTerm  = 1\n",
    "        for j in 1:N\n",
    "            if(j!=i)\n",
    "                \n",
    "               lagrangeTerm = lagrangeTerm*(x-points[j])/((points[i])-points[j])\n",
    "            \n",
    "            end\n",
    "    end\n",
    "          sum+=g(points[i])*lagrangeTerm\n",
    "end\n",
    "    return sum \n",
    "end"
   ]
  },
  {
   "cell_type": "code",
   "execution_count": 24,
   "metadata": {},
   "outputs": [
    {
     "data": {
      "text/plain": [
       "quadratureMethod (generic function with 1 method)"
      ]
     },
     "execution_count": 24,
     "metadata": {},
     "output_type": "execute_result"
    }
   ],
   "source": [
    "#=Ahora construimos la aproximación de la integral =#\n",
    "using SymPy.SpecialFuncs\n",
    "function quadratureMethod(f,a,b,n)\n",
    "   #=Sacamos el n-esimo polinomio de legendre=#\n",
    "    x = Sym(\"x\")\n",
    "    v = Sym(\"v\")\n",
    "    legend = legendre(n,x)\n",
    "    \n",
    "    #=Sacamos las raices del polinomio=#\n",
    "    legendreRoots = solve(legend)\n",
    "    \n",
    "    #=Hacemos el cambio de variable en la función x=#\n",
    "    g = f(x)\n",
    "    g = subs(g,x=>((b-a)/2)*(v +((b-a)/(b+a))))\n",
    "    \n",
    "    #=Bien, ahora hacemos la interpolación de f =#\n",
    "    lagrange = lagrangeInterpolationDefined(n,g)\n",
    "    \n",
    "    #=Sustituimos las raices en el polinomio=#\n",
    "    \n",
    "    for i in 1:n\n",
    "       lagrange = subs(lagrange,Sym(xSubscriptSym(i-1))=>legendreRoots[i]) \n",
    "    end\n",
    "    \n",
    "    integral = integrate(lagrange,(x,-1,1))\n",
    "    \n",
    "    return N(integral)\n",
    "end"
   ]
  },
  {
   "cell_type": "code",
   "execution_count": 25,
   "metadata": {},
   "outputs": [
    {
     "data": {
      "text/plain": [
       "2.666666666666666"
      ]
     },
     "execution_count": 25,
     "metadata": {},
     "output_type": "execute_result"
    }
   ],
   "source": [
    "quadratureMethod(x->x^2,0,2,2)"
   ]
  },
  {
   "cell_type": "code",
   "execution_count": 28,
   "metadata": {},
   "outputs": [
    {
     "data": {
      "text/plain": [
       "10.666666666666668"
      ]
     },
     "execution_count": 28,
     "metadata": {},
     "output_type": "execute_result"
    }
   ],
   "source": [
    "#=Si usamos tres puntos para la interpolacion, la integral sera exacta hasta para polinomios de orden 5, la siguiente integral de x^5 de 0 a 2 debe dar 64/6 = 10.6666=#\n",
    "\n",
    "quadratureMethod(x->x^5,0,2,3)"
   ]
  },
  {
   "cell_type": "code",
   "execution_count": null,
   "metadata": {},
   "outputs": [],
   "source": []
  }
 ],
 "metadata": {
  "kernelspec": {
   "display_name": "Julia 0.6.0",
   "language": "julia",
   "name": "julia-0.6"
  },
  "language_info": {
   "file_extension": ".jl",
   "mimetype": "application/julia",
   "name": "julia",
   "version": "0.6.0"
  }
 },
 "nbformat": 4,
 "nbformat_minor": 2
}
