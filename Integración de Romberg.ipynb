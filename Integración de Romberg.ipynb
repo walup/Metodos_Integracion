{
 "cells": [
  {
   "cell_type": "markdown",
   "metadata": {},
   "source": [
    "# PARA LA PRIMER COLUMNA"
   ]
  },
  {
   "cell_type": "code",
   "execution_count": 1,
   "metadata": {},
   "outputs": [
    {
     "data": {
      "text/plain": [
       "first_Column (generic function with 1 method)"
      ]
     },
     "execution_count": 1,
     "metadata": {},
     "output_type": "execute_result"
    }
   ],
   "source": [
    "function first_Column(f::Function,a,b,n)\n",
    "    #a-límite inferior, b-límite inferior, n-número de intervalo\n",
    "    \n",
    "    matrix=zeros(n,n)\n",
    "    #creación de una matriz cuadrada\n",
    "    \n",
    "    matrix[1,1]=((b-a)/(2))*(f(a)+f(b))\n",
    "    #para el elemento (1,1) de la matriz aplicamos la integral del trapecio\n",
    "    \n",
    "    for k in 2:n             \n",
    "        LIM_SUM=(2^(k-2)) #para cada elemento (n,1) definimos un límite para la suma\n",
    "        h=(b-a)/(2^(k-2)) #para cada elemento(n,1) definimos una h\n",
    "        sum=0.0\n",
    "        for i in 1:LIM_SUM\n",
    "            sum=sum+h*(f(a+(i-(1/2))*h))\n",
    "        end\n",
    "        integral=(1/2)*(matrix[k-1,1]+sum)\n",
    "        matrix[k,1]=integral\n",
    "    end\n",
    "    matrix\n",
    "end\n"
   ]
  },
  {
   "cell_type": "code",
   "execution_count": 2,
   "metadata": {},
   "outputs": [
    {
     "data": {
      "text/plain": [
       "6×6 Array{Float64,2}:\n",
       " 1.92367e-16  0.0  0.0  0.0  0.0  0.0\n",
       " 1.5708       0.0  0.0  0.0  0.0  0.0\n",
       " 1.89612      0.0  0.0  0.0  0.0  0.0\n",
       " 1.97423      0.0  0.0  0.0  0.0  0.0\n",
       " 1.99357      0.0  0.0  0.0  0.0  0.0\n",
       " 1.99839      0.0  0.0  0.0  0.0  0.0"
      ]
     },
     "execution_count": 2,
     "metadata": {},
     "output_type": "execute_result"
    }
   ],
   "source": [
    "first_Column(x->sin(x),0,pi,6)"
   ]
  },
  {
   "cell_type": "markdown",
   "metadata": {},
   "source": [
    "# Pasando a los siguientes niveles"
   ]
  },
  {
   "cell_type": "code",
   "execution_count": 3,
   "metadata": {},
   "outputs": [
    {
     "data": {
      "text/plain": [
       "romberg_Integration (generic function with 1 method)"
      ]
     },
     "execution_count": 3,
     "metadata": {},
     "output_type": "execute_result"
    }
   ],
   "source": [
    "function romberg_Integration(f::Function,a,b,n)\n",
    "    matrix=zeros(n,n)\n",
    "    #creación de una matriz cuadrada\n",
    "    \n",
    "    matrix[1,1]=((b-a)/(2))*(f(a)+f(b))\n",
    "    #para el elemento (1,1) de la matriz aplicamos la integral del trapecio\n",
    "    \n",
    "    for k in 2:n             \n",
    "        LIM_SUM=(2^(k-2)) #para cada elemento (n,1) definimos un límite para la suma\n",
    "        h=(b-a)/(2^(k-2)) #para cada elemento(n,1) definimos una h\n",
    "        sum=0.0\n",
    "        for i in 1:LIM_SUM\n",
    "            sum=sum+h*(f(a+(i-(1/2))*h))\n",
    "        end\n",
    "        integral=(1/2)*(matrix[k-1,1]+sum)\n",
    "        matrix[k,1]=integral\n",
    "    end\n",
    "    matrix\n",
    "    \n",
    "    #Para pasar al segundo nivel, (COLUMA 2)\n",
    "    for j in 2:n\n",
    "        \n",
    "        #Debe empezar en los elemento de la matriz i=j\n",
    "        for i in j:n\n",
    "            aproximation=((4^(j-1))*(matrix[i,j-1])-(matrix[i-1,j-1]))/((4^(j-1)-1))\n",
    "            \n",
    "            #Se almacenarán todos los elementos de la columna.\n",
    "            matrix[i,j]=aproximation\n",
    "        end\n",
    "    end\n",
    "    matrix\n",
    "end\n",
    "            "
   ]
  },
  {
   "cell_type": "markdown",
   "metadata": {},
   "source": [
    "# Ejemplo 1"
   ]
  },
  {
   "cell_type": "code",
   "execution_count": 4,
   "metadata": {},
   "outputs": [
    {
     "data": {
      "text/plain": [
       "6×6 Array{Float64,2}:\n",
       " 1.92367e-16  0.0      0.0      0.0      0.0  0.0\n",
       " 1.5708       2.0944   0.0      0.0      0.0  0.0\n",
       " 1.89612      2.00456  1.99857  0.0      0.0  0.0\n",
       " 1.97423      2.00027  1.99998  2.00001  0.0  0.0\n",
       " 1.99357      2.00002  2.0      2.0      2.0  0.0\n",
       " 1.99839      2.0      2.0      2.0      2.0  2.0"
      ]
     },
     "execution_count": 4,
     "metadata": {},
     "output_type": "execute_result"
    }
   ],
   "source": [
    "romberg_Integration(x->sin(x),0,pi,6)"
   ]
  },
  {
   "cell_type": "markdown",
   "metadata": {},
   "source": [
    "# Ejemplo 2"
   ]
  },
  {
   "cell_type": "code",
   "execution_count": 5,
   "metadata": {},
   "outputs": [
    {
     "data": {
      "text/plain": [
       "3×3 Array{Float64,2}:\n",
       " 1.33333  0.0      0.0    \n",
       " 1.16667  1.11111  0.0    \n",
       " 1.11667  1.1      1.09926"
      ]
     },
     "execution_count": 5,
     "metadata": {},
     "output_type": "execute_result"
    }
   ],
   "source": [
    "romberg_Integration(x->1/x,1,3,3)"
   ]
  },
  {
   "cell_type": "markdown",
   "metadata": {},
   "source": [
    "# Ejemplo 3"
   ]
  },
  {
   "cell_type": "code",
   "execution_count": 6,
   "metadata": {},
   "outputs": [
    {
     "data": {
      "text/plain": [
       "3×3 Array{Float64,2}:\n",
       " 14.2302   0.0      0.0   \n",
       " 11.1714  10.1517   0.0   \n",
       " 10.4438  10.2013  10.2046"
      ]
     },
     "execution_count": 6,
     "metadata": {},
     "output_type": "execute_result"
    }
   ],
   "source": [
    "romberg_Integration(x->x*sqrt(complex(1+x^2)),0,3,3)"
   ]
  },
  {
   "cell_type": "code",
   "execution_count": null,
   "metadata": {
    "collapsed": true
   },
   "outputs": [],
   "source": []
  }
 ],
 "metadata": {
  "kernelspec": {
   "display_name": "Julia 0.6.0",
   "language": "julia",
   "name": "julia-0.6"
  },
  "language_info": {
   "file_extension": ".jl",
   "mimetype": "application/julia",
   "name": "julia",
   "version": "0.6.0"
  }
 },
 "nbformat": 4,
 "nbformat_minor": 2
}
