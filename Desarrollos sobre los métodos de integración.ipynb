{
 "cells": [
  {
   "cell_type": "markdown",
   "metadata": {},
   "source": [
    "# Métodos adaptivos de cuadratura"
   ]
  },
  {
   "cell_type": "markdown",
   "metadata": {
    "collapsed": true
   },
   "source": [
    "En este caso se basará en la regla compuesta de Simpson, queriendo aproximar $\\int _a^b f(x) \\ dx$ con una toleracia $\\epsilon > 0$. Lo primero que se realiza es utilizar el método compuesto de Simpson con un tamaño $h=\\frac{b-a}{2}$ lo que nos quedaría\n",
    "\n",
    "__Ecuación 1__ \n",
    "$$\\int_a^b f(x) \\ dx = \\frac{h}{3} \\left[ f(a)+4f(a+h)+f(b) \\right] - \\frac{h^5}{90}f^{(4)}(\\mu)$$\n",
    "con $\\mu $ en $(a,b)$, error es el último término, donde \n",
    "$$S(a,b)=\\frac{h}{3}[f(a)+4f(a+h)f(b)]$$\n",
    "\n",
    "Ahora para estimar la precisión de la aproximación pero evitando calcular $f^{(4)}(\\mu)$ volvemos a plicar Simpson pero con m=2 y un tamaño de paso $\\frac{b-a}{4}=\\frac{h}{2}$ tendremos que \n",
    "\n",
    "__Ecuación 2__\n",
    "$$ \\int_a^bf(x)dx = \\frac{h}{6} \\left[ f(a) +4f(a+\\frac{h}{2})+2f(a+h)+4f(a+\\frac{3h}{2})+f(b) \\right] - (\\frac{h}{2})^4\\frac{b-a}{180}f^{(4)}(\\tilde \\mu)$$  \n",
    "\n",
    "para alguna $\\tilde \\mu$ en $(a,b)$, para simplificar sea:\n",
    "\n",
    "$$S\\left(a,\\frac{a+b}{2}\\right)=\\frac{h}{6} \\left[ f(a)+4f(a+\\frac{h}{2})+f(a+h) \\right]$$\n",
    "$$S\\left(\\frac{a+b}{2},b\\right)=\\frac{h}{6} \\left[ f(a+h)+4f(a+\\frac{3h}{2})+f(b) \\right]$$\n",
    "\n",
    "Entonces podemos re-escribir a la integral anterior como:\n",
    "\n",
    "__Ecuación 3__\n",
    "$$\\int_a^b f(x) \\ dx = \\left(a,\\frac{a+b}{2}\\right) + \\left(\\frac{a+b}{2},b\\right) - \\frac{1}{16} \\left (\\frac{h^5}{90} \\right)f^{(4)}(\\tilde \\mu)$$\n",
    "\n",
    "Para poder estimar el error se supone que $f^{(4)}(\\mu)=f^{(4)}(\\tilde \\mu)$, si la suposición llega a ser precisa, entonces nuestras __Ecuaciones 1 y 3__ implicarían que \n",
    "\n",
    "$$S\\left(a,\\frac{a+b}{2}\\right) + S\\left(\\frac{a+b}{2},b\\right) - \\frac{1}{16} \\left (\\frac{h^5}{90} \\right)f^{(4)}(\\tilde \\mu) \\approx S(a,b)- \\left (\\frac{h^5}{90} \\right)f^{(4)}( \\mu)$$\n",
    "\n",
    "$$\\left (\\frac{h^5}{90} \\right)f^{(4)}( \\mu) \\approx \\frac{16}{15} \\left[S(a,b)- S\\left(a,\\frac{a+b}{2}\\right) -S\\left(\\frac{a+b}{2},b\\right)\\right]$$\n",
    "\n",
    "Utilizando dicha estimación con la __Ecuación 3__ se obtendrá la estimación del error\n",
    "$$\\left |\\int_a^b f(x) dx - S\\left(a,\\frac{a+b}{2}\\right) - S\\left(\\frac{a+b}{2},b\\right) \\right| \\approx \\frac{1}{15} \\left| S(a,b)- S\\left(a,\\frac{a+b}{2}\\right) - S\\left(\\frac{a+b}{2},b\\right)\\right|$$\n",
    "\n",
    "Lo que daría que $S\\left(a,\\frac{a+b}{2}\\right)+S\\left(\\frac{a+b}{2},b\\right)$ da una aproximación de nuestra integral $\\int_a^b f(x) \\ dx$ 15 veces mejor que lo que ésta coincide con el valor conocido $S(a,b)$. Entonces tendríamos que $S\\left(a,\\frac{a+b}{2}\\right)+S\\left(\\frac{a+b}{2},b\\right)$ aprimará a nuestra integral con un erro que será menor a $\\epsilon$, tomando en cuenta que las dos aproximaciones $S\\left(a,\\frac{a+b}{2}\\right)+S\\left(\\frac{a+b}{2},b\\right)$ y $S(a,b)$ deberán ser diferentes menos de 15$\\epsilon$\n",
    "\n",
    "Teniendo que $$\\left| S(a,b)- S\\left(a,\\frac{a+b}{2}\\right)-S\\left(\\frac{a+b}{2},b\\right) \\right| < 15\\epsilon$$\n",
    "\n",
    "Entonces $$\\left|\\int_a^b f(x) dx - S\\left(a,\\frac{a+b}{2}\\right)-S\\left(\\frac{a+b}{2},b\\right) \\right| < \\epsilon$$\n",
    "\n",
    "Por lo que $$S\\left(a,\\frac{a+b}{2}\\right)+S\\left(\\frac{a+b}{2},b\\right)$$ sería una aproximación muy exacta de dicha integral"
   ]
  },
  {
   "cell_type": "markdown",
   "metadata": {},
   "source": [
    "# Integración de Romberg"
   ]
  },
  {
   "cell_type": "markdown",
   "metadata": {},
   "source": [
    "Lo primero que se debe tomar en cuenta es recordar el método de integración de trapecio extendida para hacer aproximaciones de una función $f(x)$ en un intervalo $[a,b]$ usando $m$ subintervalos, donde $h=\\frac{b-a}{m}$\n",
    "\n",
    "$$\\int_a^b f(x) dx = \\frac{h}{2} \\left( f(a)+f(b)+2\\sum_{j=1}^{m-1} f(x_j)\\right)$$\n",
    "\n",
    "Para el primer paso haremos aproximaciones con $m_1=1, \\ m_2=2,..., \\ m_n=2^{n-1}$, con $n$ un entero positivo. Para conocer el tamaño de los pasos, $h_k$, tendremos $h_k= \\frac{b-a}{2^{k-1}}$, lo que nos daría\n",
    "\n",
    "$$R_{k,1}=\\int_a^b f(x) dx = \\frac{h_k}{2} \\left[ f(a) + f(b) +2 \\left( \\sum_{i=1}^{2^{k-1}-1}f(a+ih_k)\\right)   \\right]$$\n",
    "\n",
    "Expresaremos para $$R_{1,1}=\\frac{h_1}{2}[f(a)+f(b)]=\\frac{b-a}{2}[f(a)+f(b)]$$\n",
    "$$R_{2,1}=\\frac{h_2}{2}[f(a)+f(b)+2f(a+h_2)] $$\n",
    "$$=\\frac{b-a}{4}\\left[f(a)+f(b)+2f\\left(a+\\frac{b-a}{2}\\right)\\right]$$\n",
    "$$=\\frac{1}{2} \\left[R_{1,1}+h_1f(a+\\frac{1}{2}h_1\\right]$$\n",
    "\n",
    "y en general podemos obtener la siguiente expresión para $k=1,2,3, \\ldots , n$, que serían los valores de la primera columna, dado un arreglo matricial\n",
    "\n",
    "$$R_{k,1}=\\frac{1}{2} \\left[ R_{k-1,1} + h_{k-1} \\sum_{i=1}^{2^{k-2}}f \\left(a+\\left(i-\\frac{1}{2}\\right)h_{k-1} \\right) \\right] $$\n",
    "\n",
    "Para poder seguir avanzando en niveles, y llegar a una estimación más precisa se aplica\n",
    "\n",
    "$$R_{i,j}=\\frac{4^{j-1}R_{i,j-1}-R_{i-1,j-1}}{4^{j-1}-1}$$\n",
    "\n",
    "\n",
    "\\begin{array}\n",
    "$R_{1,1} \\\\\n",
    "R_{2,1} & R_{2,2}\\\\\n",
    "R_{3,1} & R_{3,2} &  R_{3,3}\\\\\n",
    "R_{4,1} & R_{4,2} &  R_{4,3} & R_{4,4}\\\\\n",
    "... & ...& ...&... & \\ddots\\\\\n",
    "R_{n,1} & R_{n,2} & R_{n,3} & R_{n,4} &...& R_{n,n}\\\\\n",
    "\\end{array}"
   ]
  },
  {
   "cell_type": "markdown",
   "metadata": {},
   "source": [
    "# Cuadratura Gaussiana"
   ]
  },
  {
   "cell_type": "code",
   "execution_count": null,
   "metadata": {
    "collapsed": true
   },
   "outputs": [],
   "source": []
  },
  {
   "cell_type": "markdown",
   "metadata": {},
   "source": [
    "# Integrales múltiples"
   ]
  },
  {
   "cell_type": "markdown",
   "metadata": {
    "collapsed": true
   },
   "source": [
    "En este caso se trabajará con integrales dobles  $ \\iint \\limits_{R} f(x,y) \\ dA$ donde $R$ será nuestra región rectangular $R=\\{ (x,y) | a\\leq x \\leq b,  \\ c\\leq y \\leq d \\}$. Aquí se utilizará la regla compuesta de Simpson.  \n",
    "Supongamos que $n$ y $m$ son número enteros que nos servirán para obtener los tamaños de los pasos $h=\\frac{b-a}{2n}$ y $k=\\frac{d-c}{2m}$. Y re-escribiendo la integral como un integral doble iterada.\n",
    "$$\\iint \\limits_{R} f(x,y) \\ dA = \\int _a^b \\left( \\int _c^d f(x,y) \\ dy \\right) dx$$\n",
    "\n",
    "Primero se utilizará la regla compuesta de Simpson para la integral de adentro del paréntesis.\n",
    "\n",
    "Ahora tomando $y_j=c+jk$ para cada $j=0,1, ... , 2m$ obtendríamos\n",
    "\n",
    "$$\\int _c^d f(x,y)dy = \\frac{k}{3} \\left [ f(x,y_0) + 2 \\sum_{j=1}^{m-1} f(x,y_{2j}) + 4 \\sum_{j=1}^{m} f(x,y_{2j-1}+f(x,y_{2m}))\\right ] - \\frac{(d-c)k^4}{180}\\frac{\\partial^4 f(x,\\mu)}{\\partial y^4}$$\n",
    "\n",
    "para alguna $\\mu$ en $(c,d)$, si ahora introducimos $\\int_a^b dx$ y multiplicamos por $\\frac{k}{3}$, obtendríamos  \n",
    "\n",
    "$$\\int _a^b \\int _c^d f(x,y)dy \\ dx = \\frac{k}{3} \\int _a^b  f(x,y_0) dx + \\frac{2k}{k} \\sum_{j=1}^{m-1}  \\int _a^b  f(x,y_{2j})dx  + \\frac{4k}{3} \\sum_{j=1}^{m}  \\int _a^b  f(x,y_{2j-1})dx + \\frac{k}{3} \\int _a^b f(x,y_{2m})) dx - \\frac{(d-c)k^4}{180} \\int _a^b \\frac{\\partial^4 f(x,\\mu)}{\\partial y^4} \\ dx$$\n",
    "\n",
    "\n",
    "Ahora la regla compuesta de Simpson se emplea en cada una de la integrales, de la ecuación anterior. Tomando $x_i = a+ih$ para $i=,0,1, ... ,2n$ se obtiene para da $j=0,1, ..., 2m$. Teniendo que la integral resulta de la siguiente forma\n",
    "\n",
    "$$ \\int_a^b f(x,y_j)dx = \\frac{h}{3} \\left[ f(x_0,y_j) + 2 \\sum _{i=1}^{n-1}f(x_{2i},y_j) + 4\\sum _{i=1}^{n} f(x_{2i},y_j)+f(x_{2n},y_j) \\right] -\\frac{b-a}{180}h^4 \\frac{\\partial^4f}{\\partial x^4}(\\xi_j,y_j)$$\n",
    "\n",
    "para alguna $\\xi_j$ en $(a,b)$. Lo que nos daría que la aproximación tiene la forma\n",
    "\n",
    "$$\\int _a^b \\int _c^d f(x,y) dy dx \\approx \\frac{h}{3} \\left [ f(x_0,y_j) + 2\\sum _{i=1}^{n-1}f(x_{2i},y_0) + 4\\sum _{i=1}^n f(x_{2i-1},y_0)\\\\\n",
    "+f(x_{2n},y_0) + 2\\sum_{j=1}^{m-1}f(x_0,y_{2j}) + 4\\sum_{j=1}^{m-1} \\sum_{i=1}^{n-1}f(x_{2i},y_{2j}) \\\\\n",
    "+8 \\sum_{j=1}^{m-1} \\sum_{i=1}^{n} f(x_{2i-1},y_{2j}) + 2\\sum_{j=1} ^{m-1} f(x_{2n},y_{2j}) \\\\\n",
    "+4 \\sum_{j=1}^{m}f(x_0,y_{2j-1}) + 8\\sum_{j=1}^{m} \\sum_{i=1}^{n-1} f(x_{2i},y_{2j-1}) \\\\\n",
    "+16 \\sum_{j=1}^{m}\\sum_{i=1}^{n} f(x_{2i},y_{2j-1}) + 4\\sum_{j=1}^m f(x_{2n},y_(2j-1)\\\\\n",
    "+f(x_0,y_{2m}) + 2\\sum_{i=1}^{n-1}f(x_{2i},y_{2m}) + 4\\sum_{i=1}^{n}f(x_{2i-1},y_{2m})\\\\\n",
    "+f(x_{2n},y_{2m})\\right]$$"
   ]
  },
  {
   "cell_type": "code",
   "execution_count": null,
   "metadata": {
    "collapsed": true
   },
   "outputs": [],
   "source": []
  }
 ],
 "metadata": {
  "kernelspec": {
   "display_name": "Julia 0.6.0",
   "language": "julia",
   "name": "julia-0.6"
  },
  "language_info": {
   "file_extension": ".jl",
   "mimetype": "application/julia",
   "name": "julia",
   "version": "0.6.0"
  }
 },
 "nbformat": 4,
 "nbformat_minor": 2
}
