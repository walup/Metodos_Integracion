{
 "cells": [
  {
   "cell_type": "markdown",
   "metadata": {},
   "source": [
    "Vamos a hacer una función que nos regrese la formula de integración de Newton Cotes de orden n\n",
    "\n",
    "Si recordamos, lo que debemos hacer para obtenerla es primero interpolar la función utilizando n+1 puntos ${x_{0},x_{1},...,x_{n}}$ los cuales tienen un espaciado regular: $x_{i} = x_{i-1}+h$ donde $h = \\frac{x_{n}-x_{0}}{n}$ la interpolación es la de Lagrange. Posteriormente hacemos la integral desde $x_{0}$ a $x_{n}$ del polinomio. "
   ]
  },
  {
   "cell_type": "code",
   "execution_count": 36,
   "metadata": {},
   "outputs": [
    {
     "data": {
      "text/plain": [
       "xSubscriptSym (generic function with 1 method)"
      ]
     },
     "execution_count": 36,
     "metadata": {},
     "output_type": "execute_result"
    }
   ],
   "source": [
    "function xSubscriptSym(i)\n",
    "   a = \"x_\"\n",
    "   b = string(i)\n",
    "    \n",
    "    return string(a,b)\n",
    "    \n",
    "end"
   ]
  },
  {
   "cell_type": "code",
   "execution_count": 29,
   "metadata": {},
   "outputs": [
    {
     "data": {
      "text/plain": [
       "lagrangeInterpolation (generic function with 1 method)"
      ]
     },
     "execution_count": 29,
     "metadata": {},
     "output_type": "execute_result"
    }
   ],
   "source": [
    "#=Hacemos una rutina que interpole una funcion con n puntos, usando un espaciado regular=#\n",
    "\n",
    "using SymPy\n",
    "\n",
    "function lagrangeInterpolation(N)\n",
    "    g = SymFunction(\"f\")\n",
    "    x0 = Sym(\"x_0\")\n",
    "    x = Sym(\"x\")\n",
    "    points = []\n",
    "    push!(points,x0)\n",
    "    h = Sym(\"h\")\n",
    "    #=We create all the symbols for each point=#\n",
    "    \n",
    "    for i in 1:N\n",
    "       push!(points,Sym(xSubscriptSym(i))) \n",
    "    end\n",
    "    \n",
    "    sum = SymFunction(\"sum\")\n",
    "    lagrangeTerm = SymFunction(\"lagrangeTerm\")\n",
    "    lagrangeTerm = 1\n",
    "    sum = 0\n",
    "    \n",
    "    for i in 1:N+1\n",
    "        lagrangeTerm  = 1\n",
    "        for j in 1:N+1\n",
    "            if(j!=i)\n",
    "                \n",
    "               lagrangeTerm = lagrangeTerm*(x-points[j])/((points[i])-points[j])\n",
    "               lagrangeTerm = subs(lagrangeTerm,points[j]=>points[1]+(j-1)*h)\n",
    "               lagrangeTerm = subs(lagrangeTerm,points[i]=>points[1]+(i-1)*h) \n",
    "            \n",
    "            end\n",
    "    end\n",
    "          sum+=g(points[i])*lagrangeTerm\n",
    "end\n",
    "    return sum \n",
    "end"
   ]
  },
  {
   "cell_type": "code",
   "execution_count": 30,
   "metadata": {},
   "outputs": [
    {
     "data": {
      "text/latex": [
       "$$- \\frac{1}{h^{2}} \\left(x - x_{0}\\right) \\left(- 2 h + x - x_{0}\\right) f{\\left (x_{1} \\right )} + \\frac{f{\\left (x_{2} \\right )}}{2 h^{2}} \\left(x - x_{0}\\right) \\left(- h + x - x_{0}\\right) + \\frac{f{\\left (x_{0} \\right )}}{2 h^{2}} \\left(- 2 h + x - x_{0}\\right) \\left(- h + x - x_{0}\\right)$$"
      ],
      "text/plain": [
       "  (x - x_0)*(-2*h + x - x_0)*f(x_1)   (x - x_0)*(-h + x - x_0)*f(x_2)   (-2*h \n",
       "- --------------------------------- + ------------------------------- + ------\n",
       "                   2                                   2                      \n",
       "                  h                                 2*h                       \n",
       "\n",
       "+ x - x_0)*(-h + x - x_0)*f(x_0)\n",
       "--------------------------------\n",
       "              2                 \n",
       "           2*h                  "
      ]
     },
     "execution_count": 30,
     "metadata": {},
     "output_type": "execute_result"
    }
   ],
   "source": [
    "lagrangeInterpolation(2)"
   ]
  },
  {
   "cell_type": "code",
   "execution_count": 31,
   "metadata": {},
   "outputs": [
    {
     "data": {
      "text/plain": [
       "newtonCotes (generic function with 1 method)"
      ]
     },
     "execution_count": 31,
     "metadata": {},
     "output_type": "execute_result"
    }
   ],
   "source": [
    "#=Aqui obtendremos Newton Cotes=#\n",
    "function newtonCotes(N)\n",
    "    \n",
    "    l = lagrangeInterpolation(N)\n",
    "    x0 = Sym(\"x_0\")\n",
    "    h = Sym(\"h\")\n",
    "    xn =x0 +N*h\n",
    "    \n",
    "    newtonCotes = simplify(integrate(l,(Sym(\"x\"),x0,xn)))\n",
    "    \n",
    "    \n",
    "    \n",
    "    return newtonCotes\n",
    "end\n"
   ]
  },
  {
   "cell_type": "code",
   "execution_count": 32,
   "metadata": {},
   "outputs": [
    {
     "data": {
      "text/latex": [
       "$$\\frac{h}{3} \\left(f{\\left (x_{0} \\right )} + 4 f{\\left (x_{1} \\right )} + f{\\left (x_{2} \\right )}\\right)$$"
      ],
      "text/plain": [
       "h*(f(x_0) + 4*f(x_1) + f(x_2))\n",
       "------------------------------\n",
       "              3               "
      ]
     },
     "execution_count": 32,
     "metadata": {},
     "output_type": "execute_result"
    }
   ],
   "source": [
    "#=La regla de simpson=#\n",
    "newtonCotes(2)"
   ]
  },
  {
   "cell_type": "code",
   "execution_count": 33,
   "metadata": {},
   "outputs": [
    {
     "data": {
      "text/latex": [
       "$$\\frac{h}{2} \\left(f{\\left (x_{0} \\right )} + f{\\left (x_{1} \\right )}\\right)$$"
      ],
      "text/plain": [
       "h*(f(x_0) + f(x_1))\n",
       "-------------------\n",
       "         2         "
      ]
     },
     "execution_count": 33,
     "metadata": {},
     "output_type": "execute_result"
    }
   ],
   "source": [
    "#=La regla del trapecio=#\n",
    "\n",
    "newtonCotes(1)"
   ]
  },
  {
   "cell_type": "code",
   "execution_count": 85,
   "metadata": {},
   "outputs": [
    {
     "data": {
      "text/plain": [
       "newtonCotesDefined (generic function with 1 method)"
      ]
     },
     "execution_count": 85,
     "metadata": {},
     "output_type": "execute_result"
    }
   ],
   "source": [
    "#=Ahora queremos hacer lo mismo, pero que f, este definida para poder utilizarla, hacemos entonces las\n",
    "versiones con funciones definidas de las rutinas anteriores. =#\n",
    "\n",
    "#=Hacemos una rutina que interpole una funcion con n puntos, usando un espaciado regular=#\n",
    "\n",
    "using SymPy\n",
    "\n",
    "function lagrangeInterpolationDefined(N,f)\n",
    "    x0 = Sym(\"x_0\")\n",
    "    x = Sym(\"x\")\n",
    "    g = f(x)\n",
    "    points = []\n",
    "    push!(points,x0)\n",
    "    h = Sym(\"h\")\n",
    "    #=We create all the symbols for each point=#\n",
    "    \n",
    "    for i in 1:N\n",
    "       push!(points,Sym(xSubscriptSym(i))) \n",
    "    end\n",
    "    \n",
    "    sum = SymFunction(\"sum\")\n",
    "    lagrangeTerm = SymFunction(\"lagrangeTerm\")\n",
    "    lagrangeTerm = 1\n",
    "    sum = 0\n",
    "    \n",
    "    for i in 1:N+1\n",
    "        lagrangeTerm  = 1\n",
    "        for j in 1:N+1\n",
    "            if(j!=i)\n",
    "                \n",
    "               lagrangeTerm = lagrangeTerm*(x-points[j])/((points[i])-points[j])\n",
    "               lagrangeTerm = subs(lagrangeTerm,points[j]=>points[1]+(j-1)*h)\n",
    "               lagrangeTerm = subs(lagrangeTerm,points[i]=>points[1]+(i-1)*h) \n",
    "            \n",
    "            end\n",
    "    end\n",
    "          sum+=g(points[i])*lagrangeTerm\n",
    "end\n",
    "    return sum \n",
    "end\n",
    "\n",
    "function newtonCotesDefined(N,f)\n",
    "    \n",
    "    l = lagrangeInterpolation(N,f)\n",
    "    x0 = Sym(\"x_0\")\n",
    "    h = Sym(\"h\")\n",
    "    xn =x0 +N*h\n",
    "    \n",
    "    newtonCotes = simplify(integrate(l,(Sym(\"x\"),x0,xn)))\n",
    "    \n",
    "    \n",
    "    \n",
    "    return newtonCotes\n",
    "end\n",
    "\n"
   ]
  },
  {
   "cell_type": "code",
   "execution_count": 109,
   "metadata": {},
   "outputs": [
    {
     "data": {
      "text/plain": [
       "newtonCotesNumerical (generic function with 2 methods)"
      ]
     },
     "execution_count": 109,
     "metadata": {},
     "output_type": "execute_result"
    }
   ],
   "source": [
    "function newtonCotesNumerical(f,x0,xf,order)\n",
    "    points = linspace(x0,xf,order+1)\n",
    "    g = newtonCotesDefined(order,f)\n",
    "    h = (xf-x0)/(order)\n",
    "    g = subs(g,Sym(\"h\")=>h)\n",
    "    for i in 1:size(points,1)\n",
    "       g = subs(g,Sym(xSubscriptSym(i-1))=>points[i])\n",
    "    end\n",
    "    return g\n",
    "end"
   ]
  },
  {
   "cell_type": "code",
   "execution_count": 110,
   "metadata": {},
   "outputs": [
    {
     "name": "stdout",
     "output_type": "stream",
     "text": [
      "Orden 1 4.00000000000000\n",
      "Orden 2 2.66666666666667\n",
      "Orden 3 2.66666666666667\n"
     ]
    }
   ],
   "source": [
    "#=Probemos con el tipico ejemplo de x^2 de 0 a 2, la respuesta debe ser 8/3  = 2.666=#\n",
    "\n",
    "#=Orden 1=#\n",
    "println(\"Orden 1 \",newtonCotesNumerical(x->x^2,0,2,1))\n",
    "#=Orden 2=#\n",
    "println(\"Orden 2 \",newtonCotesNumerical(x->x^2,0,2,2))\n",
    "#=Orden 3=#\n",
    "println(\"Orden 3 \",newtonCotesNumerical(x->x^2,0,2,3))\n",
    "\n",
    "#=A partir de orden 2, el valor de la integral es cuadrada, porque la aproximacion cuadratica a la funcion \n",
    "x^2 es la misma funcion=#"
   ]
  },
  {
   "cell_type": "code",
   "execution_count": 101,
   "metadata": {},
   "outputs": [
    {
     "name": "stdout",
     "output_type": "stream",
     "text": [
      "0.0\n",
      "2.0\n"
     ]
    }
   ],
   "source": []
  },
  {
   "cell_type": "code",
   "execution_count": 82,
   "metadata": {},
   "outputs": [
    {
     "ename": "LoadError",
     "evalue": "\u001b[91mMethodError: no method matching lambdify(::Base.#sin)\u001b[0m\nClosest candidates are:\n  lambdify(\u001b[91m::SymPy.Sym\u001b[39m) at /home/juser/.julia/v0.6/SymPy/src/lambdify.jl:143\n  lambdify(\u001b[91m::SymPy.Sym\u001b[39m, \u001b[91m::Any\u001b[39m; typ, fns, values) at /home/juser/.julia/v0.6/SymPy/src/lambdify.jl:143\u001b[39m",
     "output_type": "error",
     "traceback": [
      "\u001b[91mMethodError: no method matching lambdify(::Base.#sin)\u001b[0m\nClosest candidates are:\n  lambdify(\u001b[91m::SymPy.Sym\u001b[39m) at /home/juser/.julia/v0.6/SymPy/src/lambdify.jl:143\n  lambdify(\u001b[91m::SymPy.Sym\u001b[39m, \u001b[91m::Any\u001b[39m; typ, fns, values) at /home/juser/.julia/v0.6/SymPy/src/lambdify.jl:143\u001b[39m",
      "",
      "Stacktrace:",
      " [1] \u001b[1minclude_string\u001b[22m\u001b[22m\u001b[1m(\u001b[22m\u001b[22m::String, ::String\u001b[1m)\u001b[22m\u001b[22m at \u001b[1m./loading.jl:515\u001b[22m\u001b[22m"
     ]
    }
   ],
   "source": []
  },
  {
   "cell_type": "code",
   "execution_count": null,
   "metadata": {},
   "outputs": [],
   "source": []
  }
 ],
 "metadata": {
  "kernelspec": {
   "display_name": "Julia 0.6.0",
   "language": "julia",
   "name": "julia-0.6"
  },
  "language_info": {
   "file_extension": ".jl",
   "mimetype": "application/julia",
   "name": "julia",
   "version": "0.6.0"
  }
 },
 "nbformat": 4,
 "nbformat_minor": 2
}
