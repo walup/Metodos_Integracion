{
 "cells": [
  {
   "cell_type": "markdown",
   "metadata": {},
   "source": [
    "Vamos a hacer una función que nos regrese la formula de integración de Newton Cotes de orden n\n",
    "\n",
    "Si recordamos, lo que debemos hacer para obtenerla es primero interpolar la función utilizando n+1 puntos ${x_{0},x_{1},...,x_{n}}$ los cuales tienen un espaciado regular: $x_{i} = x_{i-1}+h$ donde $h = \\frac{x_{n}-x_{0}}{n}$ la interpolación es la de Lagrange. Posteriormente hacemos la integral desde $x_{0}$ a $x_{n}$ del polinomio. "
   ]
  },
  {
   "cell_type": "code",
   "execution_count": 69,
   "metadata": {},
   "outputs": [
    {
     "data": {
      "text/plain": [
       "lagrangeInterpolation (generic function with 1 method)"
      ]
     },
     "execution_count": 69,
     "metadata": {},
     "output_type": "execute_result"
    }
   ],
   "source": [
    "#=Hacemos una rutina que interpole una funcion con n puntos, usando un espaciado regular=#\n",
    "\n",
    "using SymPy\n",
    "\n",
    "function lagrangeInterpolation(N)\n",
    "    g = SymFunction(\"f\")\n",
    "    x0 = Sym(\"x_0\")\n",
    "    x = Sym(\"x\")\n",
    "    points = []\n",
    "    push!(points,x0)\n",
    "    h = Sym(\"h\")\n",
    "    #=We create all the symbols for each point=#\n",
    "    \n",
    "    for i in 1:N\n",
    "       push!(points,Sym(xSubscriptSym(i))) \n",
    "    end\n",
    "    \n",
    "    sum = SymFunction(\"sum\")\n",
    "    lagrangeTerm = SymFunction(\"lagrangeTerm\")\n",
    "    lagrangeTerm = 1\n",
    "    sum = 0\n",
    "    \n",
    "    for i in 1:N+1\n",
    "        lagrangeTerm  = 1\n",
    "        for j in 1:N+1\n",
    "            if(j!=i)\n",
    "                \n",
    "               lagrangeTerm = lagrangeTerm*(x-points[j])/((points[i])-points[j])\n",
    "               lagrangeTerm = subs(lagrangeTerm,points[j]=>points[1]+(j-1)*h)\n",
    "               lagrangeTerm = subs(lagrangeTerm,points[i]=>points[1]+(i-1)*h) \n",
    "            \n",
    "            end\n",
    "    end\n",
    "          sum+=g(points[i])*lagrangeTerm\n",
    "end\n",
    "    return sum \n",
    "end"
   ]
  },
  {
   "cell_type": "code",
   "execution_count": 70,
   "metadata": {},
   "outputs": [
    {
     "data": {
      "text/latex": [
       "$$- \\frac{1}{h^{2}} \\left(x - x_{0}\\right) \\left(- 2 h + x - x_{0}\\right) f{\\left (x_{1} \\right )} + \\frac{f{\\left (x_{2} \\right )}}{2 h^{2}} \\left(x - x_{0}\\right) \\left(- h + x - x_{0}\\right) + \\frac{f{\\left (x_{0} \\right )}}{2 h^{2}} \\left(- 2 h + x - x_{0}\\right) \\left(- h + x - x_{0}\\right)$$"
      ],
      "text/plain": [
       "  (x - x_0)*(-2*h + x - x_0)*f(x_1)   (x - x_0)*(-h + x - x_0)*f(x_2)   (-2*h \n",
       "- --------------------------------- + ------------------------------- + ------\n",
       "                   2                                   2                      \n",
       "                  h                                 2*h                       \n",
       "\n",
       "+ x - x_0)*(-h + x - x_0)*f(x_0)\n",
       "--------------------------------\n",
       "              2                 \n",
       "           2*h                  "
      ]
     },
     "execution_count": 70,
     "metadata": {},
     "output_type": "execute_result"
    }
   ],
   "source": [
    "lagrangeInterpolation(2)"
   ]
  },
  {
   "cell_type": "code",
   "execution_count": 73,
   "metadata": {},
   "outputs": [
    {
     "data": {
      "text/plain": [
       "newtonCotes (generic function with 1 method)"
      ]
     },
     "execution_count": 73,
     "metadata": {},
     "output_type": "execute_result"
    }
   ],
   "source": [
    "#=Aqui obtendremos Newton Cotes=#\n",
    "function newtonCotes(N)\n",
    "    \n",
    "    l = lagrangeInterpolation(N)\n",
    "    x0 = Sym(\"x_0\")\n",
    "    h = Sym(\"h\")\n",
    "    xn =x0 +N*h\n",
    "    \n",
    "    newtonCotes = simplify(integrate(l,(Sym(\"x\"),x0,xn)))\n",
    "    \n",
    "    \n",
    "    \n",
    "    return newtonCotes\n",
    "end\n"
   ]
  },
  {
   "cell_type": "code",
   "execution_count": 74,
   "metadata": {},
   "outputs": [
    {
     "data": {
      "text/latex": [
       "$$\\frac{h}{3} \\left(f{\\left (x_{0} \\right )} + 4 f{\\left (x_{1} \\right )} + f{\\left (x_{2} \\right )}\\right)$$"
      ],
      "text/plain": [
       "h*(f(x_0) + 4*f(x_1) + f(x_2))\n",
       "------------------------------\n",
       "              3               "
      ]
     },
     "execution_count": 74,
     "metadata": {},
     "output_type": "execute_result"
    }
   ],
   "source": [
    "#=La regla de simpson=#\n",
    "newtonCotes(2)"
   ]
  },
  {
   "cell_type": "code",
   "execution_count": 75,
   "metadata": {},
   "outputs": [
    {
     "data": {
      "text/latex": [
       "$$\\frac{h}{2} \\left(f{\\left (x_{0} \\right )} + f{\\left (x_{1} \\right )}\\right)$$"
      ],
      "text/plain": [
       "h*(f(x_0) + f(x_1))\n",
       "-------------------\n",
       "         2         "
      ]
     },
     "execution_count": 75,
     "metadata": {},
     "output_type": "execute_result"
    }
   ],
   "source": [
    "#=La regla del trapecio=#\n",
    "\n",
    "newtonCotes(1)"
   ]
  },
  {
   "cell_type": "code",
   "execution_count": null,
   "metadata": {},
   "outputs": [],
   "source": []
  }
 ],
 "metadata": {
  "kernelspec": {
   "display_name": "Julia 0.6.0",
   "language": "julia",
   "name": "julia-0.6"
  },
  "language_info": {
   "file_extension": ".jl",
   "mimetype": "application/julia",
   "name": "julia",
   "version": "0.6.0"
  }
 },
 "nbformat": 4,
 "nbformat_minor": 2
}
