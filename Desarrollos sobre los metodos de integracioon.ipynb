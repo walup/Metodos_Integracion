{
 "cells": [
  {
   "cell_type": "markdown",
   "metadata": {},
   "source": [
    "# Métodos adaptivos de cuadratura"
   ]
  },
  {
   "cell_type": "markdown",
   "metadata": {
    "collapsed": true
   },
   "source": [
    "En este caso se basará en la regla compuesta de Simpson, queriendo aproximar $\\int _a^b f(x) \\ dx$ con una toleracia $\\epsilon > 0$. Lo primero que se realiza es utilizar el método compuesto de Simpson con un tamaño $h=\\frac{b-a}{2}$ lo que nos quedaría\n",
    "\n",
    "__Ecuación 1__ \n",
    "$$\\int_a^b f(x) \\ dx = \\frac{h}{3} \\left[ f(a)+4f(a+h)+f(b) \\right] - \\frac{h^5}{90}f^{(4)}(\\mu)$$\n",
    "con $\\mu $ en $(a,b)$, error es el último término, donde \n",
    "$$S(a,b)=\\frac{h}{3}[f(a)+4f(a+h)f(b)]$$\n",
    "\n",
    "Ahora para estimar la precisión de la aproximación pero evitando calcular $f^{(4)}(\\mu)$ volvemos a plicar Simpson pero con m=2 y un tamaño de paso $\\frac{b-a}{4}=\\frac{h}{2}$ tendremos que \n",
    "\n",
    "__Ecuación 2__\n",
    "$$ \\int_a^bf(x)dx = \\frac{h}{6} \\left[ f(a) +4f(a+\\frac{h}{2})+2f(a+h)+4f(a+\\frac{3h}{2})+f(b) \\right] - (\\frac{h}{2})^4\\frac{b-a}{180}f^{(4)}(\\tilde \\mu)$$  \n",
    "\n",
    "para alguna $\\tilde \\mu$ en $(a,b)$, para simplificar sea:\n",
    "\n",
    "$$S\\left(a,\\frac{a+b}{2}\\right)=\\frac{h}{6} \\left[ f(a)+4f(a+\\frac{h}{2})+f(a+h) \\right]$$\n",
    "$$S\\left(\\frac{a+b}{2},b\\right)=\\frac{h}{6} \\left[ f(a+h)+4f(a+\\frac{3h}{2})+f(b) \\right]$$\n",
    "\n",
    "Entonces podemos re-escribir a la integral anterior como:\n",
    "\n",
    "__Ecuación 3__\n",
    "$$\\int_a^b f(x) \\ dx = \\left(a,\\frac{a+b}{2}\\right) + \\left(\\frac{a+b}{2},b\\right) - \\frac{1}{16} \\left (\\frac{h^5}{90} \\right)f^{(4)}(\\tilde \\mu)$$\n",
    "\n",
    "Para poder estimar el error se supone que $f^{(4)}(\\mu)=f^{(4)}(\\tilde \\mu)$, si la suposición llega a ser precisa, entonces nuestras __Ecuaciones 1 y 3__ implicarían que \n",
    "\n",
    "$$S\\left(a,\\frac{a+b}{2}\\right) + S\\left(\\frac{a+b}{2},b\\right) - \\frac{1}{16} \\left (\\frac{h^5}{90} \\right)f^{(4)}(\\tilde \\mu) \\approx S(a,b)- \\left (\\frac{h^5}{90} \\right)f^{(4)}( \\mu)$$\n",
    "\n",
    "$$\\left (\\frac{h^5}{90} \\right)f^{(4)}( \\mu) \\approx \\frac{16}{15} \\left[S(a,b)- S\\left(a,\\frac{a+b}{2}\\right) -S\\left(\\frac{a+b}{2},b\\right)\\right]$$\n",
    "\n",
    "Utilizando dicha estimación con la __Ecuación 3__ se obtendrá la estimación del error\n",
    "$$\\left |\\int_a^b f(x) dx - S\\left(a,\\frac{a+b}{2}\\right) - S\\left(\\frac{a+b}{2},b\\right) \\right| \\approx \\frac{1}{15} \\left| S(a,b)- S\\left(a,\\frac{a+b}{2}\\right) - S\\left(\\frac{a+b}{2},b\\right)\\right|$$\n",
    "\n",
    "Lo que daría que $S\\left(a,\\frac{a+b}{2}\\right)+S\\left(\\frac{a+b}{2},b\\right)$ da una aproximación de nuestra integral $\\int_a^b f(x) \\ dx$ 15 veces mejor que lo que ésta coincide con el valor conocido $S(a,b)$. Entonces tendríamos que $S\\left(a,\\frac{a+b}{2}\\right)+S\\left(\\frac{a+b}{2},b\\right)$ aprimará a nuestra integral con un erro que será menor a $\\epsilon$, tomando en cuenta que las dos aproximaciones $S\\left(a,\\frac{a+b}{2}\\right)+S\\left(\\frac{a+b}{2},b\\right)$ y $S(a,b)$ deberán ser diferentes menos de 15$\\epsilon$\n",
    "\n",
    "Teniendo que $$\\left| S(a,b)- S\\left(a,\\frac{a+b}{2}\\right)-S\\left(\\frac{a+b}{2},b\\right) \\right| < 15\\epsilon$$\n",
    "\n",
    "Entonces $$\\left|\\int_a^b f(x) dx - S\\left(a,\\frac{a+b}{2}\\right)-S\\left(\\frac{a+b}{2},b\\right) \\right| < \\epsilon$$\n",
    "\n",
    "Por lo que $$S\\left(a,\\frac{a+b}{2}\\right)+S\\left(\\frac{a+b}{2},b\\right)$$ sería una aproximación muy exacta de dicha integral"
   ]
  },
  {
   "cell_type": "markdown",
   "metadata": {},
   "source": [
    "# Integración de Romberg"
   ]
  },
  {
   "cell_type": "markdown",
   "metadata": {},
   "source": [
    "Lo primero que se debe tomar en cuenta es recordar el método de integración de trapecio extendida para hacer aproximaciones de una función $f(x)$ en un intervalo $[a,b]$ usando $m$ subintervalos, donde $h=\\frac{b-a}{m}$\n",
    "\n",
    "$$\\int_a^b f(x) dx = \\frac{h}{2} \\left( f(a)+f(b)+2\\sum_{j=1}^{m-1} f(x_j)\\right)$$\n",
    "\n",
    "Para el primer paso haremos aproximaciones con $m_1=1, \\ m_2=2,..., \\ m_n=2^{n-1}$, con $n$ un entero positivo. Para conocer el tamaño de los pasos, $h_k$, tendremos $h_k= \\frac{b-a}{2^{k-1}}$, lo que nos daría\n",
    "\n",
    "$$R_{k,1}=\\int_a^b f(x) dx = \\frac{h_k}{2} \\left[ f(a) + f(b) +2 \\left( \\sum_{i=1}^{2^{k-1}-1}f(a+ih_k)\\right)   \\right]$$\n",
    "\n",
    "Expresaremos para $$R_{1,1}=\\frac{h_1}{2}[f(a)+f(b)]=\\frac{b-a}{2}[f(a)+f(b)]$$\n",
    "$$R_{2,1}=\\frac{h_2}{2}[f(a)+f(b)+2f(a+h_2)] $$\n",
    "$$=\\frac{b-a}{4}\\left[f(a)+f(b)+2f\\left(a+\\frac{b-a}{2}\\right)\\right]$$\n",
    "$$=\\frac{1}{2} \\left[R_{1,1}+h_1f(a+\\frac{1}{2}h_1\\right]$$\n",
    "\n",
    "y en general podemos obtener la siguiente expresión para $k=1,2,3, \\ldots , n$, que serían los valores de la primera columna, dado un arreglo matricial diagonal.\n",
    "\n",
    "$$R_{k,1}=\\frac{1}{2} \\left[ R_{k-1,1} + h_{k-1} \\sum_{i=1}^{2^{k-2}}f \\left(a+\\left(i-\\frac{1}{2}\\right)h_{k-1} \\right) \\right] $$\n",
    "\n",
    "Para poder seguir avanzando en niveles (columnas) , y llegar a una estimación más precisa se aplica la extrapolación de Richardson\n",
    "\n",
    "$$R_{i,j}=\\frac{4^{j-1}R_{i,j-1}-R_{i-1,j-1}}{4^{j-1}-1}$$\n",
    "\n",
    "Al final obtendríamos una representación como la que se muestra abajo.\n",
    "\\begin{array}\n",
    "$R_{1,1} \\\\\n",
    "R_{2,1} & R_{2,2}\\\\\n",
    "R_{3,1} & R_{3,2} &  R_{3,3}\\\\\n",
    "R_{4,1} & R_{4,2} &  R_{4,3} & R_{4,4}\\\\\n",
    "... & ...& ...&... & \\ddots\\\\\n",
    "R_{n,1} & R_{n,2} & R_{n,3} & R_{n,4} &...& R_{n,n}\\\\\n",
    "\\end{array}"
   ]
  },
  {
   "cell_type": "markdown",
   "metadata": {},
   "source": [
    "# Cuadratura Gaussiana"
   ]
  },
  {
   "cell_type": "markdown",
   "metadata": {
    "collapsed": true
   },
   "source": [
    "Para las fórmulas de Newton-Cotes, los puntos de integración están separdas de forma equidistante, pero pueden escogerse de una diferente manera para poder tener una mejor aproximación a la hora de resolver la integral. Este procedimiento nos permite escoger valores $x_1,x_2, ... ,x_2$ en un intervalo $[a,b]$ y constantes $c_1,c_2, ... c_n$ que pudieran minimizar el error al hacer la aproximación,teniendo $2n$ parámetros que están presentes, dados por las $x_i $ y por las $c_i$\n",
    "\n",
    "$$ \\int_a^b = \\sum_{i=1}^n c_i \\ f(x_i)$$\n",
    "\n",
    "Recordando ue un conjunto de funciones ${\\phi_0, \\phi_1, .... \\phi_n}$ es ortogonal en el intervalo $[a,b]$ respecto de una función de peso $w(x) \\geq 0$ debe cumplir que es $0$ cuando $j \\neq k$ y positiva con $j=k$\n",
    " \n",
    "Si tenemos en mente lo siguiente:  \n",
    "\n",
    "__Teorema__ Si ${\\phi_0, \\phi_1, ... , \\phi_k}$  es un conjunto de polinomios ortogonales que se encuentras definidos en un intervalo $[a,b]$ con respecto a una función de peso continua $w$ y $\\phi_k$ es un polinomio de grado $k$ para cada $k=0,1,...,n$ entonces nuestro polinomio tiene $k$ raíces difereentes y éstas también se encontrarán en dicho intervalo $(a,b)$\n",
    "\n",
    "Un tipo de polinomios son ortogonales en un interval $[-1,1]$, éstos son los llamados Polinomios de Legendre, que tienen n-raices distitnas las cuales se encuentras en $(-1,1)$\n",
    "\n",
    "Si aproximamos una función con el polinomio interpolante de Lagrange en $x_1,x_2,...,x_n$ tendríamos que \n",
    "\n",
    "$$f(x)= \\sum_{i=1}^{n} \\prod_{{j=1}{j \\neq i}}^n \\frac{x-x_j}{x_i-x_j} f(x_i)+\\frac{f^{(n)}(\\xi(x))}{n!}\\prod _{i=1}^n (x-x_i)$$\n",
    "\n",
    "Dado que la fórmula del error involucra a $^{(n)}$, la regla de cuadratura $$ \\int_{-1}^1 f(x) \\ dx \\approx \\sum_{i=1}^{n} c_if(x_i) $$\n",
    " donde los valores de las $c$ las podemos definir de la siguiente manera \n",
    "$$c_i=\\int_{-1}^1 \\prod_{j=1, j\\neq i}^{n} \\frac{x-x_j}{x_i-x_j} \\ dx$$\n",
    "debe tener un grado de precisión de por lo menos $n-1$\n",
    "\n",
    "Sunpongamos que $P$ es uno de esos polinomios, si se divide entre el polinomio de Legendre $P_n$ de n-ésimo grado, nos quedaría \n",
    "\n",
    "$$P(x)=Q(x)P_n(x)+R(x)$$\n",
    "\n",
    "donde $Q$ y $R$ también serán polinomio pero de grado menor que $n$. Con esto podemos expresar a $Q(x)$ de la siguiente manera\n",
    "\n",
    "$$Q(x)= \\sum_{i=0}^{n-1} \\ d_i \\ P_i(x)$$\n",
    "para algunas constantes $d_i$ y como los Polinomio de Legendre son ortogonales en $[-1,1]$  entonces\n",
    "\n",
    "$$\\int_{-1}^1 Q(x)P_n(x)dx = \\sum_{i=0}^{n-1} \\ d_i \\ \\int_{-1}^{1}P_i(x)P_n(x) \\ dx = 0$$\n",
    "\n",
    "$$\\int _{-1}^{1} P(x)dx = \\int_{-1}^1 Q(x)P_n(x)dx + \\int_{-1}^{1} R(x)dx = \\int_{-1}^{1} R(x)dx$$\n",
    "\n",
    "Ya que la regla de cuadratura tiene un grado de precisión de por lo menos $n-1$ el máximo grado de $R$ se tiene que\n",
    "\n",
    "$$\\int _{-1}^{1} P(x)dx = \\int_{-1}^{1} R(x)dx = \\sum_{i=1}^{n} c_{i}R(x_i) $$\n",
    "\n",
    "Pero como $x_i$ con $i=1,2, ... , n$ es una raiiz de $P_n$\n",
    "\n",
    "$$P(x_i)=Q(x_i)P_n(x_i)+R(x_i)= 0 + R(x_i)=R(x_i)$$\n",
    "\n",
    "Entonces la fórmula de cuadratura es exacta para $P$  ya que\n",
    "\n",
    "$$\\int_{-1}^{1} \\ P(x)dx = \\sum_{i=1}^{n} c_i P(x_i)$$\n",
    "\n",
    "Usando que la transformación lineal $t=\\left[ \\frac{1}{b-a} \\right]$ (2x-a-b) traslada cualquier intervalo $[a,b]$ a $[-1,1]$ si $b>a$, se puede utilizar los polinomios de Legendre para aproximar\n",
    "\n",
    "$$\\int_a^b \\ f(x) \\ dx = \\int_{-1}^{1} f\\left( \\frac{(b-a)t +b+a}{2}  \\right) \\frac{b-a}{2} \\ dt$$"
   ]
  },
  {
   "cell_type": "markdown",
   "metadata": {},
   "source": [
    "# Integrales múltiples"
   ]
  },
  {
   "cell_type": "markdown",
   "metadata": {
    "collapsed": true
   },
   "source": [
    "En este caso se trabajará con integrales dobles  $ \\iint \\limits_{R} f(x,y) \\ dA$ donde $R$ será nuestra región rectangular $R=\\{ (x,y) | a\\leq x \\leq b,  \\ c\\leq y \\leq d \\}$. Aquí se utilizará la regla compuesta de Simpson.  \n",
    "Supongamos que $n$ y $m$ son número enteros que nos servirán para obtener los tamaños de los pasos $h=\\frac{b-a}{2n}$ y $k=\\frac{d-c}{2m}$. Y re-escribiendo la integral como un integral doble iterada.\n",
    "$$\\iint \\limits_{R} f(x,y) \\ dA = \\int _a^b \\left( \\int _c^d f(x,y) \\ dy \\right) dx$$\n",
    "\n",
    "Primero se utilizará la regla compuesta de Simpson para la integral de adentro del paréntesis.\n",
    "\n",
    "Ahora tomando $y_j=c+jk$ para cada $j=0,1, ... , 2m$ obtendríamos\n",
    "\n",
    "$$\\int _c^d f(x,y)dy = \\frac{k}{3} \\left [ f(x,y_0) + 2 \\sum_{j=1}^{m-1} f(x,y_{2j}) + 4 \\sum_{j=1}^{m} f(x,y_{2j-1}+f(x,y_{2m}))\\right ] - \\frac{(d-c)k^4}{180}\\frac{\\partial^4 f(x,\\mu)}{\\partial y^4}$$\n",
    "\n",
    "para alguna $\\mu$ en $(c,d)$, si ahora introducimos $\\int_a^b dx$ y multiplicamos por $\\frac{k}{3}$, obtendríamos  \n",
    "\n",
    "$$\\int _a^b \\int _c^d f(x,y)dy \\ dx = \\frac{k}{3} \\int _a^b  f(x,y_0) dx + \\frac{2k}{k} \\sum_{j=1}^{m-1}  \\int _a^b  f(x,y_{2j})dx  + \\frac{4k}{3} \\sum_{j=1}^{m}  \\int _a^b  f(x,y_{2j-1})dx + \\frac{k}{3} \\int _a^b f(x,y_{2m})) dx - \\frac{(d-c)k^4}{180} \\int _a^b \\frac{\\partial^4 f(x,\\mu)}{\\partial y^4} \\ dx$$\n",
    "\n",
    "\n",
    "Ahora la regla compuesta de Simpson se emplea en cada una de la integrales, de la ecuación anterior. Tomando $x_i = a+ih$ para $i=,0,1, ... ,2n$ se obtiene para da $j=0,1, ..., 2m$. Teniendo que la integral resulta de la siguiente forma\n",
    "\n",
    "$$ \\int_a^b f(x,y_j)dx = \\frac{h}{3} \\left[ f(x_0,y_j) + 2 \\sum _{i=1}^{n-1}f(x_{2i},y_j) + 4\\sum _{i=1}^{n} f(x_{2i},y_j)+f(x_{2n},y_j) \\right] -\\frac{b-a}{180}h^4 \\frac{\\partial^4f}{\\partial x^4}(\\xi_j,y_j)$$\n",
    "\n",
    "para alguna $\\xi_j$ en $(a,b)$. Lo que nos daría que la aproximación tiene la forma\n",
    "\n",
    "$$\\int _a^b \\int _c^d f(x,y) dy dx \\approx \\frac{h}{3} \\left [ f(x_0,y_j) + 2\\sum _{i=1}^{n-1}f(x_{2i},y_0) + 4\\sum _{i=1}^n f(x_{2i-1},y_0)\\\\\n",
    "+f(x_{2n},y_0) + 2\\sum_{j=1}^{m-1}f(x_0,y_{2j}) + 4\\sum_{j=1}^{m-1} \\sum_{i=1}^{n-1}f(x_{2i},y_{2j}) \\\\\n",
    "+8 \\sum_{j=1}^{m-1} \\sum_{i=1}^{n} f(x_{2i-1},y_{2j}) + 2\\sum_{j=1} ^{m-1} f(x_{2n},y_{2j}) \\\\\n",
    "+4 \\sum_{j=1}^{m}f(x_0,y_{2j-1}) + 8\\sum_{j=1}^{m} \\sum_{i=1}^{n-1} f(x_{2i},y_{2j-1}) \\\\\n",
    "+16 \\sum_{j=1}^{m}\\sum_{i=1}^{n} f(x_{2i},y_{2j-1}) + 4\\sum_{j=1}^m f(x_{2n},y_(2j-1)\\\\\n",
    "+f(x_0,y_{2m}) + 2\\sum_{i=1}^{n-1}f(x_{2i},y_{2m}) + 4\\sum_{i=1}^{n}f(x_{2i-1},y_{2m})\\\\\n",
    "+f(x_{2n},y_{2m})\\right]$$"
   ]
  },
  {
   "cell_type": "code",
   "execution_count": null,
   "metadata": {
    "collapsed": true
   },
   "outputs": [],
   "source": []
  }
 ],
 "metadata": {
  "kernelspec": {
   "display_name": "Julia 0.6.0",
   "language": "julia",
   "name": "julia-0.6"
  },
  "language_info": {
   "file_extension": ".jl",
   "mimetype": "application/julia",
   "name": "julia",
   "version": "0.6.0"
  }
 },
 "nbformat": 4,
 "nbformat_minor": 2
}
