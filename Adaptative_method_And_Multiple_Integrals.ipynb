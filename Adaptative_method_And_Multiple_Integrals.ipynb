{
 "cells": [
  {
   "cell_type": "markdown",
   "metadata": {},
   "source": [
    "## Método adaptativo\n"
   ]
  },
  {
   "cell_type": "code",
   "execution_count": 1,
   "metadata": {},
   "outputs": [
    {
     "data": {
      "text/plain": [
       "Sumation (generic function with 1 method)"
      ]
     },
     "execution_count": 1,
     "metadata": {},
     "output_type": "execute_result"
    }
   ],
   "source": [
    "#Esta funcion calcula aplica la regla de simpson a cada mitad de intervalo delta y te regresa la suma de esos dos intervalos\n",
    "function Sumation(f,ai,bi,deltax)\n",
    "  ci=(bi+ai)/2\n",
    "    ci1=(ai+ci)/2\n",
    "    ci2=(ci+bi)/2\n",
    "    S1=(deltax/12)*(f(ai)+f(ci1)+f(ci))\n",
    "    S2=(deltax/12)*(f(ci)+f(ci2)+f(bi))\n",
    "    return S1+S2\n",
    "end"
   ]
  },
  {
   "cell_type": "code",
   "execution_count": 2,
   "metadata": {},
   "outputs": [
    {
     "data": {
      "text/plain": [
       "Iteration (generic function with 1 method)"
      ]
     },
     "execution_count": 2,
     "metadata": {},
     "output_type": "execute_result"
    }
   ],
   "source": [
    "#esta funciòn te da la suma de cuatro intervalos a partir de otro. \n",
    "function Iteration(f,ai,bi,deltax)\n",
    "    c1i=(bi+ai)/2\n",
    "    S0=Sumation(f,ai,c1i,deltax)+Sumation(f,c1i,bi,deltax)\n",
    "    return S0\n",
    "end"
   ]
  },
  {
   "cell_type": "code",
   "execution_count": 3,
   "metadata": {},
   "outputs": [
    {
     "data": {
      "text/plain": [
       "ErrorCalculator (generic function with 1 method)"
      ]
     },
     "execution_count": 3,
     "metadata": {},
     "output_type": "execute_result"
    }
   ],
   "source": [
    "#esta función calcula el error correspondiente a cada intervalo en la integracion\n",
    "function ErrorCalculator(f,ai,bi,deltax)\n",
    "    ci=(bi+ai)/2\n",
    "    ci1=(ai+ci)/2\n",
    "    ci2=(ci+bi)/2\n",
    "    S1=(deltax/6)*(f(ai)+f(ci1)+f(ci))\n",
    "    S2=(deltax/6)*(f(ci)+f(ci2)+f(bi))\n",
    "    Simp=(deltax/6)*(f(ai)+4*f(ci)+f(bi))\n",
    "    Error=(1/10)*(abs(Simp-S1+S2))\n",
    "    return Error\n",
    "end"
   ]
  },
  {
   "cell_type": "code",
   "execution_count": 4,
   "metadata": {},
   "outputs": [
    {
     "data": {
      "text/plain": [
       "AdaptativeMethod (generic function with 1 method)"
      ]
     },
     "execution_count": 4,
     "metadata": {},
     "output_type": "execute_result"
    }
   ],
   "source": [
    "#El conjunto de funciones se integran en la regla de simson adaptativa. \n",
    "function AdaptativeMethod(f,a,b,n,tolerance)\n",
    "   deltax=(b-a)/(n)\n",
    "    S=0.0\n",
    "    xm=0.0\n",
    "    So=0.0\n",
    "    x0=a\n",
    "    x1=0.0\n",
    "   for i in 1:n\n",
    "        x1=a+i*deltax\n",
    "        xm=(x1+x0)*(1/2)\n",
    "         if ErrorCalculator(f,x1,x0,deltax)<tolerance\n",
    "          S=(deltax/6)*(f(x0)+4*f(xm)+f(x1))+So\n",
    "        else \n",
    "            S=Iteration(f,x1,x0,deltax)+So\n",
    "    end\n",
    "     So=S\n",
    "     x0=x1\n",
    "end \n",
    "    return So\n",
    "end\n"
   ]
  },
  {
   "cell_type": "markdown",
   "metadata": {},
   "source": [
    "### Pruebas "
   ]
  },
  {
   "cell_type": "code",
   "execution_count": 5,
   "metadata": {},
   "outputs": [
    {
     "data": {
      "text/plain": [
       "2.000006784441801"
      ]
     },
     "execution_count": 5,
     "metadata": {},
     "output_type": "execute_result"
    }
   ],
   "source": [
    "AdaptativeMethod(x->sin(x),0.0,pi,10,0.1)"
   ]
  },
  {
   "cell_type": "code",
   "execution_count": 6,
   "metadata": {},
   "outputs": [
    {
     "data": {
      "text/plain": [
       "0.3102683016733105"
      ]
     },
     "execution_count": 6,
     "metadata": {},
     "output_type": "execute_result"
    }
   ],
   "source": [
    "AdaptativeMethod(x->sin(x^2),0.0,1.0, 100,0.1)"
   ]
  },
  {
   "cell_type": "code",
   "execution_count": 7,
   "metadata": {},
   "outputs": [
    {
     "data": {
      "text/plain": [
       "2.0"
      ]
     },
     "execution_count": 7,
     "metadata": {},
     "output_type": "execute_result"
    }
   ],
   "source": [
    "AdaptativeMethod(x->x,0.0, 2.0,100,0.001)"
   ]
  },
  {
   "cell_type": "code",
   "execution_count": 8,
   "metadata": {},
   "outputs": [
    {
     "data": {
      "text/plain": [
       "-3.3306690738754696e-16"
      ]
     },
     "execution_count": 8,
     "metadata": {},
     "output_type": "execute_result"
    }
   ],
   "source": [
    "AdaptativeMethod( x->cos(x),0.0, 2*pi,10,0.1)"
   ]
  },
  {
   "cell_type": "code",
   "execution_count": 9,
   "metadata": {},
   "outputs": [
    {
     "data": {
      "text/plain": [
       "1-element Array{Int64,1}:\n",
       " 3"
      ]
     },
     "execution_count": 9,
     "metadata": {},
     "output_type": "execute_result"
    }
   ],
   "source": [
    "3*[2-1]"
   ]
  },
  {
   "cell_type": "markdown",
   "metadata": {},
   "source": [
    "## Integrales Multiples"
   ]
  },
  {
   "cell_type": "code",
   "execution_count": 10,
   "metadata": {},
   "outputs": [
    {
     "data": {
      "text/plain": [
       "DoubleIntegrlalsSimpsonRule (generic function with 1 method)"
      ]
     },
     "execution_count": 10,
     "metadata": {},
     "output_type": "execute_result"
    }
   ],
   "source": [
    "## Regla de Simpson para integrales multiples\n",
    "function DoubleIntegrlalsSimpsonRule(f,a,b,c,d,n)\n",
    "    h=(b-a)/(n)\n",
    "    S=0.0\n",
    "    xm=0.0\n",
    "    So=0.0\n",
    "    x0=a\n",
    "    x1=0.0\n",
    "    k(x)=(d(x)-c(x))/2\n",
    "    for i in 1:n\n",
    "        x1=a+i*h\n",
    "        xm=(x1+x0)*(1/2)\n",
    "        S1=(k(x0)/3)*[f(x0,c(x0))+4*f(x0,c(x0)+k(x0))+f(x0,d(x0))]\n",
    "        S2=(4*k(xm)/3)*[f(xm,c(xm))+4f(xm,c(xm)+k(xm))+f(xm,d(xm))]\n",
    "        S3=(k(x1)/3)*[f(x1,c(x1))+4*f(x1,c(x1)+k(x1))+f(x1,d(x1))]\n",
    "        S=(h/6)*(S1+S2+S3)+So\n",
    "        So=S\n",
    "        x0=x1\n",
    "    end\n",
    "    return So\n",
    "end"
   ]
  },
  {
   "cell_type": "markdown",
   "metadata": {},
   "source": [
    "## Pruebas"
   ]
  },
  {
   "cell_type": "code",
   "execution_count": 11,
   "metadata": {},
   "outputs": [
    {
     "data": {
      "text/plain": [
       "1-element Array{Float64,1}:\n",
       " 0.0333056"
      ]
     },
     "execution_count": 11,
     "metadata": {},
     "output_type": "execute_result"
    }
   ],
   "source": [
    "DoubleIntegrlalsSimpsonRule((x,y)->e^(y/x), 0.1,0.5,x->x^3,x->x^2,100)"
   ]
  },
  {
   "cell_type": "code",
   "execution_count": 12,
   "metadata": {},
   "outputs": [
    {
     "data": {
      "text/plain": [
       "1-element Array{Float64,1}:\n",
       " 1.0"
      ]
     },
     "execution_count": 12,
     "metadata": {},
     "output_type": "execute_result"
    }
   ],
   "source": [
    "DoubleIntegrlalsSimpsonRule((x,y)->x^2+y^3, 0.0,1,x->x,x->2x,100)"
   ]
  },
  {
   "cell_type": "code",
   "execution_count": null,
   "metadata": {},
   "outputs": [],
   "source": []
  },
  {
   "cell_type": "code",
   "execution_count": null,
   "metadata": {},
   "outputs": [],
   "source": []
  }
 ],
 "metadata": {
  "kernelspec": {
   "display_name": "Julia 0.6.0",
   "language": "julia",
   "name": "julia-0.6"
  },
  "language_info": {
   "file_extension": ".jl",
   "mimetype": "application/julia",
   "name": "julia",
   "version": "0.6.0"
  }
 },
 "nbformat": 4,
 "nbformat_minor": 2
}
