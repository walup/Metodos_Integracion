{
 "cells": [
  {
   "cell_type": "markdown",
   "metadata": {},
   "source": [
    "<div style=\"text-align: center\">\n",
    "# Proyecto: Métodos de Integración\n",
    "\n",
    "**Juan Samuel Osnaya** \n",
    "\n",
    "**Francisco Ricardo Torres Arvizu** \n",
    "\n",
    "**Juan Uriel Legaria Peña**\n"
   ]
  },
  {
   "cell_type": "markdown",
   "metadata": {},
   "source": [
    "# 1.-Newton Cotes"
   ]
  },
  {
   "cell_type": "markdown",
   "metadata": {},
   "source": [
    "\n",
    "El método de Newton Cotes, para aproximar la integral de una función $f(x)$ en un intervalo $\\left[a,b\\right]$ consiste en aproximar un polinomio a la función usando la interpolación de Lagrange, y posteriormente integrar dicho polinomio. Los puntos que se utilizan para la interpolación estan igualmente espaciados y en consecuencia este método es insensible al hecho de que podría haber regiones del intervalo que contribuyan en mayor magnitud al valor de la integral. El número de puntos utilizados determina el grado del polinomio que aproxima a la función (Si $N$ es el número de puntos, entonces el polinomio es de grado $N-1$), y también el orden de la aproximación. Con el orden de la aproximación nos referimos, al entero $m$ tal que para polinomios de grado menor a $m$ la integral da un valor exacto. \n",
    "\n",
    "Solo para poner en concreto las ideas anteriores, haremos el ejemplo en que tomamos dos puntos: los extremos $a$ y $b$ para hacer la aproximación. tendremos el polinomio de Lagrange\n",
    "\n",
    "$$P(x) = \\frac{x-a}{b-a}f(a) +\\frac{x-b}{a-b}f(b) = \\frac{xf(a)-af(a)-xf(b)+bf(b)}{b-a} = \\frac{x(f(a)-f(b))-af(a)+b(f(b))}{b-a} $$\n",
    "\n",
    "Esto lo integramos de $a$ a $b$\n",
    "\n",
    "\\begin{aligned}\n",
    "\\int_{a}^b P(x) &= \\frac{1}{b-a}\\left[(f(a)-f(b)) \\frac{b^2-a^2}{2}\\right] -af(a)-bf(b)\\\\\n",
    "& = \\frac{(f(a)-f(b))(b+a)}{2} -af(a)+bf(b)\\\\ \n",
    "&= \\frac{bf(a) +af(a) -bf(b) -af(b) -2af(a) +2bf(b)}{2}\\\\\n",
    "&= \\frac{bf(a)-af(a) +bf(b)-af(b)}{2} \\\\\n",
    "&=\\frac{(b-a)(f(a)+f(b))}{2}\n",
    "\\end{aligned}\n",
    "\n",
    "que es la conocida regla del trapecio. \n",
    "\n",
    "Esta da la integral exacta para funciones lineales, i.e. polinomios de grado menor a dos, por lo tanto el orden de esta aproximación es dos. \n",
    "\n",
    "En esta sección se construiran dos funciones, una que genere la forma simbolica de la aproximación de Newton Cotes de orden $n-1$ y otra que de la aproximación numérica. "
   ]
  },
  {
   "cell_type": "markdown",
   "metadata": {},
   "source": [
    "## 1.1.-Programa que genere la forma simbólica de la fórmula de Newton Cotes de orden n"
   ]
  },
  {
   "cell_type": "code",
   "execution_count": 132,
   "metadata": {},
   "outputs": [
    {
     "data": {
      "text/plain": [
       "xSubscriptSym (generic function with 1 method)"
      ]
     },
     "execution_count": 132,
     "metadata": {},
     "output_type": "execute_result"
    }
   ],
   "source": [
    "function xSubscriptSym(i)\n",
    "   a = \"x_\"\n",
    "   b = string(i)\n",
    "    \n",
    "    return string(a,b)\n",
    "    \n",
    "end"
   ]
  },
  {
   "cell_type": "code",
   "execution_count": 133,
   "metadata": {},
   "outputs": [
    {
     "data": {
      "text/plain": [
       "lagrangeInterpolation (generic function with 1 method)"
      ]
     },
     "execution_count": 133,
     "metadata": {},
     "output_type": "execute_result"
    }
   ],
   "source": [
    "#=Hacemos una rutina que interpole una funcion con n puntos, usando un espaciado regular=#\n",
    "\n",
    "using SymPy\n",
    "\n",
    "function lagrangeInterpolation(N)\n",
    "    g = SymFunction(\"f\")\n",
    "    x0 = Sym(\"x_0\")\n",
    "    x = Sym(\"x\")\n",
    "    points = []\n",
    "    push!(points,x0)\n",
    "    h = Sym(\"h\")\n",
    "    #=We create all the symbols for each point=#\n",
    "    \n",
    "    for i in 1:N-1\n",
    "       push!(points,Sym(xSubscriptSym(i))) \n",
    "    end\n",
    "    \n",
    "    sum = SymFunction(\"sum\")\n",
    "    lagrangeTerm = SymFunction(\"lagrangeTerm\")\n",
    "    lagrangeTerm = 1\n",
    "    sum = 0\n",
    "    \n",
    "    for i in 1:N\n",
    "        lagrangeTerm  = 1\n",
    "        for j in 1:N\n",
    "            if(j!=i)\n",
    "                \n",
    "               lagrangeTerm = lagrangeTerm*(x-points[j])/((points[i])-points[j])\n",
    "               lagrangeTerm = subs(lagrangeTerm,points[j]=>points[1]+(j-1)*h)\n",
    "               lagrangeTerm = subs(lagrangeTerm,points[i]=>points[1]+(i-1)*h) \n",
    "            \n",
    "            end\n",
    "    end\n",
    "          sum+=g(points[i])*lagrangeTerm\n",
    "end\n",
    "    return sum \n",
    "end"
   ]
  },
  {
   "cell_type": "code",
   "execution_count": 134,
   "metadata": {},
   "outputs": [
    {
     "data": {
      "text/plain": [
       "newtonCotes (generic function with 1 method)"
      ]
     },
     "execution_count": 134,
     "metadata": {},
     "output_type": "execute_result"
    }
   ],
   "source": [
    "#=Aqui obtendremos Newton Cotes=#\n",
    "function newtonCotes(N)\n",
    "    \n",
    "    l = lagrangeInterpolation(N)\n",
    "    x0 = Sym(\"x_0\")\n",
    "    h = Sym(\"h\")\n",
    "    xn =x0 +(N-1)*h\n",
    "    \n",
    "    newtonCotes = simplify(integrate(l,(Sym(\"x\"),x0,xn))) \n",
    "    return newtonCotes\n",
    "end\n"
   ]
  },
  {
   "cell_type": "code",
   "execution_count": 135,
   "metadata": {},
   "outputs": [
    {
     "data": {
      "text/latex": [
       "$$\\frac{h}{3} \\left(f{\\left (x_{0} \\right )} + 4 f{\\left (x_{1} \\right )} + f{\\left (x_{2} \\right )}\\right)$$"
      ],
      "text/plain": [
       "h*(f(x_0) + 4*f(x_1) + f(x_2))\n",
       "------------------------------\n",
       "              3               "
      ]
     },
     "execution_count": 135,
     "metadata": {},
     "output_type": "execute_result"
    }
   ],
   "source": [
    "#=La regla de simpson=#\n",
    "newtonCotes(3)"
   ]
  },
  {
   "cell_type": "code",
   "execution_count": 136,
   "metadata": {},
   "outputs": [
    {
     "data": {
      "text/latex": [
       "$$\\frac{h}{2} \\left(f{\\left (x_{0} \\right )} + f{\\left (x_{1} \\right )}\\right)$$"
      ],
      "text/plain": [
       "h*(f(x_0) + f(x_1))\n",
       "-------------------\n",
       "         2         "
      ]
     },
     "execution_count": 136,
     "metadata": {},
     "output_type": "execute_result"
    }
   ],
   "source": [
    "#=La regla del trapecio=#\n",
    "\n",
    "newtonCotes(2)"
   ]
  },
  {
   "cell_type": "markdown",
   "metadata": {},
   "source": [
    "## 1.2.-Programa que de el resultado numérico de una integral utilizando la fórmula de Newton Cotes de orden n"
   ]
  },
  {
   "cell_type": "code",
   "execution_count": 137,
   "metadata": {},
   "outputs": [
    {
     "data": {
      "text/plain": [
       "newtonCotesDefined (generic function with 1 method)"
      ]
     },
     "execution_count": 137,
     "metadata": {},
     "output_type": "execute_result"
    }
   ],
   "source": [
    "#=Ahora queremos hacer lo mismo, pero que f, este definida para poder utilizarla, hacemos entonces las\n",
    "versiones con funciones definidas de las rutinas anteriores. =#\n",
    "\n",
    "using SymPy\n",
    "\n",
    "function lagrangeInterpolationDefined(N,f)\n",
    "    x0 = Sym(\"x_0\")\n",
    "    x = Sym(\"x\")\n",
    "    g = f(x)\n",
    "    points = []\n",
    "    push!(points,x0)\n",
    "    h = Sym(\"h\")\n",
    "    #=We create all the symbols for each point=#\n",
    "    \n",
    "    for i in 1:N-1\n",
    "       push!(points,Sym(xSubscriptSym(i))) \n",
    "    end\n",
    "    \n",
    "    sum = SymFunction(\"sum\")\n",
    "    lagrangeTerm = SymFunction(\"lagrangeTerm\")\n",
    "    lagrangeTerm = 1\n",
    "    sum = 0\n",
    "    \n",
    "    for i in 1:N\n",
    "        lagrangeTerm  = 1\n",
    "        for j in 1:N\n",
    "            if(j!=i)\n",
    "                \n",
    "               lagrangeTerm = lagrangeTerm*(x-points[j])/((points[i])-points[j])\n",
    "               lagrangeTerm = subs(lagrangeTerm,points[j]=>points[1]+(j-1)*h)\n",
    "               lagrangeTerm = subs(lagrangeTerm,points[i]=>points[1]+(i-1)*h) \n",
    "            \n",
    "            end\n",
    "    end\n",
    "          sum+=g(points[i])*lagrangeTerm\n",
    "end\n",
    "    return sum \n",
    "end\n",
    "\n",
    "function newtonCotesDefined(N,f)\n",
    "    \n",
    "    l = lagrangeInterpolationDefined(N,f)\n",
    "    x0 = Sym(\"x_0\")\n",
    "    h = Sym(\"h\")\n",
    "    xn =x0 +(N-1)*h\n",
    "    \n",
    "    newtonCotes = simplify(integrate(l,(Sym(\"x\"),x0,xn)))\n",
    "    \n",
    "    return newtonCotes\n",
    "end\n",
    "\n"
   ]
  },
  {
   "cell_type": "code",
   "execution_count": 138,
   "metadata": {},
   "outputs": [
    {
     "data": {
      "text/plain": [
       "newtonCotesNumerical (generic function with 1 method)"
      ]
     },
     "execution_count": 138,
     "metadata": {},
     "output_type": "execute_result"
    }
   ],
   "source": [
    "function newtonCotesNumerical(f,x0,xf,order)\n",
    "    points = linspace(x0,xf,order)\n",
    "    g = newtonCotesDefined(order,f)\n",
    "    h = (xf-x0)/(order-1)\n",
    "    g = subs(g,Sym(\"h\")=>h)\n",
    "    for i in 1:size(points,1)\n",
    "       g = subs(g,Sym(xSubscriptSym(i-1))=>points[i])\n",
    "    end\n",
    "    return g\n",
    "end"
   ]
  },
  {
   "cell_type": "code",
   "execution_count": 139,
   "metadata": {},
   "outputs": [
    {
     "name": "stdout",
     "output_type": "stream",
     "text": [
      "Orden 2 4.00000000000000\n",
      "Orden 3 2.66666666666667\n",
      "Orden 4 2.66666666666667\n"
     ]
    }
   ],
   "source": [
    "#=Probemos con el tipico ejemplo de x^2 de 0 a 2, la respuesta debe ser 8/3  = 2.666=#\n",
    "\n",
    "#=Orden 1=#\n",
    "println(\"Orden 2 \",newtonCotesNumerical(x->x^2,0,2,2))\n",
    "#=Orden 2=#\n",
    "println(\"Orden 3 \",newtonCotesNumerical(x->x^2,0,2,3))\n",
    "#=Orden 3=#\n",
    "println(\"Orden 4 \",newtonCotesNumerical(x->x^2,0,2,4))\n",
    "\n",
    "#=A partir de orden 3, el valor de la integral es exacta, porque la aproximacion cuadratica a la funcion \n",
    "x^2 es la misma funcion=#"
   ]
  },
  {
   "cell_type": "markdown",
   "metadata": {},
   "source": [
    "# 2.-Método adaptativo"
   ]
  },
  {
   "cell_type": "markdown",
   "metadata": {},
   "source": [
    "\n",
    "Este método se basa en la regla compuesta de Simpson. Lo que se busca es aproximar $\\int _a^b f(x) \\ dx$ con una toleracia $\\epsilon > 0$. El primer paso es utilizar la regla de Simpson con $h=\\frac{b-a}{2}$ lo cual queda:\n",
    "\n",
    "\\begin{equation}\n",
    "\\int_a^b f(x) \\ dx = \\frac{h}{3} \\left[ f(a)+4f(a+h)+f(b) \\right] - \\frac{h^5}{90}f^{(4)}(\\mu) \\tag{1}\n",
    "\\end{equation}\n",
    "\n",
    "\n",
    " $\\mu $ es un punto en $(a,b)$. El último termino es el error.\n",
    " \n",
    "Nombrando al valor aproximado de la integral como $S$\n",
    "$$S(a,b)=\\frac{h}{3}[f(a)+4f(a+h)+f(b)]$$\n",
    "\n",
    "Ahora para estimar la precisión de la aproximación pero evitando calcular $f^{(4)}(\\mu)$ volvemos a aplicar Simpson pero con m=2 y un tamaño de paso $\\frac{b-a}{4}=\\frac{h}{2}$  \n",
    "\n",
    "\\begin{equation}\n",
    " \\int_a^bf(x)dx = \\frac{h}{6} \\left[ f(a) +4f\\left(a+\\frac{h}{2}\\right)+2f(a+h)+4f\\left(a+\\frac{3h}{2}\\right)+f(b) \\right] - \\left(\\frac{h}{2}\\right)^4\\frac{b-a}{180}f^{(4)}(\\tilde \\mu) \\tag{2}\n",
    " \\end{equation}\n",
    "\n",
    "para alguna $\\tilde \\mu$ en $(a,b)$, para simplificar sea:\n",
    "\n",
    "\\begin{aligned}\n",
    "&S\\left(a,\\frac{a+b}{2}\\right)=\\frac{h}{6} \\left[ f(a)+4f\\left(a+\\frac{h}{2}\\right)+f(a+h) \\right]\\\\\\\\\n",
    "&S\\left(\\frac{a+b}{2},b\\right)=\\frac{h}{6} \\left[ f(a+h)+4f\\left(a+\\frac{3h}{2}\\right)+f(b) \\right]\n",
    "\\end{aligned}\n",
    "\n",
    "Entonces podemos re-escribir a la ecuación (2) como:\n",
    "\n",
    "\\begin{equation}\n",
    "\\int_a^b f(x) \\ dx = S\\left(a,\\frac{a+b}{2}\\right) + S\\left(\\frac{a+b}{2},b\\right) - \\frac{1}{16} \\left (\\frac{h^5}{90} \\right)f^{(4)}(\\tilde \\mu)\\tag{3}\n",
    "\\end{equation}\n",
    "\n",
    "Para poder estimar el error supondremos que $f^{(4)}(\\mu)=f^{(4)}(\\tilde \\mu)$, si la suposición llega a ser precisa, entonces nuestras ecuaciones (1) y (3) implicarían que \n",
    "\n",
    "\\begin{aligned}\n",
    "&S\\left(a,\\frac{a+b}{2}\\right) + S\\left(\\frac{a+b}{2},b\\right) - \\frac{1}{16} \\left (\\frac{h^5}{90} \\right)f^{(4)}(\\tilde \\mu) \\approx S(a,b)- \\left (\\frac{h^5}{90} \\right)f^{(4)}( \\mu)\\\\\\\\\n",
    "& \\to \\left (\\frac{h^5}{90} \\right)f^{(4)}( \\mu) \\approx \\frac{16}{15} \\left[S(a,b)- S\\left(a,\\frac{a+b}{2}\\right) -S\\left(\\frac{a+b}{2},b\\right)\\right]\n",
    "\\end{aligned}\n",
    "\n",
    "Utilizando dicha estimación con la ecuación(3) se obtiene\n",
    "\n",
    "\\begin{equation}\n",
    "\\left |\\int_a^b f(x) dx - S\\left(a,\\frac{a+b}{2}\\right) - S\\left(\\frac{a+b}{2},b\\right) \\right| \\approx \\frac{1}{15} \\left| S(a,b)- S\\left(a,\\frac{a+b}{2}\\right) - S\\left(\\frac{a+b}{2},b\\right)\\right| \\tag{4}\n",
    "\\end{equation}\n",
    "\n",
    "La expresión anterior significa que que $S\\left(a,\\frac{a+b}{2}\\right)+S\\left(\\frac{a+b}{2},b\\right)$ da una aproximación de nuestra integral $\\int_a^b f(x) \\ dx$ 15 veces mejor que lo que ésta coincide con el valor conocido $S(a,b)$. Entonces tendríamos que $S\\left(a,\\frac{a+b}{2}\\right)+S\\left(\\frac{a+b}{2},b\\right)$ aproximará a nuestra integral con un error que será menor a $\\epsilon$, tomando en cuenta que las dos aproximaciones $S\\left(a,\\frac{a+b}{2}\\right)+S\\left(\\frac{a+b}{2},b\\right)$ y $S(a,b)$ deberán ser diferentes menos de 15$\\epsilon$\n",
    "\n",
    "Teniendo que $$\\left| S(a,b)- S\\left(a,\\frac{a+b}{2}\\right)-S\\left(\\frac{a+b}{2},b\\right) \\right| < 15\\epsilon$$\n",
    "\n",
    "Entonces $$\\left|\\int_a^b f(x) dx - S\\left(a,\\frac{a+b}{2}\\right)-S\\left(\\frac{a+b}{2},b\\right) \\right| < \\epsilon$$\n",
    "\n",
    "Por lo que $$S\\left(a,\\frac{a+b}{2}\\right)+S\\left(\\frac{a+b}{2},b\\right)$$ sería una apoximación que cumple con la tolerancia requerida. En caso de que no se cumpliera, habrá que dividir cada uno de los subintervalos en dos partes y aplicar Simpson a ellas. "
   ]
  },
  {
   "cell_type": "code",
   "execution_count": 140,
   "metadata": {},
   "outputs": [
    {
     "data": {
      "text/plain": [
       "Sumation (generic function with 1 method)"
      ]
     },
     "execution_count": 140,
     "metadata": {},
     "output_type": "execute_result"
    }
   ],
   "source": [
    "#Esta funcion calcula aplica la regla de simpson a cada mitad de intervalo delta y te regresa la suma de esos dos intervalos\n",
    "function Sumation(f,ai,bi,deltax)\n",
    "  ci=(bi+ai)/2\n",
    "    ci1=(ai+ci)/2\n",
    "    ci2=(ci+bi)/2\n",
    "    S1=(deltax/12)*(f(ai)+f(ci1)+f(ci))\n",
    "    S2=(deltax/12)*(f(ci)+f(ci2)+f(bi))\n",
    "    return S1+S2\n",
    "end"
   ]
  },
  {
   "cell_type": "code",
   "execution_count": 141,
   "metadata": {},
   "outputs": [
    {
     "data": {
      "text/plain": [
       "Iteration (generic function with 1 method)"
      ]
     },
     "execution_count": 141,
     "metadata": {},
     "output_type": "execute_result"
    }
   ],
   "source": [
    "#esta funciòn te da la suma de cuatro intervalos a partir de otro. \n",
    "function Iteration(f,ai,bi,deltax)\n",
    "    c1i=(bi+ai)/2\n",
    "    S0=Sumation(f,ai,c1i,deltax)+Sumation(f,c1i,bi,deltax)\n",
    "    return S0\n",
    "end"
   ]
  },
  {
   "cell_type": "code",
   "execution_count": 142,
   "metadata": {},
   "outputs": [
    {
     "data": {
      "text/plain": [
       "ErrorCalculator (generic function with 1 method)"
      ]
     },
     "execution_count": 142,
     "metadata": {},
     "output_type": "execute_result"
    }
   ],
   "source": [
    "#esta función calcula el error correspondiente a cada intervalo en la integracion\n",
    "function ErrorCalculator(f,ai,bi,deltax)\n",
    "    ci=(bi+ai)/2\n",
    "    ci1=(ai+ci)/2\n",
    "    ci2=(ci+bi)/2\n",
    "    S1=(deltax/6)*(f(ai)+f(ci1)+f(ci))\n",
    "    S2=(deltax/6)*(f(ci)+f(ci2)+f(bi))\n",
    "    Simp=(deltax/6)*(f(ai)+4*f(ci)+f(bi))\n",
    "    Error=(1/10)*(abs(Simp-S1+S2))\n",
    "    return Error\n",
    "end"
   ]
  },
  {
   "cell_type": "code",
   "execution_count": 143,
   "metadata": {},
   "outputs": [
    {
     "data": {
      "text/plain": [
       "AdaptativeMethod (generic function with 1 method)"
      ]
     },
     "execution_count": 143,
     "metadata": {},
     "output_type": "execute_result"
    }
   ],
   "source": [
    "#El conjunto de funciones se integran en la regla de simson adaptativa. \n",
    "function AdaptativeMethod(f,a,b,n,tolerance)\n",
    "   deltax=(b-a)/(n)\n",
    "    S=0.0\n",
    "    xm=0.0\n",
    "    So=0.0\n",
    "    x0=a\n",
    "    x1=0.0\n",
    "   for i in 1:n\n",
    "        x1=a+i*deltax\n",
    "        xm=(x1+x0)*(1/2)\n",
    "         if ErrorCalculator(f,x1,x0,deltax)<tolerance\n",
    "          S=(deltax/6)*(f(x0)+4*f(xm)+f(x1))+So\n",
    "        else \n",
    "            S=Iteration(f,x1,x0,deltax)+So\n",
    "    end\n",
    "     So=S\n",
    "     x0=x1\n",
    "end \n",
    "    return So\n",
    "end\n"
   ]
  },
  {
   "cell_type": "code",
   "execution_count": 144,
   "metadata": {},
   "outputs": [
    {
     "data": {
      "text/plain": [
       "2.000006784441801"
      ]
     },
     "execution_count": 144,
     "metadata": {},
     "output_type": "execute_result"
    }
   ],
   "source": [
    "#=Algunas pruebas=#\n",
    "AdaptativeMethod(x->sin(x),0.0,pi,10,0.1)"
   ]
  },
  {
   "cell_type": "code",
   "execution_count": 145,
   "metadata": {},
   "outputs": [
    {
     "data": {
      "text/plain": [
       "2.0"
      ]
     },
     "execution_count": 145,
     "metadata": {},
     "output_type": "execute_result"
    }
   ],
   "source": [
    "#=Veamos si coincide con el valor esperado=#\n",
    "-(cos(pi)-cos(0))\n",
    "#=Vemos que cumple la tolerancia=#"
   ]
  },
  {
   "cell_type": "markdown",
   "metadata": {},
   "source": [
    "# 3.-Integración de Romberg"
   ]
  },
  {
   "cell_type": "markdown",
   "metadata": {},
   "source": [
    "\n",
    "\n",
    "En la integración de Romberg se obtiene una matriz triangular con aproximaciones a la integral, a continuación se describe el procedimiento para la obtención de dicha matriz.\n",
    "\n",
    "Primero habrá que recordar la ecuación  del método de integración de trapecio extendida para hacer aproximaciones de una función $f(x)$ en un intervalo $[a,b]$ usando $m$ subintervalos, donde $h=\\frac{b-a}{m}$\n",
    "\n",
    "$$\\int_a^b f(x) dx = \\frac{h}{2} \\left( f(a)+f(b)+2\\sum_{j=1}^{m-1} f(x_j)\\right)$$\n",
    "\n",
    "Para el primer paso haremos aproximaciones con $m_1=1, \\ m_2=2,..., \\ m_n=2^{n-1}$, con $n$ un entero positivo. El tamaño de paso es:  $h_k= \\frac{b-a}{2^{k-1}}$, lo que nos daría\n",
    "\n",
    "$$R_{k,1}=\\int_a^b f(x) dx = \\frac{h_k}{2} \\left[ f(a) + f(b) +2 \\left( \\sum_{i=1}^{2^{k-1}-1}f(a+ih_k)\\right)   \\right]$$\n",
    "\n",
    "Apliquemos la ec. anterior\n",
    "\\begin{aligned}\n",
    "&R_{1,1}=\\frac{h_1}{2}[f(a)+f(b)]=\\frac{b-a}{2}[f(a)+f(b)]\\\\\n",
    "&R_{2,1}=\\frac{h_2}{2}[f(a)+f(b)+2f(a+h_2)] \\\\\n",
    "&=\\frac{b-a}{4}\\left[f(a)+f(b)+2f\\left(a+\\frac{b-a}{2}\\right)\\right]\\\\\n",
    "&=\\frac{1}{2} \\left[R_{1,1}+h_1f(a+\\frac{1}{2}h_1\\right]\n",
    "\\end{aligned}\n",
    "y en general podemos obtener la siguiente expresión para $k=1,2,3, \\ldots , n$, que serían los valores de la primera columna, dado un arreglo matricial diagonal.\n",
    "\n",
    "$$R_{k,1}=\\frac{1}{2} \\left[ R_{k-1,1} + h_{k-1} \\sum_{i=1}^{2^{k-2}}f \\left(a+\\left(i-\\frac{1}{2}\\right)h_{k-1} \\right) \\right] $$\n",
    "\n",
    "Para poder seguir avanzando en niveles (columnas) , y llegar a una estimación más precisa se aplica la extrapolación de Richardson\n",
    "\n",
    "$$R_{i,j}=\\frac{4^{j-1}R_{i,j-1}-R_{i-1,j-1}}{4^{j-1}-1}$$\n",
    "\n",
    "Al final obtendríamos una representación como la que se muestra abajo.\n",
    "\\begin{array}\n",
    "$R_{1,1} \\\\\n",
    "R_{2,1} & R_{2,2}\\\\\n",
    "R_{3,1} & R_{3,2} &  R_{3,3}\\\\\n",
    "R_{4,1} & R_{4,2} &  R_{4,3} & R_{4,4}\\\\\n",
    "... & ...& ...&... & \\ddots\\\\\n",
    "R_{n,1} & R_{n,2} & R_{n,3} & R_{n,4} &...& R_{n,n}\\\\\n",
    "\\end{array}"
   ]
  },
  {
   "cell_type": "code",
   "execution_count": 146,
   "metadata": {},
   "outputs": [
    {
     "data": {
      "text/plain": [
       "first_Column (generic function with 1 method)"
      ]
     },
     "execution_count": 146,
     "metadata": {},
     "output_type": "execute_result"
    }
   ],
   "source": [
    "\n",
    "#=La siguiente funcion crea la primera columna solamente=#\n",
    "function first_Column(f::Function,a,b,n)\n",
    "    #a-límite inferior, b-límite inferior, n-número de intervalo\n",
    "    \n",
    "    matrix=zeros(n,n)\n",
    "    #creación de una matriz cuadrada\n",
    "    \n",
    "    matrix[1,1]=((b-a)/(2))*(f(a)+f(b))\n",
    "    #para el elemento (1,1) de la matriz aplicamos la integral del trapecio\n",
    "    \n",
    "    for k in 2:n             \n",
    "        LIM_SUM=(2^(k-2)) #para cada elemento (n,1) definimos un límite para la suma\n",
    "        h=(b-a)/(2^(k-2)) #para cada elemento(n,1) definimos una h\n",
    "        sum=0.0\n",
    "        for i in 1:LIM_SUM\n",
    "            sum=sum+h*(f(a+(i-(1/2))*h))\n",
    "        end\n",
    "        integral=(1/2)*(matrix[k-1,1]+sum)\n",
    "        matrix[k,1]=integral\n",
    "    end\n",
    "    matrix\n",
    "end\n"
   ]
  },
  {
   "cell_type": "code",
   "execution_count": 147,
   "metadata": {},
   "outputs": [
    {
     "data": {
      "text/plain": [
       "6×6 Array{Float64,2}:\n",
       " 1.92367e-16  0.0  0.0  0.0  0.0  0.0\n",
       " 1.5708       0.0  0.0  0.0  0.0  0.0\n",
       " 1.89612      0.0  0.0  0.0  0.0  0.0\n",
       " 1.97423      0.0  0.0  0.0  0.0  0.0\n",
       " 1.99357      0.0  0.0  0.0  0.0  0.0\n",
       " 1.99839      0.0  0.0  0.0  0.0  0.0"
      ]
     },
     "execution_count": 147,
     "metadata": {},
     "output_type": "execute_result"
    }
   ],
   "source": [
    "#=Recuerde que la integral de cero a pi del seno, debe dar dos=#\n",
    "first_Column(x->sin(x),0,pi,6)"
   ]
  },
  {
   "cell_type": "code",
   "execution_count": 148,
   "metadata": {},
   "outputs": [
    {
     "data": {
      "text/plain": [
       "romberg_Integration (generic function with 1 method)"
      ]
     },
     "execution_count": 148,
     "metadata": {},
     "output_type": "execute_result"
    }
   ],
   "source": [
    "#=La siguiente funcion pasa a otros niveles (genera las siguientes columnas)=#\n",
    "function romberg_Integration(f::Function,a,b,n)\n",
    "    matrix=zeros(n,n)\n",
    "    #creación de una matriz cuadrada\n",
    "    \n",
    "    matrix[1,1]=((b-a)/(2))*(f(a)+f(b))\n",
    "    #para el elemento (1,1) de la matriz aplicamos la integral del trapecio\n",
    "    \n",
    "    for k in 2:n             \n",
    "        LIM_SUM=(2^(k-2)) #para cada elemento (n,1) definimos un límite para la suma\n",
    "        h=(b-a)/(2^(k-2)) #para cada elemento(n,1) definimos una h\n",
    "        sum=0.0\n",
    "        for i in 1:LIM_SUM\n",
    "            sum=sum+h*(f(a+(i-(1/2))*h))\n",
    "        end\n",
    "        integral=(1/2)*(matrix[k-1,1]+sum)\n",
    "        matrix[k,1]=integral\n",
    "    end\n",
    "    matrix\n",
    "    \n",
    "    #Para pasar al segundo nivel, (COLUMA 2)\n",
    "    for j in 2:n\n",
    "        \n",
    "        #Debe empezar en los elemento de la matriz i=j\n",
    "        for i in j:n\n",
    "            aproximation=((4^(j-1))*(matrix[i,j-1])-(matrix[i-1,j-1]))/((4^(j-1)-1))\n",
    "            \n",
    "            #Se almacenarán todos los elementos de la columna.\n",
    "            matrix[i,j]=aproximation\n",
    "        end\n",
    "    end\n",
    "    matrix\n",
    "end"
   ]
  },
  {
   "cell_type": "code",
   "execution_count": 149,
   "metadata": {},
   "outputs": [
    {
     "data": {
      "text/plain": [
       "6×6 Array{Float64,2}:\n",
       " 1.92367e-16  0.0      0.0      0.0      0.0  0.0\n",
       " 1.5708       2.0944   0.0      0.0      0.0  0.0\n",
       " 1.89612      2.00456  1.99857  0.0      0.0  0.0\n",
       " 1.97423      2.00027  1.99998  2.00001  0.0  0.0\n",
       " 1.99357      2.00002  2.0      2.0      2.0  0.0\n",
       " 1.99839      2.0      2.0      2.0      2.0  2.0"
      ]
     },
     "execution_count": 149,
     "metadata": {},
     "output_type": "execute_result"
    }
   ],
   "source": [
    "#=Hagamos algunas pruebas. Esta integral debe dar dos=#\n",
    "romberg_Integration(x->sin(x),0,pi,6)"
   ]
  },
  {
   "cell_type": "code",
   "execution_count": 150,
   "metadata": {},
   "outputs": [
    {
     "name": "stdout",
     "output_type": "stream",
     "text": [
      "La integral debe dar 1.0986122886681096\n"
     ]
    },
    {
     "data": {
      "text/plain": [
       "3×3 Array{Float64,2}:\n",
       " 1.33333  0.0      0.0    \n",
       " 1.16667  1.11111  0.0    \n",
       " 1.11667  1.1      1.09926"
      ]
     },
     "execution_count": 150,
     "metadata": {},
     "output_type": "execute_result"
    }
   ],
   "source": [
    "println(\"La integral debe dar \", log(3)-log(1))\n",
    "romberg_Integration(x->1/x,1,3,3)"
   ]
  },
  {
   "cell_type": "code",
   "execution_count": 151,
   "metadata": {},
   "outputs": [
    {
     "data": {
      "text/plain": [
       "3×3 Array{Float64,2}:\n",
       " 14.2302   0.0      0.0   \n",
       " 11.1714  10.1517   0.0   \n",
       " 10.4438  10.2013  10.2046"
      ]
     },
     "execution_count": 151,
     "metadata": {},
     "output_type": "execute_result"
    }
   ],
   "source": [
    "romberg_Integration(x->x*sqrt(complex(1+x^2)),0,3,3)"
   ]
  },
  {
   "cell_type": "markdown",
   "metadata": {},
   "source": [
    "# 4.-Cuadratura Gaussiana\n",
    "\n",
    "\n",
    "El método de cuadratura consiste en sustituir la partición regular que se utiliza en métodos como el del trapecio o el de Simpson, por una que sea mas eficiente. Resulta, que si se utilizan las raices del n-esimo polinomio de Legendre para hacer la interpolación de una integral en el intervalo $[-1,1],$ la aproximación de la integral será exacta para polinomios de grado hasta $2n$, por supuesto, no todas las integrales se realizan en ese intervalo, pero con un cambio de variable apropiado se podrían cambiar los límites a -1 y 1. Veamos como tendría que ser dicho cambio:\n",
    "\n",
    "Buscamos una función lineal $T:\\left[a,b\\right]\\to \\left[-1,1\\right]$\n",
    "\n",
    "La función es de forma $$T(x) = mx+k$$\n",
    "\n",
    "\\begin{aligned}\n",
    "& T(a) = -1 \\to ma+k = -1\\\\\n",
    "& T(b) = 1 \\to mb +k = 1\n",
    "\\end{aligned}\n",
    "\n",
    "Resolviendo el sistema nos queda\n",
    "\n",
    "$$T(x) = \\frac{2}{b-a}x -\\frac{b+a}{b-a}$$\n",
    "\n",
    "cuando hacemos esa sustitución la integral de $a$ a $b$ quedaria\n",
    "\n",
    "$$\\int_{a}^b f(x)dx = \\frac{b-a}{2}\\int_{-1}^1 f\\left(\\frac{b-a}{2}\\left( v+\\frac{b+a}{b-a}\\right)\\right)dv$$\n",
    "\n",
    "Entonces el procedimiento va a ser:\n",
    "\n",
    "1. Sacar las raices del polinomio de Legendre de orden $n$\n",
    "\n",
    "2. Interpolar la función a la cual se le ha hecho el cambio de variable antes descrito\n",
    "\n",
    "3. Integrar el polinomio de resultante de -1 a 1"
   ]
  },
  {
   "cell_type": "code",
   "execution_count": 152,
   "metadata": {},
   "outputs": [
    {
     "data": {
      "text/plain": [
       "xSubscriptSym (generic function with 1 method)"
      ]
     },
     "execution_count": 152,
     "metadata": {},
     "output_type": "execute_result"
    }
   ],
   "source": [
    "function xSubscriptSym(i)\n",
    "   a = \"x_\"\n",
    "   b = string(i)\n",
    "    \n",
    "    return string(a,b)\n",
    "    \n",
    "end"
   ]
  },
  {
   "cell_type": "code",
   "execution_count": 153,
   "metadata": {},
   "outputs": [
    {
     "data": {
      "text/plain": [
       "lagrangeInterpolationDefined (generic function with 1 method)"
      ]
     },
     "execution_count": 153,
     "metadata": {},
     "output_type": "execute_result"
    }
   ],
   "source": [
    "using SymPy\n",
    "#=Copiamos nuestra función para la interpolación de la grange N va a ser en este caso el numero de\n",
    "puntos=#\n",
    "function lagrangeInterpolationDefined(N,f)\n",
    "    x0 = Sym(\"x_0\")\n",
    "    x = Sym(\"x\")\n",
    "    g = f(x)\n",
    "    points = []\n",
    "    push!(points,x0)\n",
    "    #=We create all the symbols for each point=#\n",
    "    \n",
    "    for i in 1:N-1\n",
    "       push!(points,Sym(xSubscriptSym(i))) \n",
    "    end\n",
    "    \n",
    "    sum = SymFunction(\"sum\")\n",
    "    lagrangeTerm = SymFunction(\"lagrangeTerm\")\n",
    "    lagrangeTerm = 1\n",
    "    sum = 0\n",
    "    \n",
    "    for i in 1:N\n",
    "        lagrangeTerm  = 1\n",
    "        for j in 1:N\n",
    "            if(j!=i)\n",
    "                \n",
    "               lagrangeTerm = lagrangeTerm*(x-points[j])/((points[i])-points[j])\n",
    "            \n",
    "            end\n",
    "    end\n",
    "          sum+=g(points[i])*lagrangeTerm\n",
    "end\n",
    "    return sum \n",
    "end"
   ]
  },
  {
   "cell_type": "code",
   "execution_count": 154,
   "metadata": {},
   "outputs": [
    {
     "data": {
      "text/plain": [
       "quadratureMethod (generic function with 1 method)"
      ]
     },
     "execution_count": 154,
     "metadata": {},
     "output_type": "execute_result"
    }
   ],
   "source": [
    "#=Ahora construimos la aproximación de la integral =#\n",
    "using SymPy.SpecialFuncs\n",
    "function quadratureMethod(f,a,b,n)\n",
    "   #=Sacamos el n-esimo polinomio de legendre=#\n",
    "    x = Sym(\"x\")\n",
    "    v = Sym(\"v\")\n",
    "    legend = legendre(n,x)\n",
    "    \n",
    "    #=Sacamos las raices del polinomio=#\n",
    "    legendreRoots = solve(legend)\n",
    "    \n",
    "    #=Hacemos el cambio de variable en la función x=#\n",
    "    g = f(x)\n",
    "    g = subs(g,x=>((b-a)/2)*(v +((b-a)/(b+a))))\n",
    "    \n",
    "    #=Bien, ahora hacemos la interpolación de f =#\n",
    "    lagrange = lagrangeInterpolationDefined(n,g)\n",
    "    \n",
    "    #=Sustituimos las raices en el polinomio=#\n",
    "    \n",
    "    for i in 1:n\n",
    "       lagrange = subs(lagrange,Sym(xSubscriptSym(i-1))=>legendreRoots[i]) \n",
    "    end\n",
    "    \n",
    "    integral = integrate(lagrange,(x,-1,1))\n",
    "    \n",
    "    return N(integral)\n",
    "end"
   ]
  },
  {
   "cell_type": "code",
   "execution_count": 155,
   "metadata": {},
   "outputs": [
    {
     "data": {
      "text/plain": [
       "2.666666666666666"
      ]
     },
     "execution_count": 155,
     "metadata": {},
     "output_type": "execute_result"
    }
   ],
   "source": [
    "quadratureMethod(x->x^2,0,2,2)"
   ]
  },
  {
   "cell_type": "code",
   "execution_count": 156,
   "metadata": {},
   "outputs": [
    {
     "data": {
      "text/plain": [
       "10.666666666666668"
      ]
     },
     "execution_count": 156,
     "metadata": {},
     "output_type": "execute_result"
    }
   ],
   "source": [
    "#=Si usamos tres puntos para la interpolacion, la integral sera exacta hasta para polinomios de orden 5, la siguiente integral de x^5 de 0 a 2 debe dar 64/6 = 10.6666=#\n",
    "\n",
    "quadratureMethod(x->x^5,0,2,3)"
   ]
  },
  {
   "cell_type": "markdown",
   "metadata": {},
   "source": [
    "# 5.-Integrales multiples"
   ]
  },
  {
   "cell_type": "markdown",
   "metadata": {},
   "source": [
    "\n",
    "En este caso se trabajará primeramente con integrales dobles  $ \\iint \\limits_{R} f(x,y) \\ dA$ donde $R$ será nuestra región rectangular $R=\\{ (x,y) | a\\leq x \\leq b,  \\ c\\leq y \\leq d \\}$. Aquí se utilizará la regla compuesta de Simpson.  \n",
    "Supongamos que $n$ y $m$ son número enteros que nos servirán para obtener los tamaños de los pasos $h=\\frac{b-a}{2n}$ y $k=\\frac{d-c}{2m}$. Y re-escribiendo la integral como un integral doble iterada.\n",
    "$$\\iint \\limits_{R} f(x,y) \\ dA = \\int _a^b \\left( \\int _c^d f(x,y) \\ dy \\right) dx$$\n",
    "\n",
    "Primero se utilizará la regla compuesta de Simpson para la integral de adentro del paréntesis.\n",
    "\n",
    "Ahora tomando $y_j=c+jk$ para cada $j=0,1, ... , 2m$ obtendríamos\n",
    "\n",
    "$$\\int _c^d f(x,y)dy = \\frac{k}{3} \\left [ f(x,y_0) + 2 \\sum_{j=1}^{m-1} f(x,y_{2j}) + 4 \\sum_{j=1}^{m} f(x,y_{2j-1}+f(x,y_{2m}))\\right ] - \\frac{(d-c)k^4}{180}\\frac{\\partial^4 f(x,\\mu)}{\\partial y^4}$$\n",
    "\n",
    "para alguna $\\mu$ en $(c,d)$, si ahora introducimos $\\int_a^b dx$ y multiplicamos por $\\frac{k}{3}$, obtendríamos  \n",
    "\n",
    "$$\\int _a^b \\int _c^d f(x,y)dy \\ dx = \\frac{k}{3} \\int _a^b  f(x,y_0) dx + \\frac{2k}{k} \\sum_{j=1}^{m-1}  \\int _a^b  f(x,y_{2j})dx  + \\frac{4k}{3} \\sum_{j=1}^{m}  \\int _a^b  f(x,y_{2j-1})dx + \\frac{k}{3} \\int _a^b f(x,y_{2m})) dx - \\frac{(d-c)k^4}{180} \\int _a^b \\frac{\\partial^4 f(x,\\mu)}{\\partial y^4} \\ dx$$\n",
    "\n",
    "\n",
    "Ahora la regla compuesta de Simpson se emplea en cada una de la integrales, de la ecuación anterior. Tomando $x_i = a+ih$ para $i=,0,1, ... ,2n$ se obtiene para da $j=0,1, ..., 2m$. Teniendo que la integral resulta de la siguiente forma\n",
    "\n",
    "$$ \\int_a^b f(x,y_j)dx = \\frac{h}{3} \\left[ f(x_0,y_j) + 2 \\sum _{i=1}^{n-1}f(x_{2i},y_j) + 4\\sum _{i=1}^{n} f(x_{2i},y_j)+f(x_{2n},y_j) \\right] -\\frac{b-a}{180}h^4 \\frac{\\partial^4f}{\\partial x^4}(\\xi_j,y_j)$$\n",
    "\n",
    "para alguna $\\xi_j$ en $(a,b)$. Lo que nos daría que la aproximación tiene la forma\n",
    "\n",
    "$$\\int _a^b \\int _c^d f(x,y) dy dx \\approx \\frac{h}{3} \\left [ f(x_0,y_j) + 2\\sum _{i=1}^{n-1}f(x_{2i},y_0) + 4\\sum _{i=1}^n f(x_{2i-1},y_0)\\\\\n",
    "+f(x_{2n},y_0) + 2\\sum_{j=1}^{m-1}f(x_0,y_{2j}) + 4\\sum_{j=1}^{m-1} \\sum_{i=1}^{n-1}f(x_{2i},y_{2j}) \\\\\n",
    "+8 \\sum_{j=1}^{m-1} \\sum_{i=1}^{n} f(x_{2i-1},y_{2j}) + 2\\sum_{j=1} ^{m-1} f(x_{2n},y_{2j}) \\\\\n",
    "+4 \\sum_{j=1}^{m}f(x_0,y_{2j-1}) + 8\\sum_{j=1}^{m} \\sum_{i=1}^{n-1} f(x_{2i},y_{2j-1}) \\\\\n",
    "+16 \\sum_{j=1}^{m}\\sum_{i=1}^{n} f(x_{2i},y_{2j-1}) + 4\\sum_{j=1}^m f(x_{2n},y_(2j-1)\\\\\n",
    "+f(x_0,y_{2m}) + 2\\sum_{i=1}^{n-1}f(x_{2i},y_{2m}) + 4\\sum_{i=1}^{n}f(x_{2i-1},y_{2m})\\\\\n",
    "+f(x_{2n},y_{2m})\\right]$$.\n",
    "El método visto anteriormente se puede generalizar para regiones que no sean cuadradas, y da lugar a integrales de la forma $$\\int _a^b \\left( \\int _{c(x)}^{d(x)} f(x,y) \\ dy \\right) dx$$ ,ya que, por el teorema de Fubini podemos expresar cualquier región como una región x-simple, o una suma de éstas.En este caso definimos $k(x)=\\frac{d(x)-c(x)}{2}$, entonces \n",
    "\n",
    "$$\\int _a^b \\left( \\int _{c(x)}^{d(x)} f(x,y) \\ dy \\right) \\approx \\int _a^b \\frac{h}{3} \\left[ f(x,c(x))+f(x,c(x)+k(x))+f(x,d(x))\\right] dx\\approx \\frac{h}{3}\\left[\\frac{k(a)}{3}(f(a,c(a))+4f(a,c(a)+k(a))+f(a,d(a)))+\\frac{k(a+h)}{3}(f(a+h,c(a+h))+4f(a+h,c(a+h)+k(a+h))+f(a+h,d(a+h)))+\\frac{k(a+2h)}{3}(f(a+2h,c(a+2h))+4f(a+2h,c(a+2h)+k(a+2h))+f(a+2h,d(a+2h)))\\right]$$."
   ]
  },
  {
   "cell_type": "code",
   "execution_count": 157,
   "metadata": {},
   "outputs": [
    {
     "data": {
      "text/plain": [
       "DoubleIntegrlalsSimpsonRule (generic function with 1 method)"
      ]
     },
     "execution_count": 157,
     "metadata": {},
     "output_type": "execute_result"
    }
   ],
   "source": [
    "## Regla de Simpson para integrales multiples\n",
    "function DoubleIntegrlalsSimpsonRule(f,a,b,c,d,n)\n",
    "    h=(b-a)/(n)\n",
    "    S=0.0\n",
    "    xm=0.0\n",
    "    So=0.0\n",
    "    x0=a\n",
    "    x1=0.0\n",
    "    k(x)=(d(x)-c(x))/2\n",
    "    for i in 1:n\n",
    "        x1=a+i*h\n",
    "        xm=(x1+x0)*(1/2)\n",
    "        S1=(k(x0)/3)*[f(x0,c(x0))+4*f(x0,c(x0)+k(x0))+f(x0,d(x0))]\n",
    "        S2=(4*k(xm)/3)*[f(xm,c(xm))+4f(xm,c(xm)+k(xm))+f(xm,d(xm))]\n",
    "        S3=(k(x1)/3)*[f(x1,c(x1))+4*f(x1,c(x1)+k(x1))+f(x1,d(x1))]\n",
    "        S=(h/6)*(S1+S2+S3)+So\n",
    "        So=S\n",
    "        x0=x1\n",
    "    end\n",
    "    return So\n",
    "end"
   ]
  },
  {
   "cell_type": "markdown",
   "metadata": {},
   "source": [
    "## Pruebas\n",
    "Se harán pruebas con las siguientes integrales. \n"
   ]
  },
  {
   "cell_type": "markdown",
   "metadata": {},
   "source": [
    "$\\int_{0.1}^{0.5} \\int_{x}^{x^2} e^{\\frac{y}{x}}dy⋅dx=0.033305$"
   ]
  },
  {
   "cell_type": "code",
   "execution_count": 158,
   "metadata": {},
   "outputs": [
    {
     "data": {
      "text/plain": [
       "1-element Array{Float64,1}:\n",
       " 0.0333056"
      ]
     },
     "execution_count": 158,
     "metadata": {},
     "output_type": "execute_result"
    }
   ],
   "source": [
    "DoubleIntegrlalsSimpsonRule((x,y)->e^(y/x), 0.1,0.5,x->x^3,x->x^2,100)"
   ]
  },
  {
   "cell_type": "markdown",
   "metadata": {},
   "source": [
    "$\\int_{0}^{1} \\int_{x}^{2x}(x^2+y^3)dy⋅dx=1.0$"
   ]
  },
  {
   "cell_type": "code",
   "execution_count": 159,
   "metadata": {},
   "outputs": [
    {
     "data": {
      "text/plain": [
       "1-element Array{Float64,1}:\n",
       " 1.0"
      ]
     },
     "execution_count": 159,
     "metadata": {},
     "output_type": "execute_result"
    }
   ],
   "source": [
    "DoubleIntegrlalsSimpsonRule((x,y)->x^2+y^3, 0.0,1,x->x,x->2x,100)"
   ]
  },
  {
   "cell_type": "markdown",
   "metadata": {},
   "source": [
    "# 6.- Integral de Montecarlo\n",
    "\n",
    "La integración de Montecarlo es un método en el que se utilizan números pseudoaleatorios para evaluar la integral. Se basa en el hecho de que el promedio de una función en un intervalo $[a,b]$ está dado por:\n",
    "\\begin{equation}\n",
    "\\left<f \\right> = \\frac{ \\int_{a}^{b}f(x)dx}{b-a}\n",
    "\\end{equation}\n",
    "\n",
    "Si tomamos cierto número de puntos elegidos aleatoriamente dentro del intervalo ${x_{1},x_{2},\\dots,x_{n}}$, podemos aproximar el valor del promedio como \n",
    "\n",
    "\\begin{equation}\n",
    "\\left< f\\right>\\approx \\frac{\\sum_{i = 0}^n f(x_{i})}{n}\n",
    "\\end{equation}\n",
    "Sustituyendo en la primera ecuación y despejando\n",
    "\n",
    "\\begin{equation}\n",
    "\\int_{a}^{b} f(x)dx\\approx (b-a)\\frac{\\sum_{i = 1}^n f(x_{i})}{n}\n",
    "\\end{equation}\n",
    "\n",
    "Esta sería la expresión que se utilizaria para evaluar la integral en el caso unidimensional. Si se deseará obtener la integral de una función $f:\\mathbb{R}^n\\to \\mathbb{R}$ en una región \"rectangular\" : V = $[a_{1},b_{1}] \\times [a_{2},b_{2}]\\times \\dots \\times[a_{m},b_{m}]$ entonces quedaría lo siguiente:\n",
    "\n",
    "\\begin{equation}\n",
    "\\int_{V} f \\approx (b_{1}-a_{1})\\times (b_{2}-a_{2})\\times \\dots \\times(b_{m}-a_{n}) \\frac{\\sum_{i = 1}^n f(\\vec{x_{i}})}{n}\n",
    "\\end{equation}"
   ]
  },
  {
   "cell_type": "markdown",
   "metadata": {},
   "source": [
    "## 6.1.-Funciones para la integral de Montecarlo"
   ]
  },
  {
   "cell_type": "code",
   "execution_count": 160,
   "metadata": {},
   "outputs": [
    {
     "data": {
      "text/plain": [
       "average (generic function with 1 method)"
      ]
     },
     "execution_count": 160,
     "metadata": {},
     "output_type": "execute_result"
    }
   ],
   "source": [
    "#=Funcion para estimar el promedio de una funcion=#\n",
    "\n",
    "function average(f::Function,points)\n",
    "    sum=0.0\n",
    "    n=length(points)\n",
    "    for i in 1:n\n",
    "        sum=sum+f(points[i])\n",
    "    end\n",
    "    sum/n\n",
    "end    "
   ]
  },
  {
   "cell_type": "code",
   "execution_count": 161,
   "metadata": {},
   "outputs": [
    {
     "data": {
      "text/plain": [
       "rectangle_from_coords (generic function with 1 method)"
      ]
     },
     "execution_count": 161,
     "metadata": {},
     "output_type": "execute_result"
    }
   ],
   "source": [
    "function rectangle_from_coords(xb,yb,xt,yt)\n",
    "    [\n",
    "        xb yb\n",
    "        xt yb\n",
    "        xt yt\n",
    "        xb yt\n",
    "        xb yb\n",
    "        NaN NaN\n",
    "    ]\n",
    "end"
   ]
  },
  {
   "cell_type": "code",
   "execution_count": 162,
   "metadata": {},
   "outputs": [
    {
     "data": {
      "text/plain": [
       "drawRect (generic function with 1 method)"
      ]
     },
     "execution_count": 162,
     "metadata": {},
     "output_type": "execute_result"
    }
   ],
   "source": [
    "#=Esta función grafica un rectangulo y algunos puntos que les demos, esto es porque nos interesara saber cuales puntos aleatorios se estan tomando para hacer la aproximación del promedio y por ende la integral (Esto para integrales de dos variables en regiones rectangulares)=#\n",
    "using Plots; plotly\n",
    "plots = Plots\n",
    "\n",
    "function drawRect(x0,width,height,points)\n",
    "    \n",
    "    xCord(x) = x[1]\n",
    "    yCord(x)=x[2]\n",
    "    \n",
    "    rect = rectangle_from_coords(x0[1],x0[2],x0[1]+width,x0[2]+height)\n",
    "    plots.plot(rect[:,1],rect[:,2],fill = (0,0.5,:orange))\n",
    "    plots.scatter!(xCord.(points),yCord.(points),color = \"blue\")\n",
    "end"
   ]
  },
  {
   "cell_type": "code",
   "execution_count": 163,
   "metadata": {},
   "outputs": [
    {
     "name": "stderr",
     "output_type": "stream",
     "text": [
      "\u001b[1m\u001b[36mINFO: \u001b[39m\u001b[22m\u001b[36mPkg operations are not possible on JuliaBox. Please use the \"Packages\" menu at the top of the main screen.\n",
      "\u001b[39m"
     ]
    },
    {
     "data": {
      "text/plain": [
       "cubeDraw (generic function with 1 method)"
      ]
     },
     "execution_count": 163,
     "metadata": {},
     "output_type": "execute_result"
    }
   ],
   "source": [
    "#=Esta función grafica un prisma rectangular y algunos puntos que se les de, esto para saber que puntos se estan tomando para aproximar una integral de tres variables.=#\n",
    "Pkg.add(\"Plots\")\n",
    "using Plots; plotly\n",
    "plots = Plots\n",
    "function cubeDraw(x0,width,height,large,points)\n",
    "    xcomp(x)=x[1]\n",
    "    ycomp(x)=x[2]\n",
    "    zcomp(x)=x[3]\n",
    "    plots.plot([xcomp(x0)+width,xcomp(x0)],[ycomp(x0),ycomp(x0)],[zcomp(x0),zcomp(x0)],c=:bluesreds,legend=false)\n",
    "    plots.plot!([xcomp(x0),xcomp(x0)],[ycomp(x0),ycomp(x0)+large],[zcomp(x0),zcomp(x0)],c=:bluesreds)\n",
    "    plots.plot!([xcomp(x0),xcomp(x0)],[ycomp(x0),ycomp(x0)],[zcomp(x0),zcomp(x0)+height],c=:bluesreds)\n",
    "    plots.plot!([xcomp(x0)+width,xcomp(x0)+width],[ycomp(x0),ycomp(x0)+large],[zcomp(x0),zcomp(x0)],c=:bluesreds)\n",
    "    plots.plot!([xcomp(x0)+width,xcomp(x0)+width],[ycomp(x0),ycomp(x0)],[zcomp(x0),zcomp(x0)+height],c=:bluesreds)\n",
    "    plots.plot!([xcomp(x0)+width,xcomp(x0)],[ycomp(x0)+large,ycomp(x0)+large],[zcomp(x0),zcomp(x0)],c=:bluesreds)\n",
    "    plots.plot!([xcomp(x0),xcomp(x0)],[ycomp(x0)+large,ycomp(x0)+large],[zcomp(x0),zcomp(x0)+height],c=:bluesreds)\n",
    "    plots.plot!([xcomp(x0),xcomp(x0)],[ycomp(x0),ycomp(x0)+large],[zcomp(x0)+height,zcomp(x0)+height],c=:bluesreds)\n",
    "    plots.plot!([xcomp(x0)+width,xcomp(x0)],[ycomp(x0),ycomp(x0)],[zcomp(x0)+height,zcomp(x0)+height],c=:bluesreds)\n",
    "    plots.plot!([xcomp(x0)+width,xcomp(x0)+width],[ycomp(x0)+large,ycomp(x0)+large],[zcomp(x0),zcomp(x0)+height],c=:bluesreds)\n",
    "    plots.plot!([xcomp(x0)+width,xcomp(x0)],[ycomp(x0)+large,ycomp(x0)+large],[zcomp(x0)+height,zcomp(x0)+height],c=:bluesreds)\n",
    "    plots.plot!([xcomp(x0)+width,xcomp(x0)+width],[ycomp(x0),ycomp(x0)+large],[zcomp(x0)+height,zcomp(x0)+height],c=:bluesreds)\n",
    "    plots.scatter!(xcomp.(points),ycomp.(points),zcomp.(points))\n",
    "end\n"
   ]
  },
  {
   "cell_type": "code",
   "execution_count": 164,
   "metadata": {},
   "outputs": [
    {
     "data": {
      "text/plain": [
       "randomFloat (generic function with 1 method)"
      ]
     },
     "execution_count": 164,
     "metadata": {},
     "output_type": "execute_result"
    }
   ],
   "source": [
    "#=Esta función te da un número aleatorio en el intervalo [a,b]=#\n",
    "\n",
    "function randomFloat(a,b)\n",
    "   return a +(b-a)*rand() \n",
    "end"
   ]
  },
  {
   "cell_type": "code",
   "execution_count": 165,
   "metadata": {},
   "outputs": [
    {
     "data": {
      "text/plain": [
       "multiplyElements (generic function with 1 method)"
      ]
     },
     "execution_count": 165,
     "metadata": {},
     "output_type": "execute_result"
    }
   ],
   "source": [
    "function multiplyElements(A)\n",
    "    product = 1\n",
    "    \n",
    "    for element in A\n",
    "       product *= element \n",
    "    end\n",
    "    \n",
    "    return product\n",
    "    \n",
    "end"
   ]
  },
  {
   "cell_type": "code",
   "execution_count": 166,
   "metadata": {},
   "outputs": [
    {
     "data": {
      "text/plain": [
       "montecarloIntegral (generic function with 1 method)"
      ]
     },
     "execution_count": 166,
     "metadata": {},
     "output_type": "execute_result"
    }
   ],
   "source": [
    "function montecarloIntegral(f::Function,boundary,N)\n",
    "    dimensions = size(boundary,1)\n",
    "    points = []\n",
    "    \n",
    "    #=Generamos N puntos aleatorios que esten dentro de la frontera.=#\n",
    "    for i in 1:N\n",
    "        point = []\n",
    "    for j in 1:dimensions\n",
    "            push!(point,randomFloat(boundary[j][1],boundary[j][2]))\n",
    "        end \n",
    "        push!(points,point)\n",
    "    end\n",
    "    promedio = average(f,points)\n",
    "    \n",
    "    #=Obtenemos el volumen de la región=#\n",
    "    difference(x) = x[2]-x[1]\n",
    "    volume = multiplyElements(difference.(boundary))\n",
    "    \n",
    "    #=La integral es el producto del volumen por el promedio=#\n",
    "    integral = volume*promedio\n",
    "    \n",
    "    #=La funcion regresa un arreglo con el valor de la integral , y con los puntso que se utilizaron para evaluarla=#\n",
    "    \n",
    "    return [integral,points]\n",
    "end "
   ]
  },
  {
   "cell_type": "markdown",
   "metadata": {},
   "source": [
    "## 6.2.-Pruebas de la integral de Montecarlo"
   ]
  },
  {
   "cell_type": "markdown",
   "metadata": {},
   "source": [
    "Primero probemos el caso en dos dimensiones con la función $$f(x) = x^2 +y$$ si integramos en el rectangulo $[0,1]\\times [0,2]$\n",
    "\n",
    "\\begin{equation}\n",
    "\\int_{0}^1\\int_{0}^2 (x^2 +y)dydx = \\int_{0}^1 (2x^2  +2)dx = \\frac{2}{3}+2 =\\frac{8}{3} = 2.6666\n",
    "\\end{equation}"
   ]
  },
  {
   "cell_type": "code",
   "execution_count": 167,
   "metadata": {},
   "outputs": [
    {
     "data": {
      "text/html": [
       "<script src=\"/home/jrun/.julia/v0.6/Plots/src/backends/../../deps/plotly-latest.min.js\"></script>    <div id=\"fef98ebf-5528-453b-b704-34315f074f34\" style=\"width:600px;height:400px;\"></div>\n",
       "    <script>\n",
       "    PLOT = document.getElementById('fef98ebf-5528-453b-b704-34315f074f34');\n",
       "    Plotly.plot(PLOT, [{\"xaxis\":\"x\",\"colorbar\":{\"title\":\"\"},\"fill\":\"tozeroy\",\"yaxis\":\"y\",\"x\":[0.0,1.0,1.0,0.0,0.0,null],\"showlegend\":true,\"mode\":\"lines\",\"fillcolor\":\"rgba(255, 165, 0, 0.500)\",\"name\":\"y1\",\"line\":{\"color\":\"rgba(0, 154, 250, 1.000)\",\"shape\":\"linear\",\"dash\":\"solid\",\"width\":1},\"y\":[0.0,0.0,2.0,2.0,0.0,null],\"type\":\"scatter\"},{\"showlegend\":true,\"mode\":\"markers\",\"xaxis\":\"x\",\"colorbar\":{\"title\":\"\"},\"marker\":{\"symbol\":\"circle\",\"color\":\"rgba(0, 0, 255, 1.000)\",\"line\":{\"color\":\"rgba(0, 0, 0, 1.000)\",\"width\":1},\"size\":8},\"y\":[0.6846614477016644,1.980138668198288,1.661045859534536,0.7149964956697121,1.5911205439661784,1.6523480909105532,1.4300814264707693,1.3523378811154485,0.1800072273626192,1.6512256348495242,1.452647910216025,1.2712206254477811,1.925086370010304,0.0329419805963207,1.0131303872908877,1.5627754286128828,0.6453631143664889,1.1337227335440563,1.608415047628195,0.6946958557032787,0.7924841076365614,0.382527011171534,1.5170028546452663,1.306658346065857,0.9351353261208657,1.3083593361414652,1.5403245102399552,0.3632954490581799,1.4430303660182893,0.7593110814283279,1.8143496477145913,1.0632746154608754,1.5383170252860476,1.0787644318827492,0.4243590104902739,0.08840155582799847,0.22305662917134228,0.5361965250580525,0.10921203883326847,0.9827821266737646,1.9749627340871583,1.3031183348233863,1.0696027291405819,0.5182418411118324,1.489062773458771,1.0870088088719623,0.6785788717414225,0.416921190646105,1.2752417823929978,1.3001983895883185,1.176208873143671,1.9581816874920106,0.06677713103883631,1.3190687189391124,0.5568300750704944,0.8455600947329338,0.4379911916021739,0.11786875077881032,1.4361596843825573,1.1888464150665925,1.2432387031432532,1.195817013658206,0.573910013870583,0.747411030734972,0.3588023719205431,1.6941920764083074,0.13776745263796952,0.397388183709908,0.6951771671512312,1.7942000086362455,1.708139367099427,1.5236700559894159,0.16713176821758635,1.7255880488353963,1.8410014262016419,0.29167746235603165,1.1956307172508196,0.06405635837388512,1.7769841651126939,1.174983155431978,1.4871217042950482,1.9040893205687546,0.47193040195069225,0.3472549369685747,1.3260869020249046,1.1404569476521078,0.8374492119821935,1.2125931046000349,0.3726466188074764,0.07178365661814778,0.045947688679718546,1.1881533563503552,0.9271868182469531,0.885701893404276,1.7962552084470658,0.5332592315570985,0.16897798396513686,0.9697935926073877,1.9224671340493371,1.4895551770942959,1.7983273127935617,0.7905483347141748,1.0211505213887166,0.9327919355797962,1.29837195562394,1.4571794392259019,0.26951975219000923,0.47533774942363793,1.5876010447505808,1.0733907888209866,0.9244747033089369,0.18078070915771383,1.3676278418809664,1.669928686408364,0.22255848478870455,0.995392428292099,0.05997114097003564,1.5453325209800415,1.6636663298312349,0.7883838809391928,1.0984483288943623,1.705079639117288,1.4192612491705603,0.18595868274733984,1.4770695363032065,1.3655694921522699,1.2459813264528776,0.6775705359106561,1.3170017188899634,0.516497499714089,0.9770546573479808,1.7693292707171473,1.4744316980834125,0.9822143531569671,1.0363581518013891,0.12237361693352478,0.38906652303527123,0.01692558475637229,1.6183980438823924,0.9316086161347656,0.38500309328459403,1.9199063747135146,0.6258450084531391,1.1019915851500084,1.4805660002099157,0.2895921172079192,0.44250813924041,0.3428903165590498,0.8275034103290251,1.8094928746445893,0.19710335452302452,1.8288776235754853,0.8008744463191442,0.34132291562433625,1.3169369557576522,0.4743578227155889,1.416180288629414,0.709279909379323,0.9143724429064464,1.0200802859276128,1.2156741017247934,1.7839876993898947,0.2559532112623599,1.2969017406731904,1.927509966268611,0.3234520746263807,1.0070552494220943,1.2221469196014052,0.32383837208866817,1.984667562453677,1.9741851302742974,1.667761443684729,1.4865712545158574,1.9258420733402977,0.3561095812478272,1.6055578962840609,0.2305987810388661,1.1006831332420748,0.8651141161711675,1.0253813270568406,0.9888037842756829,1.7193335850778162,0.017683764758499088,1.5509627888767512,0.558133265881605,0.7152170668844895,0.06219945784822167,0.380679057997388,1.356083233420192,1.9185103835570243,1.464578770244005,1.1229341818079965,0.5163528237716739,0.9977259209709866,1.4803897355816495,0.8306766831472951,1.2618921877676574,0.7077844339936945,1.7804195711958095,1.776864864943609],\"type\":\"scatter\",\"name\":\"y2\",\"yaxis\":\"y\",\"x\":[0.7672485136681091,0.11795159576058367,0.31748180172846396,0.9173764788542453,0.04068450381972055,0.4327413611680977,0.18687071785588238,0.2891427818380865,0.5845536241848408,0.07965548491180141,0.3788830126149205,0.6527186459952932,0.6281473696246209,0.8239563088708604,0.031151487750835427,0.47423628355255554,0.6502030218567201,0.5892176770199,0.014929494104924723,0.06309429695425872,0.07370237367117993,0.29626251514851365,0.10544146203068916,0.6419921177773784,0.44917683943120434,0.808261591639716,0.9202151904797198,0.13005448438966627,0.3037777773944983,0.9148795525266524,0.30611342355783,0.7561469355924137,0.0076317090978430535,0.8955339770001076,0.31770268541847724,0.36951782312175463,0.44402997360438845,0.6332454969996271,0.029171880790898053,0.6516035684346153,0.5052134359233276,0.044876233978984326,0.4760257475050378,0.8650693752978991,0.008275416687564263,0.09345151868056822,0.9131971163957289,0.5041631485545044,0.6504467072190308,0.15475433853039755,0.19211976791742846,0.1498975112165044,0.7142958699487276,0.9634030007538261,0.2843322451300807,0.8746543091170129,0.5499084318384502,0.5503091199127199,0.3308660576209239,0.2397496308475333,0.11052116733456008,0.5534214944816731,0.16508716183420047,0.7556503889072979,0.9384699386230719,0.567714771359586,0.771228971015139,0.8854417212359116,0.8630888142689417,0.8208468448634827,0.07077211973201147,0.15002168899308455,0.0185683101276628,0.8998382935531593,0.009354664060715834,0.7010043864855928,0.10113373349464672,0.15956167012414824,0.11713231163196602,0.8378401324197586,0.21450267012870916,0.6113328126960362,0.5193774698936351,0.21165229704473032,0.9506423167882887,0.7629308843677349,0.4269059339035486,0.8215485200923267,0.7337550037488767,0.9136980681948237,0.010542984789376098,0.5211030124720117,0.07249544633964389,0.8228234002047146,0.7559503442553346,0.6475470962405263,0.6205476280260915,0.5998047247000269,0.7307384329908269,0.4009807527280542,0.5376735738428304,0.5176328477386292,0.19369793816282233,0.0014143478103054719,0.005729932513967695,0.20873313618290323,0.6862857125857187,0.03202566102742166,0.6918870155416725,0.13092156175821734,0.9718920858730937,0.9950817132211056,0.46512266699706095,0.8996178508441008,0.32855683875177144,0.2550228472165188,0.031117421482609098,0.5793266674686206,0.48680109860232657,0.2761472002291916,0.45225114286043033,0.7540780727712191,0.07322672120268225,0.5894910908883211,0.986524739978119,0.001758020222996981,0.15626465918712906,0.27479090584334576,0.42667653804695926,0.2223946497338869,0.8007088009389751,0.48335719550072187,0.40998314492790233,0.4080871930578507,0.3508314733801978,0.8481124677679515,0.8058412632856204,0.3682565483929052,0.3885219863754703,0.2993373888668647,0.3884761107637562,0.900491090478978,0.7573031418026139,0.5725281305655845,0.06944569918905796,0.8248002696067003,0.7605353890403594,0.7924884813324573,0.9035105229558624,0.5743278435691808,0.24377416106333594,0.4322147359016375,0.015583275013869136,0.6808085743548025,0.6047530503356568,0.8688417001437732,0.8657392674729021,0.9219163130630339,0.11943983874085351,0.35570606389355697,0.29685614947204564,0.026779939996009583,0.5238006681168894,0.5934556059447473,0.9636370697098176,0.7932927710352333,0.2783560228864286,0.3560536785021775,0.7374668291078459,0.43810809195948486,0.5896540992732631,0.06250494726925826,0.3165555127070252,0.5899402009049692,0.5418096111751101,0.07578117574923793,0.695774923089683,0.5802591664478312,0.21673656709221034,0.37538273556954627,0.2576058510313868,0.6065819704411795,0.6137186389022977,0.3238400361418887,0.6367325947016638,0.937866581103886,0.8297388672256907,0.7286775401921914,0.6666795294077159,0.9829180709206993,0.41178436368008065,0.11996443869001583,0.4722587396200373,0.005792887610039932,0.6840915678494539,0.19252142814420958,0.22712822671465838,0.5068910949242895,0.3165207056704038,0.8873675076770016]}], {\"showlegend\":true,\"xaxis\":{\"gridwidth\":0.5,\"tickvals\":[0.0,0.25,0.5,0.75,1.0],\"visible\":true,\"ticks\":\"inside\",\"tickmode\":\"array\",\"domain\":[0.05100612423447069,0.9934383202099737],\"linecolor\":\"rgba(0, 0, 0, 1.000)\",\"showgrid\":true,\"title\":\"\",\"mirror\":false,\"tickangle\":0,\"showline\":true,\"gridcolor\":\"rgba(0, 0, 0, 0.100)\",\"titlefont\":{\"color\":\"rgba(0, 0, 0, 1.000)\",\"family\":\"sans-serif\",\"size\":15},\"tickcolor\":\"rgb(0, 0, 0)\",\"ticktext\":[\"0.00\",\"0.25\",\"0.50\",\"0.75\",\"1.00\"],\"zeroline\":false,\"type\":\"-\",\"tickfont\":{\"color\":\"rgba(0, 0, 0, 1.000)\",\"family\":\"sans-serif\",\"size\":11},\"zerolinecolor\":\"rgba(0, 0, 0, 1.000)\",\"anchor\":\"y\"},\"paper_bgcolor\":\"rgba(255, 255, 255, 1.000)\",\"annotations\":[],\"height\":400,\"margin\":{\"l\":0,\"b\":20,\"r\":0,\"t\":20},\"plot_bgcolor\":\"rgba(255, 255, 255, 1.000)\",\"yaxis\":{\"gridwidth\":0.5,\"tickvals\":[0.0,0.5,1.0,1.5,2.0],\"visible\":true,\"ticks\":\"inside\",\"tickmode\":\"array\",\"domain\":[0.03762029746281716,0.9901574803149606],\"linecolor\":\"rgba(0, 0, 0, 1.000)\",\"showgrid\":true,\"title\":\"\",\"mirror\":false,\"tickangle\":0,\"showline\":true,\"gridcolor\":\"rgba(0, 0, 0, 0.100)\",\"titlefont\":{\"color\":\"rgba(0, 0, 0, 1.000)\",\"family\":\"sans-serif\",\"size\":15},\"tickcolor\":\"rgb(0, 0, 0)\",\"ticktext\":[\"0.0\",\"0.5\",\"1.0\",\"1.5\",\"2.0\"],\"zeroline\":false,\"type\":\"-\",\"tickfont\":{\"color\":\"rgba(0, 0, 0, 1.000)\",\"family\":\"sans-serif\",\"size\":11},\"zerolinecolor\":\"rgba(0, 0, 0, 1.000)\",\"anchor\":\"x\"},\"legend\":{\"bordercolor\":\"rgba(0, 0, 0, 1.000)\",\"bgcolor\":\"rgba(255, 255, 255, 1.000)\",\"font\":{\"color\":\"rgba(0, 0, 0, 1.000)\",\"family\":\"sans-serif\",\"size\":11},\"y\":1.0,\"x\":1.0},\"width\":600});\n",
       "    </script>\n"
      ]
     },
     "execution_count": 167,
     "metadata": {},
     "output_type": "execute_result"
    }
   ],
   "source": [
    "boundary = [[0,1],[0,2]]\n",
    "f(x) = x[1]^2 +x[2]\n",
    "integral = montecarloIntegral(f,boundary,200)\n",
    "difference(x) = x[2]-x[1]\n",
    "drawRect([0,0],1,2,integral[2])"
   ]
  },
  {
   "cell_type": "code",
   "execution_count": 168,
   "metadata": {},
   "outputs": [
    {
     "name": "stdout",
     "output_type": "stream",
     "text": [
      "El valor de la integral es 2.686364852146194\n"
     ]
    }
   ],
   "source": [
    "println(\"El valor de la integral es \",integral[1])"
   ]
  },
  {
   "cell_type": "markdown",
   "metadata": {},
   "source": [
    "Ahora hagamos la integral de una función $f:\\mathbb{R^3} \\to \\mathbb{R}$ como $f(x,y,z) = x+y+z$ en la region $[0,1]\\times[0,1]\\times[0,1]$ el valor de dicha integral es:\n",
    "\n",
    "\n",
    "$$\\int_{0}^{1} \\int_{0}^{1} \\int_{0}^{1} (x+y+z)dxdydx = \\frac{3}{2} = 1.5$$\n"
   ]
  },
  {
   "cell_type": "code",
   "execution_count": 169,
   "metadata": {},
   "outputs": [
    {
     "data": {
      "text/html": [
       "<script src=\"/home/jrun/.julia/v0.6/Plots/src/backends/../../deps/plotly-latest.min.js\"></script>    <div id=\"a18b27b0-ce3f-4e4f-b921-90ab6f2fdfa8\" style=\"width:600px;height:400px;\"></div>\n",
       "    <script>\n",
       "    PLOT = document.getElementById('a18b27b0-ce3f-4e4f-b921-90ab6f2fdfa8');\n",
       "    Plotly.plot(PLOT, [{\"xaxis\":\"x\",\"colorbar\":{\"title\":\"\"},\"yaxis\":\"y\",\"x\":[1,0],\"showlegend\":true,\"mode\":\"lines\",\"name\":\"y1\",\"z\":[0,0],\"line\":{\"color\":\"rgba(0, 0, 139, 1.000)\",\"shape\":\"linear\",\"dash\":\"solid\",\"width\":1},\"y\":[0,0],\"type\":\"scatter3d\"},{\"xaxis\":\"x\",\"colorbar\":{\"title\":\"\"},\"yaxis\":\"y\",\"x\":[0,0],\"showlegend\":true,\"mode\":\"lines\",\"name\":\"y2\",\"z\":[0,0],\"line\":{\"color\":\"rgba(0, 0, 139, 1.000)\",\"shape\":\"linear\",\"dash\":\"solid\",\"width\":1},\"y\":[0,1],\"type\":\"scatter3d\"},{\"xaxis\":\"x\",\"colorbar\":{\"title\":\"\"},\"yaxis\":\"y\",\"x\":[0,0],\"showlegend\":true,\"mode\":\"lines\",\"name\":\"y3\",\"z\":[0,1],\"line\":{\"color\":\"rgba(0, 0, 139, 1.000)\",\"shape\":\"linear\",\"dash\":\"solid\",\"width\":1},\"y\":[0,0],\"type\":\"scatter3d\"},{\"xaxis\":\"x\",\"colorbar\":{\"title\":\"\"},\"yaxis\":\"y\",\"x\":[1,1],\"showlegend\":true,\"mode\":\"lines\",\"name\":\"y4\",\"z\":[0,0],\"line\":{\"color\":\"rgba(0, 0, 139, 1.000)\",\"shape\":\"linear\",\"dash\":\"solid\",\"width\":1},\"y\":[0,1],\"type\":\"scatter3d\"},{\"xaxis\":\"x\",\"colorbar\":{\"title\":\"\"},\"yaxis\":\"y\",\"x\":[1,1],\"showlegend\":true,\"mode\":\"lines\",\"name\":\"y5\",\"z\":[0,1],\"line\":{\"color\":\"rgba(0, 0, 139, 1.000)\",\"shape\":\"linear\",\"dash\":\"solid\",\"width\":1},\"y\":[0,0],\"type\":\"scatter3d\"},{\"xaxis\":\"x\",\"colorbar\":{\"title\":\"\"},\"yaxis\":\"y\",\"x\":[1,0],\"showlegend\":true,\"mode\":\"lines\",\"name\":\"y6\",\"z\":[0,0],\"line\":{\"color\":\"rgba(0, 0, 139, 1.000)\",\"shape\":\"linear\",\"dash\":\"solid\",\"width\":1},\"y\":[1,1],\"type\":\"scatter3d\"},{\"xaxis\":\"x\",\"colorbar\":{\"title\":\"\"},\"yaxis\":\"y\",\"x\":[0,0],\"showlegend\":true,\"mode\":\"lines\",\"name\":\"y7\",\"z\":[0,1],\"line\":{\"color\":\"rgba(0, 0, 139, 1.000)\",\"shape\":\"linear\",\"dash\":\"solid\",\"width\":1},\"y\":[1,1],\"type\":\"scatter3d\"},{\"xaxis\":\"x\",\"colorbar\":{\"title\":\"\"},\"yaxis\":\"y\",\"x\":[0,0],\"showlegend\":true,\"mode\":\"lines\",\"name\":\"y8\",\"z\":[1,1],\"line\":{\"color\":\"rgba(0, 0, 139, 1.000)\",\"shape\":\"linear\",\"dash\":\"solid\",\"width\":1},\"y\":[0,1],\"type\":\"scatter3d\"},{\"xaxis\":\"x\",\"colorbar\":{\"title\":\"\"},\"yaxis\":\"y\",\"x\":[1,0],\"showlegend\":true,\"mode\":\"lines\",\"name\":\"y9\",\"z\":[1,1],\"line\":{\"color\":\"rgba(0, 0, 139, 1.000)\",\"shape\":\"linear\",\"dash\":\"solid\",\"width\":1},\"y\":[0,0],\"type\":\"scatter3d\"},{\"xaxis\":\"x\",\"colorbar\":{\"title\":\"\"},\"yaxis\":\"y\",\"x\":[1,1],\"showlegend\":true,\"mode\":\"lines\",\"name\":\"y10\",\"z\":[0,1],\"line\":{\"color\":\"rgba(0, 0, 139, 1.000)\",\"shape\":\"linear\",\"dash\":\"solid\",\"width\":1},\"y\":[1,1],\"type\":\"scatter3d\"},{\"xaxis\":\"x\",\"colorbar\":{\"title\":\"\"},\"yaxis\":\"y\",\"x\":[1,0],\"showlegend\":true,\"mode\":\"lines\",\"name\":\"y11\",\"z\":[1,1],\"line\":{\"color\":\"rgba(0, 0, 139, 1.000)\",\"shape\":\"linear\",\"dash\":\"solid\",\"width\":1},\"y\":[1,1],\"type\":\"scatter3d\"},{\"xaxis\":\"x\",\"colorbar\":{\"title\":\"\"},\"yaxis\":\"y\",\"x\":[1,1],\"showlegend\":true,\"mode\":\"lines\",\"name\":\"y12\",\"z\":[1,1],\"line\":{\"color\":\"rgba(0, 0, 139, 1.000)\",\"shape\":\"linear\",\"dash\":\"solid\",\"width\":1},\"y\":[0,1],\"type\":\"scatter3d\"},{\"xaxis\":\"x\",\"colorbar\":{\"title\":\"\"},\"yaxis\":\"y\",\"x\":[0.2016328578268889,0.7183260061419312,0.1833702767718266,0.608166612202728,0.3673269151483596,0.7873307889119896,0.7954703490982802,0.22431033891233598,0.30480205844434405,0.2795147455400637,0.9253333439480209,0.6178706786989272,0.4901985396854085,0.8910671082949448,0.8383626291415593,0.6273144858165329,0.9434800686788658,0.17314234317771948,0.42754249573160474,0.694678896500398,0.8684387692386168,0.8001624807627798,0.3248444191379092,0.8514682618131015,0.6287886467824852,0.5124344032441199,0.7537026798951572,0.22126035670694422,0.4724965265755252,0.07380655836027827,0.1780981794626224,0.6766185714554183,0.880573974808657,0.8543049900623843,0.6141560622426077,0.26606174155945905,0.22392840748513043,0.36288143529273054,0.9299406491450399,0.1835023768354751,0.23668395411667986,0.71110472253806,0.642586950748383,0.2380115383442818,0.7617005180333849,0.9004427463169102,0.4915203790500313,0.39965044422058904,0.4592054074197658,0.780479612512301,0.37754719988144614,0.19837052511637365,0.7071578152849185,0.16477853035479395,0.3337301513010067,0.30829631446046557,0.14851985396795442,0.06039856281829037,0.6252333281146871,0.8880481733372176,0.8212545705900407,0.6121673766503797,0.5577591514100777,0.7686692133627964,0.2204250397104286,0.07637233379773511,0.6569600525804911,0.09696019988141891,0.538706758221686,0.39059710197550035,0.1400823702508922,0.5038190295634897,0.22563520719953356,0.7722248332367072,0.34537194547643013,0.16388453833890937,0.01210830183812095,0.9403092306723,0.17353727132888364,0.9750765779293633,0.32924152124716777,0.4953550600744949,0.8844203939150086,0.704896599592993,0.4430309975078164,0.9296027041578785,0.4067222172226226,0.041440071196010564,0.263581963375791,0.10142751869211031,0.19330984545816987,0.29707103332991713,0.08616078727755716,0.6292212171099509,0.6451152215315761,0.2782004823191395,0.9937670147354583,0.8278034805209018,0.1471957820513683,0.9240259206419958,0.7980620821948188,0.3629696073976325,0.9020310869629522,0.4652042887234884,0.9607288542465628,0.9307846835933513,0.2411518454190429,0.08671138280602797,0.039659503323437484,0.7667401233525881,0.14704173448926428,0.5038899513648338,0.3732460004039031,0.38710523513501127,0.21087468735161763,0.6622365738908884,0.9678386303530122,0.09518921257900947,0.2424061870841243,0.9802228343416131,0.9069882279688217,0.7986405735156699,0.35414947500172467,0.32768367443003266,0.7239415139504639,0.10898484907053496,0.5016099436403068,0.4182490546895059,0.5614165165474754,0.07751958316068341,0.8709179352982355,0.41076155467776143,0.17012178665426658,0.23403362059938138,0.28772602403158754,0.3981298115726446,0.6806081436622298,0.880333181546006,0.30352383362645297,0.8898212832882,0.906195534139971,0.7275111645924872,0.13946463339494763,0.4749067792316706,0.507423812883742,0.36243222235394246,0.2799251383628707,0.9847904800602334,0.5649998454303264,0.8352411097990495,0.6085167138694885,0.09480067024458294,0.5455393744982404,0.9134316885267342,0.9432612411515737,0.4009728925338516,0.8434632963062871,0.18266845796236364,0.2756449656116884,0.19110783524140373,0.060560493019716555,0.023030699265509824,0.10601258108100686,0.8565512028129743,0.9008935448636957,0.5368856457086844,0.8897746555260826,0.2967992650875144,0.679330582628308,0.41459633497746884,0.3171222950960586,0.24305262460911314,0.6475839031687958,0.4197696192584146,0.5200281273651168,0.2217105028098758,0.9025728714485264,0.5301864861485412,0.6264859252154518,0.3251706517853248,0.5067514507785629,0.568157778164027,0.8238170075312397,0.47298977315737556,0.8910274763585277,0.3346954260547361,0.40217088084763697,0.6270096059695387,0.36927608419531355,0.8755311287485765,0.6694059463160897,0.024501813553600593,0.11810057185766865,0.6391341729122655,0.2254819531443497,0.10350894985042824,0.2785990657142796,0.7782075940978199,0.8983832378776049,0.5378092745605645],\"showlegend\":true,\"mode\":\"markers\",\"name\":\"y13\",\"z\":[0.5270134237618043,0.5437822436432345,0.13502846211457897,0.3610627682070169,0.23878140090991784,0.04737467872717671,0.10402998232815519,0.20123881075415984,0.6711863407852448,0.11172804242257994,0.42519600955356096,0.49543408854151627,0.6876818800342499,0.7655667065672793,0.0079588076005499,0.49758294835264283,0.9626291468800676,0.5830247451665296,0.6876301853931703,0.13071450888846048,0.10980246587609721,0.913055959476025,0.9591365573495849,0.030653916964776373,0.08194904438143946,0.6340036885646361,0.5725288532906403,0.01885201901860989,0.2650398781032819,0.5768538057402715,0.6898378430334953,0.5445337721874925,0.6551328413606265,0.09082525991807966,0.1486054246221855,0.22894901670952783,0.5056401552279877,0.7796274309511282,0.45710575243295026,0.039044139369098785,0.5785594664821259,0.5530280266962506,0.3844282926956981,0.6078087434328885,0.4781072733525462,0.2707520887300261,0.5853294034975327,0.6050219883479311,0.331174762902116,0.3689006186037438,0.39428427306628144,0.4894133163298735,0.048585529612379164,0.7341268729299266,0.2698087095896706,0.6190304670447309,0.8599645081557528,0.7719209506266429,0.8066227293630772,0.4805595772374718,0.8924069671081134,0.42351182824934375,0.015290521279140767,0.45731789009076396,0.6275432142153472,0.08394072230414618,0.04619428541574422,0.1861280011961226,0.8856851507029071,0.22056569270702986,0.15538796729949955,0.8591130304529282,0.0212182253282287,0.16628294947641398,0.11425091646074126,0.563841742615685,0.12810628207428043,0.9269819479255303,0.8280939424614095,0.1324014302050458,0.09394906241540779,0.5365296054332842,0.8080585517915144,0.15890970684917471,0.0195152067039448,0.215957956565328,0.8556052857249186,0.473345640207135,0.8516692084393411,0.47815107002719315,0.25648610783973647,0.9484145485235829,0.43967694229096566,0.43795904824823695,0.1945052440918147,0.2372334087287058,0.882712764399193,0.7992165103289768,0.4366862720577722,0.2482861063507502,0.3239546920080314,0.6343606448577674,0.9705428568704291,0.48987245654364564,0.33675606370479794,0.3974327046611019,0.7570892074422197,0.27488858399355753,0.0843960075944401,0.46204998794096697,0.5441168205555975,0.7951212050619416,0.11816637566235122,0.8723605737537612,0.755406712726189,0.5923742941812782,0.555419919346237,0.08287648152445048,0.2076745597229337,0.24811618103887767,0.8387370300097183,0.061775078194554744,0.24834541380277408,0.16463369323471833,0.6093140450484955,0.2831812742986084,0.162791130891623,0.2220748592798265,0.9894543973773491,0.13410106617648676,0.3181808282345526,0.99796666134835,0.26020888862226177,0.2320941808457151,0.7187050781868465,0.4619613883351985,0.4628455488093912,0.5614941141949934,0.16152822529587074,0.05702116257520973,0.5024792568521059,0.45357805983345467,0.6006895396439507,0.06149128431275064,0.5800927230809829,0.9864737615692891,0.44234640709590645,0.17044688871863456,0.7020304039944758,0.464427820150203,0.8024972195426925,0.21354581621358748,0.9305193741022586,0.4681522982902353,0.024478994913509355,0.19480354569444125,0.26097638197593565,0.5037167688456852,0.10146356527235745,0.010013687211764433,0.25276568659355503,0.4009824067707508,0.023485608846862016,0.7763681185636289,0.4865571616266875,0.6148125426109512,0.7532862045993116,0.3810959518726711,0.379933101411541,0.7322524200710123,0.6826629848302346,0.8508978430897713,0.3291931841185234,0.20278397630890987,0.9712402597084278,0.7607047404847587,0.7229847468182735,0.5198488884591954,0.9545553874222827,0.5404451425392387,0.4213118996265812,0.5419937703144602,0.7204143416871494,0.3503670365387621,0.6475560041390731,0.43316035104813144,0.5195982414314275,0.5462634240731976,0.9590336078740729,0.6374523676516228,0.7510721979225929,0.3129977938041366,0.2568651718538282,0.049133242896001184,0.6171175066542305,0.7826340340052085,0.3529752306753966,0.25888441894264047,0.4673763168461489,0.9428701328092022],\"marker\":{\"symbol\":\"circle\",\"color\":\"rgba(97, 141, 246, 1.000)\",\"line\":{\"color\":\"rgba(0, 0, 0, 1.000)\",\"width\":1},\"size\":8},\"y\":[0.7325741689262513,0.6795187528393778,0.023409967594572922,0.9267372994058236,0.77049976552734,0.2837977446019344,0.11658754822571171,0.42793904650120584,0.09763993483263178,0.984152914946141,0.19279465106907412,0.22623465073951565,0.2828506772558752,0.2910422541509292,0.04734552241818424,0.21376979885779313,0.5946606769533713,0.28778288699810517,0.5728619297166164,0.06442512482579033,0.22035453228419222,0.42019703848696754,0.01968664655211505,0.4244518356937206,0.18949468561082372,0.18587734534498157,0.41308122699343786,0.1969607063291483,0.35372447671741436,0.6735923476978716,0.9850366579780918,0.44121024122957975,0.5619855283222224,0.9190043301080029,0.3690395002278286,0.7406767282516362,0.9796664018814121,0.5788714543644935,0.6266690291282795,0.9535391691995712,0.9445509923626458,0.823374682295033,0.0993953344491576,0.7571017717593664,0.020379796366127856,0.29077047700940506,0.87949459209662,0.9620014696299726,0.9721159172850375,0.9424826032262812,0.8838526029083651,0.1347313481101644,0.46961403993964734,0.33664952211238686,0.40823885646278857,0.5751933058577896,0.9480819815712631,0.4069149593853596,0.5634033693611795,0.38173913633469536,0.4052443165133697,0.14022709439601222,0.9000887804028819,0.8265219851257357,0.37129767492334476,0.021305514215854693,0.21890456616400011,0.4399072592332527,0.9489813146975243,0.10056625978351441,0.39728916070743936,0.7639224221027539,0.29503602502616766,0.7483077923490435,0.09104706422446784,0.5919754579614172,0.08669601929697923,0.9008084821198028,0.32215346842133097,0.8852108039627931,0.6212015440713519,0.8694230552329829,0.7846478229443647,0.9970770305499779,0.9773917306627316,0.748403859942415,0.4493014310610093,0.7571785983166233,0.03473909842537237,0.18163561329547395,0.3484657765781978,0.22200822254968955,0.7068470423650197,0.12868356683041227,0.9053940548927162,0.6674475103905981,0.8995579912054528,0.6461514546457219,0.9531313382954709,0.004775098937300992,0.4100202657905587,0.4812022134687395,0.6701244332169416,0.2999690778106745,0.2308139819975783,0.444466329489293,0.7416728326920343,0.35324790825460184,0.12184259556667354,0.07931981026106061,0.18909636885187386,0.731548355529356,0.042419691089718325,0.15872710241597376,0.38880186989148346,0.9835957467588636,0.9938586114095822,0.7400434261639057,0.9142112810601875,0.7774898929514613,0.09180232929521503,0.3031473074771034,0.8872956064632944,0.0331187774399051,0.7054905489067604,0.5465410864236497,0.11106256505196321,0.07238096692097562,0.8517065589241015,0.8369218294391954,0.011197209622794357,0.10894763303029942,0.7773682882499215,0.5752482543306705,0.35757226390165187,0.8188212402143125,0.7172171297162,0.40902925194717765,0.6228564746303924,0.212929331517846,0.0935005582146824,0.17942106666993163,0.8327869302444149,0.2717308053269285,0.34421599289937643,0.10299047621670043,0.5576601020783811,0.9040031119809702,0.9050991387927207,0.19191861185418713,0.7724171431781275,0.7475360600986525,0.8562686015335932,0.37974366999078524,0.9169840684441561,0.15528551657943002,0.938001987715902,0.5055285925546797,0.2547992526117209,0.250309282701459,0.449391258035716,0.6855084693102234,0.7729384710546057,0.08816085059097079,0.006288090364220178,0.039648844556628315,0.5675772261897567,0.06155743999690544,0.179385806023997,0.9073379488492095,0.8491126729570901,0.9822859948245284,0.762492153210931,0.4038732432164509,0.5212341077218472,0.7508693211986674,0.4377360622536286,0.5562547921146259,0.48576586263826416,0.9961148575912739,0.6422208476212232,0.9686268104163505,0.4400485642393024,0.48936919266097,0.4255251743749433,0.8662484303770972,0.6541588327395331,0.7385118969889695,0.0037611363330103398,0.9769878548563509,0.25939696084388353,0.8185089240703161,0.06710125026408709,0.5304532032482325,0.6158882810122914,0.8532379910958174,0.768191416790754,0.43118303239758937,0.09075038114223921,0.7392496764805214],\"type\":\"scatter3d\"}], {\"showlegend\":false,\"paper_bgcolor\":\"rgba(255, 255, 255, 1.000)\",\"annotations\":[],\"height\":400,\"margin\":{\"l\":0,\"b\":20,\"r\":0,\"t\":20},\"plot_bgcolor\":\"rgba(255, 255, 255, 1.000)\",\"scene\":{\"xaxis\":{\"gridwidth\":0.5,\"tickvals\":[0.0,0.25,0.5,0.75,1.0],\"visible\":true,\"ticks\":\"inside\",\"tickmode\":\"array\",\"domain\":[0.0658209390492855,0.9934383202099738],\"linecolor\":\"rgba(0, 0, 0, 1.000)\",\"showgrid\":true,\"title\":\"\",\"mirror\":false,\"tickangle\":0,\"showline\":true,\"gridcolor\":\"rgba(0, 0, 0, 0.100)\",\"titlefont\":{\"color\":\"rgba(0, 0, 0, 1.000)\",\"family\":\"sans-serif\",\"size\":15},\"tickcolor\":\"rgb(0, 0, 0)\",\"ticktext\":[\"0.00\",\"0.25\",\"0.50\",\"0.75\",\"1.00\"],\"zeroline\":false,\"type\":\"-\",\"tickfont\":{\"color\":\"rgba(0, 0, 0, 1.000)\",\"family\":\"sans-serif\",\"size\":11},\"zerolinecolor\":\"rgba(0, 0, 0, 1.000)\",\"anchor\":\"y\"},\"yaxis\":{\"gridwidth\":0.5,\"tickvals\":[0.0,0.25,0.5,0.75,1.0],\"visible\":true,\"ticks\":\"inside\",\"tickmode\":\"array\",\"domain\":[0.03762029746281716,0.9901574803149606],\"linecolor\":\"rgba(0, 0, 0, 1.000)\",\"showgrid\":true,\"title\":\"\",\"mirror\":false,\"tickangle\":0,\"showline\":true,\"gridcolor\":\"rgba(0, 0, 0, 0.100)\",\"titlefont\":{\"color\":\"rgba(0, 0, 0, 1.000)\",\"family\":\"sans-serif\",\"size\":15},\"tickcolor\":\"rgb(0, 0, 0)\",\"ticktext\":[\"0.00\",\"0.25\",\"0.50\",\"0.75\",\"1.00\"],\"zeroline\":false,\"type\":\"-\",\"tickfont\":{\"color\":\"rgba(0, 0, 0, 1.000)\",\"family\":\"sans-serif\",\"size\":11},\"zerolinecolor\":\"rgba(0, 0, 0, 1.000)\",\"anchor\":\"x\"},\"zaxis\":{\"gridwidth\":0.5,\"tickvals\":[0.0,0.25,0.5,0.75,1.0],\"visible\":true,\"ticks\":\"inside\",\"tickmode\":\"array\",\"linecolor\":\"rgba(0, 0, 0, 1.000)\",\"showgrid\":true,\"title\":\"\",\"mirror\":false,\"tickangle\":0,\"showline\":true,\"gridcolor\":\"rgba(0, 0, 0, 0.100)\",\"titlefont\":{\"color\":\"rgba(0, 0, 0, 1.000)\",\"family\":\"sans-serif\",\"size\":15},\"tickcolor\":\"rgb(0, 0, 0)\",\"ticktext\":[\"0.00\",\"0.25\",\"0.50\",\"0.75\",\"1.00\"],\"zeroline\":false,\"type\":\"-\",\"tickfont\":{\"color\":\"rgba(0, 0, 0, 1.000)\",\"family\":\"sans-serif\",\"size\":11},\"zerolinecolor\":\"rgba(0, 0, 0, 1.000)\"}},\"width\":600});\n",
       "    </script>\n"
      ]
     },
     "execution_count": 169,
     "metadata": {},
     "output_type": "execute_result"
    }
   ],
   "source": [
    "boundary = [[0,1],[0,1],[0,1]]\n",
    "f(x) = x[1] +x[2]+x[3]\n",
    "integral = montecarloIntegral(f,boundary,200)\n",
    "cubeDraw([0,0,0],1,1,1,integral[2])"
   ]
  },
  {
   "cell_type": "code",
   "execution_count": 170,
   "metadata": {},
   "outputs": [
    {
     "name": "stdout",
     "output_type": "stream",
     "text": [
      "El valor de la integral es 1.4701645702555104\n"
     ]
    }
   ],
   "source": [
    "println(\"El valor de la integral es \",integral[1])"
   ]
  },
  {
   "cell_type": "markdown",
   "metadata": {},
   "source": [
    "## 6.3.-Distribución del valor de la integral\n",
    "\n",
    "Ahora vamos a ver como son las distribuciones de probabilidad de la integral, al utilizar n puntos distintos intuitivamente lo que esperamos es que conforme integramos con mas puntos, la distribución se haga menos ancha, aproximandose a una función delta de dirac centrada en el valor de la integral."
   ]
  },
  {
   "cell_type": "code",
   "execution_count": 171,
   "metadata": {},
   "outputs": [
    {
     "data": {
      "text/plain": [
       "valueDist (generic function with 1 method)"
      ]
     },
     "execution_count": 171,
     "metadata": {},
     "output_type": "execute_result"
    }
   ],
   "source": [
    "function valueDist(f::Function,boundary,N)\n",
    "    numberOfTossings = 10000\n",
    "    values = []\n",
    "    for i in 1:numberOfTossings\n",
    "       push!(values,montecarloIntegral(f,boundary,N)[1]) \n",
    "    end\n",
    "    \n",
    "    return values\n",
    "end"
   ]
  },
  {
   "cell_type": "code",
   "execution_count": 172,
   "metadata": {},
   "outputs": [
    {
     "data": {
      "text/html": [
       "<script src=\"/home/jrun/.julia/v0.6/Plots/src/backends/../../deps/plotly-latest.min.js\"></script>    <div id=\"b5213898-847f-4ea3-945b-0191226e64e6\" style=\"width:600px;height:400px;\"></div>\n",
       "    <script>\n",
       "    PLOT = document.getElementById('b5213898-847f-4ea3-945b-0191226e64e6');\n",
       "    Plotly.plot(PLOT, [{\"showlegend\":true,\"mode\":\"lines\",\"xaxis\":\"x\",\"colorbar\":{\"title\":\"\"},\"line\":{\"color\":\"rgba(0, 154, 250, 1.000)\",\"shape\":\"linear\",\"dash\":\"solid\",\"width\":1},\"y\":[5.093817278378765e-7,1.1868803240844272e-6,3.2358922269537517e-6,8.303025024858357e-6,1.959546286599334e-5,4.2450786902961115e-5,8.440955438501874e-5,0.0001540747887143823,0.0002582348865282569,0.0003975971764561592,0.0005628683611673413,0.0007339696190740241,0.0008846950853437941,0.000992587986505451,0.0010502598811995556,0.0010721592672344538,0.0010919479240900287,0.0011501634449235354,0.0012773689054448845,0.0014812263361500743,0.0017446960032897697,0.002037050058554737,0.0023322339020990634,0.002624394964491974,0.0029316220718995536,0.00328639736732448,0.003720659192245742,0.004257798736226845,0.004918997436550021,0.005739655472810567,0.006781898351714535,0.008129356590129184,0.009861311384840263,0.012017483522884018,0.014572552640029119,0.017435920547089364,0.02047937417446593,0.023580209528947235,0.026658472375883323,0.029690385814080206,0.03269534961378469,0.035711768532956024,0.03878383628776085,0.041970868745291,0.04537127900990025,0.04914169965477498,0.05349707311114259,0.058691727950362475,0.0649887167049797,0.07261966338600784,0.08173189456543012,0.09232896945061103,0.1042330913684988,0.1171102947159335,0.13057805137136616,0.14436330392402702,0.15843323811954071,0.17302311765958345,0.1885425082158645,0.20541318216381957,0.22392393452679835,0.24415953361125942,0.2660055700474698,0.2891981022539746,0.31339379608950874,0.3382553177782343,0.36354442104409684,0.3891933073478843,0.41531685971973914,0.44215564224314124,0.4699813474175353,0.4990106135977897,0.5293457895121765,0.5609264174294419,0.5934791581997033,0.6264991948300435,0.6593298451795784,0.6913725496948445,0.7223617520961477,0.7525537323042106,0.7826872367253115,0.8136900640797362,0.8462575294715069,0.8805136350992255,0.915927535033635,0.9515228612657006,0.9862698942832503,1.0194716665245955,1.0509743425207683,1.0811234295565553,1.1105009027386765,1.1395706505232734,1.1683982037854768,1.1965736072183726,1.2233609738914373,1.2479796495811237,1.2698668678926983,1.2888143584469753,1.3049661105720276,1.3187284815690818,1.3306386470226905,1.3412008113464544,1.3506939046239899,1.3589939962528723,1.365493586606995,1.3691866746870838,1.368920040475667,1.363732636942587,1.3531655828667264,1.337441216210855,1.3174625325753417,1.2946423966252067,1.2706111914930889,1.2468665454578016,1.2244321155941147,1.2036008822570066,1.1838500474926006,1.1640001255267394,1.1426194595317072,1.1185591808290694,1.091410347595669,1.061681616174814,1.0306169925021944,0.9997377912060484,0.9702999705719796,0.942860978844571,0.9170836629757702,0.8918294995911201,0.8655281957061095,0.8367317599163608,0.8046659301755071,0.7695408380322942,0.7324542980973606,0.6949185039611574,0.658255342422338,0.6231863602780114,0.5898199518776189,0.5579848546811494,0.5276456165766154,0.4991047527417493,0.47286131243753665,0.44923594792051474,0.42802416724882264,0.40841067349707144,0.3892056109778133,0.3692733784293337,0.34793299558272056,0.3251503673236873,0.3014678054444862,0.2777427928122496,0.2548345044413137,0.23336563655065146,0.21362254560612443,0.19558453450250532,0.17903257863719024,0.1636866445628965,0.14933555936096554,0.13592822522286965,0.12359107196193508,0.11254936209974485,0.1029742389074859,0.09483054858690133,0.08781650026749965,0.0814406210194894,0.07519989792144675,0.06876299421206042,0.062065189946831655,0.05528010185420813,0.04870255844290135,0.04261326412330692,0.03718597443172767,0.03246047060979404,0.02836887799887812,0.024786860364320693,0.021584639651619976,0.01866432982212662,0.01597927315374766,0.013534964525083555,0.011372879943233638,0.00954175068523079,0.00806566366967231,0.006921528230411287,0.0060363134837025136,0.005306353827684727,0.00463045624662523,0.003941516065164595,0.0032223923209432626,0.0025004874048431282,0.0018264129327140433,0.001248760586893014,0.0007962422094006794,0.0004722638174449756,0.0002600716636148936,0.00013278457541283207,6.278172942664195e-5,2.7460231465668008e-5,1.110216098904715e-5,4.151422082188106e-6,1.4582877566660103e-6,5.663359352592323e-7],\"type\":\"scatter\",\"name\":\"y1\",\"yaxis\":\"y\",\"x\":[1.3749384095304225,1.3872277334822176,1.3995170574340128,1.411806381385808,1.424095705337603,1.4363850292893983,1.4486743532411934,1.4609636771929888,1.473253001144784,1.4855423250965791,1.4978316490483743,1.5101209730001695,1.5224102969519646,1.5346996209037598,1.546988944855555,1.55927826880735,1.5715675927591453,1.5838569167109404,1.5961462406627356,1.6084355646145307,1.6207248885663261,1.6330142125181213,1.6453035364699165,1.6575928604217116,1.6698821843735068,1.682171508325302,1.694460832277097,1.7067501562288923,1.7190394801806874,1.7313288041324826,1.7436181280842777,1.755907452036073,1.7681967759878683,1.7804860999396634,1.7927754238914586,1.8050647478432538,1.817354071795049,1.829643395746844,1.8419327196986393,1.8542220436504344,1.8665113676022296,1.8788006915540247,1.89109001550582,1.903379339457615,1.9156686634094102,1.9279579873612056,1.9402473113130008,1.952536635264796,1.964825959216591,1.9771152831683863,1.9894046071201814,2.0016939310719764,2.013983255023772,2.026272578975567,2.0385619029273623,2.0508512268791574,2.0631405508309526,2.0754298747827478,2.087719198734543,2.100008522686338,2.1122978466381332,2.1245871705899284,2.1368764945417236,2.1491658184935187,2.161455142445314,2.173744466397109,2.186033790348904,2.1983231143006994,2.2106124382524945,2.2229017622042897,2.235191086156085,2.24748041010788,2.259769734059675,2.2720590580114703,2.2843483819632655,2.2966377059150607,2.308927029866856,2.3212163538186514,2.3335056777704466,2.3457950017222418,2.358084325674037,2.370373649625832,2.3826629735776272,2.3949522975294224,2.4072416214812176,2.4195309454330127,2.431820269384808,2.444109593336603,2.456398917288398,2.4686882412401934,2.4809775651919885,2.4932668891437837,2.505556213095579,2.517845537047374,2.530134860999169,2.5424241849509643,2.5547135089027595,2.5670028328545547,2.57929215680635,2.591581480758145,2.60387080470994,2.6161601286617353,2.6284494526135305,2.640738776565326,2.6530281005171212,2.6653174244689164,2.6776067484207116,2.6898960723725067,2.702185396324302,2.714474720276097,2.726764044227892,2.7390533681796874,2.7513426921314825,2.7636320160832777,2.775921340035073,2.788210663986868,2.800499987938663,2.8127893118904583,2.8250786358422535,2.8373679597940487,2.849657283745844,2.861946607697639,2.874235931649434,2.8865252556012293,2.8988145795530245,2.9111039035048196,2.923393227456615,2.93568255140841,2.9479718753602056,2.9602611993120007,2.972550523263796,2.984839847215591,2.997129171167386,3.0094184951191814,3.0217078190709765,3.0339971430227717,3.046286466974567,3.058575790926362,3.070865114878157,3.0831544388299523,3.0954437627817475,3.1077330867335426,3.120022410685338,3.132311734637133,3.144601058588928,3.1568903825407233,3.1691797064925185,3.1814690304443136,3.193758354396109,3.206047678347904,3.218337002299699,3.2306263262514943,3.2429156502032894,3.2552049741550846,3.26749429810688,3.2797836220586754,3.2920729460104705,3.3043622699622657,3.316651593914061,3.328940917865856,3.341230241817651,3.3535195657694463,3.3658088897212415,3.3780982136730366,3.390387537624832,3.402676861576627,3.414966185528422,3.4272555094802173,3.4395448334320124,3.4518341573838076,3.4641234813356028,3.476412805287398,3.488702129239193,3.5009914531909883,3.5132807771427834,3.5255701010945786,3.5378594250463737,3.550148748998169,3.562438072949964,3.5747273969017592,3.587016720853555,3.59930604480535,3.611595368757145,3.6238846927089403,3.6361740166607355,3.6484633406125306,3.660752664564326,3.673041988516121,3.685331312467916,3.6976206364197113,3.7099099603715064,3.7221992843233016,3.7344886082750968,3.746777932226892,3.759067256178687,3.7713565801304823,3.7836459040822774,3.7959352280340726,3.8082245519858677,3.820513875937663]}], {\"showlegend\":true,\"xaxis\":{\"gridwidth\":0.5,\"tickvals\":[0.0,1.0,2.0,3.0,4.0,5.0],\"visible\":true,\"ticks\":\"inside\",\"range\":[0.0,5.0],\"domain\":[0.0658209390492855,0.9934383202099738],\"tickmode\":\"array\",\"linecolor\":\"rgba(0, 0, 0, 1.000)\",\"showgrid\":true,\"title\":\"\",\"mirror\":false,\"tickangle\":0,\"showline\":true,\"gridcolor\":\"rgba(0, 0, 0, 0.100)\",\"titlefont\":{\"color\":\"rgba(0, 0, 0, 1.000)\",\"family\":\"sans-serif\",\"size\":15},\"tickcolor\":\"rgb(0, 0, 0)\",\"ticktext\":[\"0\",\"1\",\"2\",\"3\",\"4\",\"5\"],\"zeroline\":false,\"type\":\"-\",\"tickfont\":{\"color\":\"rgba(0, 0, 0, 1.000)\",\"family\":\"sans-serif\",\"size\":11},\"zerolinecolor\":\"rgba(0, 0, 0, 1.000)\",\"anchor\":\"y\"},\"paper_bgcolor\":\"rgba(255, 255, 255, 1.000)\",\"annotations\":[],\"height\":400,\"margin\":{\"l\":0,\"b\":20,\"r\":0,\"t\":20},\"plot_bgcolor\":\"rgba(255, 255, 255, 1.000)\",\"yaxis\":{\"gridwidth\":0.5,\"tickvals\":[0.25,0.5,0.75,1.0,1.25],\"visible\":true,\"ticks\":\"inside\",\"tickmode\":\"array\",\"domain\":[0.03762029746281716,0.9901574803149606],\"linecolor\":\"rgba(0, 0, 0, 1.000)\",\"showgrid\":true,\"title\":\"\",\"mirror\":false,\"tickangle\":0,\"showline\":true,\"gridcolor\":\"rgba(0, 0, 0, 0.100)\",\"titlefont\":{\"color\":\"rgba(0, 0, 0, 1.000)\",\"family\":\"sans-serif\",\"size\":15},\"tickcolor\":\"rgb(0, 0, 0)\",\"ticktext\":[\"0.25\",\"0.50\",\"0.75\",\"1.00\",\"1.25\"],\"zeroline\":false,\"type\":\"-\",\"tickfont\":{\"color\":\"rgba(0, 0, 0, 1.000)\",\"family\":\"sans-serif\",\"size\":11},\"zerolinecolor\":\"rgba(0, 0, 0, 1.000)\",\"anchor\":\"x\"},\"legend\":{\"bordercolor\":\"rgba(0, 0, 0, 1.000)\",\"bgcolor\":\"rgba(255, 255, 255, 1.000)\",\"font\":{\"color\":\"rgba(0, 0, 0, 1.000)\",\"family\":\"sans-serif\",\"size\":11},\"y\":1.0,\"x\":1.0},\"width\":600});\n",
       "    </script>\n"
      ]
     },
     "execution_count": 172,
     "metadata": {},
     "output_type": "execute_result"
    }
   ],
   "source": [
    "boundary = [[0,1],[0,2]]\n",
    "f(x) = x[1]^2 +x[2]\n",
    "\n",
    "#=Para N = 20=#\n",
    "values = valueDist(f,boundary,20)\n",
    "\n",
    "#=Graficamos el histograma =#\n",
    "using StatPlots; \n",
    "plots = StatPlots\n",
    "\n",
    "plots.density(values,xlim = (0,5))"
   ]
  },
  {
   "cell_type": "code",
   "execution_count": 173,
   "metadata": {},
   "outputs": [
    {
     "data": {
      "text/html": [
       "<script src=\"/home/jrun/.julia/v0.6/Plots/src/backends/../../deps/plotly-latest.min.js\"></script>    <div id=\"4fa951fd-e35b-4fd4-8b57-f08041ea34f3\" style=\"width:600px;height:400px;\"></div>\n",
       "    <script>\n",
       "    PLOT = document.getElementById('4fa951fd-e35b-4fd4-8b57-f08041ea34f3');\n",
       "    Plotly.plot(PLOT, [{\"showlegend\":true,\"mode\":\"lines\",\"xaxis\":\"x\",\"colorbar\":{\"title\":\"\"},\"line\":{\"color\":\"rgba(0, 154, 250, 1.000)\",\"shape\":\"linear\",\"dash\":\"solid\",\"width\":1},\"y\":[3.4734939436020795e-6,8.156353777621916e-6,2.3288507322263285e-5,6.23842975221578e-5,0.00015298218830309907,0.00034301684903027764,0.0007038792028390617,0.0013237417570411481,0.00228584052505596,0.0036332106902415263,0.005332302370745481,0.0072558286179099695,0.009201662444369561,0.010948040653021351,0.012325047164536152,0.0132720241481805,0.013856685438272063,0.01424920099338646,0.014663312018642679,0.015289425550660969,0.016247796805333864,0.017580473065629435,0.019279577948543434,0.02132643377214585,0.023706589971328497,0.026380574731038813,0.029224963785681714,0.031993595157959874,0.03435786609698538,0.03605057419431034,0.037069666758991815,0.03783791907157919,0.0392100128088785,0.04228424112951416,0.04807606534631766,0.057185332408055914,0.06959903062984875,0.08471663636324514,0.10159063528427995,0.11927754013323169,0.13713989151124623,0.15496539554709557,0.1728725432415079,0.19109599142448447,0.2098163172059136,0.22917847741675842,0.24953811724491803,0.27181965226006666,0.29772968912875347,0.32954833457798866,0.3694109999578902,0.41835575993396945,0.47571688633882914,0.5393979709462391,0.6070601211288577,0.6775882142687456,0.7518689444750827,0.8322782069214353,0.9211580278176422,1.0193276242418805,1.1257128651144075,1.2384289470025787,1.35665041603696,1.4820494031214804,1.6188071875117618,1.772002363231365,1.9450656446119987,2.1375397021721056,2.3443590231250435,2.5572171720677823,2.7675086371983815,2.9693589663849225,3.161094230338635,3.344450160037532,3.5223237786741346,3.696794953431872,3.8687422539485454,4.038996453477376,4.20977209751308,4.385015700856957,4.569247363703583,4.765609770252197,4.9743612034031965,5.19274689964871,5.416394777193643,5.64159783267566,5.867413111861039,6.096562516196254,6.334613619246194,6.587638723843904,6.859201984276236,7.1478610567954695,7.4462819451647455,7.742555532425988,8.023454213978773,8.27842821876217,8.502607624818044,8.697444054012962,8.868872905348303,9.024228417795639,9.169605536075832,9.308632495055235,9.442406518685752,9.569698598206218,9.686867193695646,9.787739186716047,9.864183049588918,9.9077908551705,9.912276295622487,9.87556101997506,9.800572663031447,9.694455236157014,9.56664868842039,9.426617010511414,9.281865300807155,9.136636969906554,8.991556949730041,8.844359895515561,8.69151740181495,8.53015671015659,8.359471678241276,8.18103256264844,7.997860781500424,7.812622174793533,7.625705478777132,7.434200747296037,7.232626809202892,7.0154611136668334,6.780350438546247,6.530129799665777,6.272213688558147,6.015481738667711,5.766419769630447,5.526767471865817,5.293882027581309,5.063238924339166,4.831254448890956,4.596720730875343,4.360354681876575,4.123301072051973,3.8859651377003934,3.6480403795854386,3.4095681585108992,3.172123220395945,2.9392259246222143,2.715689742235913,2.5062984481566564,2.314522362725652,2.1418252600414465,1.987692992866172,1.8501430582666885,1.7263581141196733,1.61322130231674,1.5077362082911314,1.4073943684455,1.3104699835344777,1.2161139834808894,1.1241491806218178,1.034645500004159,0.9475258899760044,0.8624548994120875,0.7790744909632076,0.6974158843887929,0.6182042068306797,0.5428501598639881,0.47311652874207055,0.41062155083061785,0.35639921245990336,0.3106700625182435,0.27284960512947315,0.24172057803676084,0.21567272988064035,0.19295795423141526,0.17196034513358824,0.15148392924422005,0.13101036329079813,0.11082329628825466,0.09189614347672681,0.07551992848000252,0.06277503662221547,0.05405292364936194,0.048841191261774525,0.045876607613723974,0.04359598943256422,0.040673263364905524,0.03640561491110024,0.030810508147046233,0.024448528877525914,0.018102314119312277,0.012468725744726045,0.00797135069703046,0.004720659819983553,0.002584732674309578,0.001306106473308475,0.0006080484068558079,0.0002603751286623535,0.00010241554212415239,3.698928101290022e-5,1.239368943497965e-5,4.390207596127738e-6],\"type\":\"scatter\",\"name\":\"y1\",\"yaxis\":\"y\",\"x\":[2.4756140712924846,2.47738598326707,2.4791578952416553,2.4809298072162402,2.4827017191908256,2.484473631165411,2.4862455431399964,2.4880174551145817,2.4897893670891666,2.491561279063752,2.4933331910383374,2.4951051030129228,2.496877014987508,2.498648926962093,2.5004208389366784,2.502192750911264,2.503964662885849,2.505736574860434,2.5075084868350195,2.509280398809605,2.5110523107841902,2.5128242227587756,2.5145961347333605,2.516368046707946,2.5181399586825313,2.5199118706571166,2.521683782631702,2.523455694606287,2.5252276065808723,2.5269995185554577,2.528771430530043,2.5305433425046284,2.5323152544792134,2.5340871664537987,2.535859078428384,2.5376309904029695,2.539402902377555,2.5411748143521398,2.542946726326725,2.5447186383013105,2.546490550275896,2.5482624622504813,2.550034374225066,2.5518062861996516,2.553578198174237,2.5553501101488223,2.5571220221234077,2.5588939340979926,2.560665846072578,2.5624377580471633,2.5642096700217487,2.5659815819963336,2.567753493970919,2.5695254059455044,2.5712973179200898,2.573069229894675,2.57484114186926,2.5766130538438454,2.578384965818431,2.580156877793016,2.5819287897676015,2.5837007017421865,2.585472613716772,2.587244525691357,2.5890164376659426,2.590788349640528,2.592560261615113,2.5943321735896983,2.5961040855642836,2.597875997538869,2.5996479095134544,2.6014198214880393,2.6031917334626247,2.60496364543721,2.6067355574117954,2.608507469386381,2.6102793813609657,2.612051293335551,2.6138232053101365,2.615595117284722,2.617367029259307,2.619138941233892,2.6209108532084775,2.622682765183063,2.6244546771576482,2.626226589132233,2.6279985011068185,2.629770413081404,2.6315423250559893,2.6333142370305747,2.6350861490051596,2.636858060979745,2.6386299729543303,2.6404018849289157,2.642173796903501,2.643945708878086,2.6457176208526714,2.6474895328272567,2.649261444801842,2.6510333567764275,2.6528052687510124,2.654577180725598,2.656349092700183,2.6581210046747685,2.659892916649354,2.661664828623939,2.663436740598524,2.6652086525731096,2.666980564547695,2.6687524765222803,2.6705243884968652,2.6722963004714506,2.674068212446036,2.6758401244206214,2.6776120363952067,2.6793839483697917,2.681155860344377,2.6829277723189624,2.6846996842935478,2.6864715962681327,2.688243508242718,2.6900154202173034,2.691787332191889,2.693559244166474,2.695331156141059,2.6971030681156445,2.69887498009023,2.7006468920648152,2.7024188040394006,2.7041907160139855,2.705962627988571,2.7077345399631563,2.7095064519377416,2.711278363912327,2.713050275886912,2.7148221878614973,2.7165940998360827,2.718366011810668,2.7201379237852534,2.7219098357598384,2.7236817477344237,2.725453659709009,2.7272255716835945,2.72899748365818,2.7307693956327648,2.73254130760735,2.7343132195819355,2.736085131556521,2.7378570435311063,2.739628955505691,2.7414008674802766,2.743172779454862,2.7449446914294473,2.7467166034040322,2.7484885153786176,2.750260427353203,2.7520323393277883,2.7538042513023737,2.7555761632769586,2.757348075251544,2.7591199872261294,2.7608918992007148,2.7626638111753,2.764435723149885,2.7662076351244704,2.767979547099056,2.769751459073641,2.7715233710482265,2.7732952830228115,2.775067194997397,2.776839106971982,2.7786110189465676,2.780382930921153,2.782154842895738,2.7839267548703233,2.7856986668449086,2.787470578819494,2.7892424907940794,2.7910144027686643,2.7927863147432497,2.794558226717835,2.7963301386924204,2.7981020506670053,2.7998739626415907,2.801645874616176,2.8034177865907615,2.805189698565347,2.8069616105399318,2.808733522514517,2.8105054344891025,2.812277346463688,2.8140492584382732,2.815821170412858,2.8175930823874435,2.819364994362029,2.8211369063366143,2.8229088183111997,2.8246807302857846,2.82645264226037,2.8282245542349553]}], {\"showlegend\":true,\"xaxis\":{\"gridwidth\":0.5,\"tickvals\":[0.0,1.0,2.0,3.0,4.0,5.0],\"visible\":true,\"ticks\":\"inside\",\"range\":[0.0,5.0],\"domain\":[0.02137649460484106,0.9934383202099737],\"tickmode\":\"array\",\"linecolor\":\"rgba(0, 0, 0, 1.000)\",\"showgrid\":true,\"title\":\"\",\"mirror\":false,\"tickangle\":0,\"showline\":true,\"gridcolor\":\"rgba(0, 0, 0, 0.100)\",\"titlefont\":{\"color\":\"rgba(0, 0, 0, 1.000)\",\"family\":\"sans-serif\",\"size\":15},\"tickcolor\":\"rgb(0, 0, 0)\",\"ticktext\":[\"0\",\"1\",\"2\",\"3\",\"4\",\"5\"],\"zeroline\":false,\"type\":\"-\",\"tickfont\":{\"color\":\"rgba(0, 0, 0, 1.000)\",\"family\":\"sans-serif\",\"size\":11},\"zerolinecolor\":\"rgba(0, 0, 0, 1.000)\",\"anchor\":\"y\"},\"paper_bgcolor\":\"rgba(255, 255, 255, 1.000)\",\"annotations\":[],\"height\":400,\"margin\":{\"l\":0,\"b\":20,\"r\":0,\"t\":20},\"plot_bgcolor\":\"rgba(255, 255, 255, 1.000)\",\"yaxis\":{\"gridwidth\":0.5,\"tickvals\":[2.0,4.0,6.0,8.0],\"visible\":true,\"ticks\":\"inside\",\"tickmode\":\"array\",\"domain\":[0.03762029746281716,0.9901574803149606],\"linecolor\":\"rgba(0, 0, 0, 1.000)\",\"showgrid\":true,\"title\":\"\",\"mirror\":false,\"tickangle\":0,\"showline\":true,\"gridcolor\":\"rgba(0, 0, 0, 0.100)\",\"titlefont\":{\"color\":\"rgba(0, 0, 0, 1.000)\",\"family\":\"sans-serif\",\"size\":15},\"tickcolor\":\"rgb(0, 0, 0)\",\"ticktext\":[\"2\",\"4\",\"6\",\"8\"],\"zeroline\":false,\"type\":\"-\",\"tickfont\":{\"color\":\"rgba(0, 0, 0, 1.000)\",\"family\":\"sans-serif\",\"size\":11},\"zerolinecolor\":\"rgba(0, 0, 0, 1.000)\",\"anchor\":\"x\"},\"legend\":{\"bordercolor\":\"rgba(0, 0, 0, 1.000)\",\"bgcolor\":\"rgba(255, 255, 255, 1.000)\",\"font\":{\"color\":\"rgba(0, 0, 0, 1.000)\",\"family\":\"sans-serif\",\"size\":11},\"y\":1.0,\"x\":1.0},\"width\":600});\n",
       "    </script>\n"
      ]
     },
     "execution_count": 173,
     "metadata": {},
     "output_type": "execute_result"
    }
   ],
   "source": [
    "boundary = [[0,1],[0,2]]\n",
    "f(x) = x[1]^2 +x[2]\n",
    "\n",
    "#=Para N = 1000=#\n",
    "values = valueDist(f,boundary,1000)\n",
    "\n",
    "#=Graficamos el histograma =#\n",
    "using StatPlots; \n",
    "plots = StatPlots\n",
    "\n",
    "plots.density(values,xlim = (0,5))"
   ]
  },
  {
   "cell_type": "code",
   "execution_count": 174,
   "metadata": {},
   "outputs": [
    {
     "data": {
      "text/html": [
       "<script src=\"/home/jrun/.julia/v0.6/Plots/src/backends/../../deps/plotly-latest.min.js\"></script>    <div id=\"afc0c6ef-5b13-453b-b01d-3996b49a88c6\" style=\"width:600px;height:400px;\"></div>\n",
       "    <script>\n",
       "    PLOT = document.getElementById('afc0c6ef-5b13-453b-b01d-3996b49a88c6');\n",
       "    Plotly.plot(PLOT, [{\"showlegend\":true,\"mode\":\"lines\",\"xaxis\":\"x\",\"colorbar\":{\"title\":\"\"},\"line\":{\"color\":\"rgba(0, 154, 250, 1.000)\",\"shape\":\"linear\",\"dash\":\"solid\",\"width\":1},\"y\":[1.9987248541610826e-5,5.98782948486587e-5,0.00018186069679131833,0.0005071921220860531,0.0012891237296855707,0.002985809636243175,0.0063052003157952185,0.012147327324292974,0.021366336734753303,0.03434249547478771,0.05049666339827013,0.0680214754448636,0.08411349052294867,0.09578753829434333,0.10101741983678324,0.09969958721247907,0.09397613281094891,0.08777255355142416,0.08578594307695141,0.09235439246933083,0.11056861231670667,0.1417708080734775,0.18540886311798174,0.2391700407387674,0.29936211480655034,0.3615387751603984,0.4213368675865013,0.47544179287847843,0.5225538886201718,0.5641562463676962,0.6047582704293035,0.6512235448240813,0.7110094671135363,0.7897428710511969,0.8892500386425412,1.0073516427641562,1.1399541308997936,1.2844428600291156,1.4421477080533738,1.6178849037473508,1.8164927771529409,2.0386262444802874,2.278962227050926,2.528468133398054,2.779485052406381,3.0302883602490254,3.2861491059483376,3.5564468626552177,3.850113164369465,4.172548967114639,4.525623630849256,4.9098154622543735,5.326146007123908,5.776375236611637,6.26201281072887,6.783933248858509,7.343486047236151,7.9438596749295085,8.589358142130186,9.281588118601187,10.014418740597126,10.771490870564007,11.529167661721871,12.264464635666066,12.963957284293915,13.62857840350102,14.27170647140082,14.912499580935787,15.56956969581805,16.259008565598947,16.996111036198428,17.796023580549033,18.669104843152546,19.612109941277097,20.601873924055237,21.598580834202018,22.55958937980344,23.45649580358814,24.28450474539215,25.05781329495497,25.794422607416447,26.500988652938233,27.167392711557174,27.77278607221233,28.296699225625066,28.726882885998524,29.060593019327033,29.30262837724605,29.465139009265503,29.56980902716998,29.647723522938264,29.73233619596766,29.846933423315676,29.993816792345356,30.152052800365272,30.284475213784937,30.348826303119612,30.30755596402948,30.134720524347696,29.821320278449893,29.37916858256072,28.840371832131158,28.24940241191738,27.648968402105634,27.065889625516366,26.504183827759434,25.9482316804636,25.37258291439041,24.75173500642154,24.065452172797546,23.300483361555656,22.452682443502322,21.531428541219594,20.563193608573762,19.58876582409117,18.6521761925206,17.78595791546166,17.00091491461777,16.28582210075512,15.61594772708748,14.964480522747369,14.311099444911898,13.645579501523889,12.967572747947791,12.284289320290531,11.60679793506209,10.945367132782176,10.305240528677464,9.68494076418769,9.07820914296864,8.478510397824529,7.883456839733765,7.2967201011649285,6.726647691812903,6.182623026234872,5.671161080801286,5.193560749718053,4.746004247287677,4.32184880864668,3.914947169272939,3.5224898491992462,3.1462492252200946,2.7920215096927996,2.4678935284799794,2.1821275932983544,1.941029270000305,1.7468464590576616,1.596073141899833,1.4791183145829485,1.3822000944762658,1.291173568520272,1.1956323047642807,1.0912918830573302,0.9797187215737432,0.8660142780054622,0.7559351248631225,0.6537544696477602,0.5614327389758222,0.4789731738451337,0.40543205298375656,0.3399204853676412,0.2820759404868548,0.23187501952509876,0.18910166348803728,0.15297266643014099,0.12222801775193205,0.09559908036900538,0.07229308876294965,0.052161141100885405,0.03547699667804693,0.02251968060937145,0.013238587327507503,0.007166537268937532,0.0035595365045622885,0.0016251423416235866,0.0007060897380688402,0.00036411047553656315,0.0003825783813465478,0.000732624438626317,0.001530060437638099,0.0029782686294271346,0.005274457780056423,0.008471977613641286,0.012337891108280133,0.016291528362360454,0.019506642479583718,0.021180619536763742,0.02085756148864846,0.018628901623479806,0.015091630563258605,0.011090022136887683,0.007392536736859086,0.0044702512691233666,0.002452195554620289,0.0012202966337525824,0.0005508907803067586,0.00022564563015293972,8.406210512248436e-5,2.9403678410631074e-5,1.338075221838153e-5],\"type\":\"scatter\",\"name\":\"y1\",\"yaxis\":\"y\",\"x\":[2.6120935958327136,2.6126789516048494,2.6132643073769857,2.6138496631491215,2.6144350189212577,2.6150203746933935,2.61560573046553,2.6161910862376656,2.616776442009802,2.6173617977819377,2.617947153554074,2.6185325093262097,2.619117865098346,2.619703220870482,2.6202885766426176,2.620873932414754,2.6214592881868897,2.622044643959026,2.6226299997311617,2.623215355503298,2.623800711275434,2.62438606704757,2.624971422819706,2.625556778591842,2.626142134363978,2.626727490136114,2.62731284590825,2.627898201680386,2.628483557452522,2.629068913224658,2.629654268996794,2.63023962476893,2.630824980541066,2.631410336313202,2.6319956920853382,2.632581047857474,2.6331664036296103,2.633751759401746,2.6343371151738824,2.634922470946018,2.635507826718154,2.6360931824902902,2.636678538262426,2.6372638940345623,2.637849249806698,2.6384346055788344,2.63901996135097,2.6396053171231064,2.6401906728952422,2.6407760286673785,2.6413613844395143,2.6419467402116505,2.6425320959837864,2.6431174517559226,2.6437028075280584,2.6442881633001942,2.6448735190723305,2.6454588748444663,2.6460442306166025,2.6466295863887384,2.6472149421608746,2.6478002979330104,2.6483856537051467,2.6489710094772825,2.6495563652494187,2.6501417210215545,2.650727076793691,2.6513124325658266,2.6518977883379624,2.6524831441100987,2.6530684998822345,2.6536538556543707,2.6542392114265065,2.654824567198643,2.6554099229707786,2.655995278742915,2.6565806345150507,2.657165990287187,2.6577513460593227,2.658336701831459,2.658922057603595,2.6595074133757306,2.660092769147867,2.6606781249200027,2.661263480692139,2.6618488364642747,2.662434192236411,2.663019548008547,2.663604903780683,2.664190259552819,2.664775615324955,2.665360971097091,2.665946326869227,2.666531682641363,2.667117038413499,2.667702394185635,2.668287749957771,2.668873105729907,2.669458461502043,2.670043817274179,2.670629173046315,2.6712145288184512,2.671799884590587,2.6723852403627233,2.672970596134859,2.6735559519069954,2.674141307679131,2.674726663451267,2.6753120192234032,2.675897374995539,2.6764827307676753,2.677068086539811,2.6776534423119474,2.678238798084083,2.6788241538562194,2.6794095096283552,2.6799948654004915,2.6805802211726273,2.6811655769447635,2.6817509327168993,2.682336288489035,2.6829216442611714,2.683507000033307,2.6840923558054435,2.6846777115775793,2.6852630673497155,2.6858484231218513,2.6864337788939876,2.6870191346661234,2.6876044904382597,2.6881898462103955,2.6887752019825317,2.6893605577546675,2.6899459135268033,2.6905312692989396,2.6911166250710754,2.6917019808432117,2.6922873366153475,2.6928726923874837,2.6934580481596195,2.694043403931756,2.6946287597038916,2.695214115476028,2.6957994712481637,2.6963848270203,2.6969701827924357,2.697555538564572,2.698140894336708,2.6987262501088436,2.69931160588098,2.6998969616531157,2.700482317425252,2.7010676731973877,2.701653028969524,2.70223838474166,2.702823740513796,2.703409096285932,2.703994452058068,2.704579807830204,2.70516516360234,2.705750519374476,2.706335875146612,2.706921230918748,2.707506586690884,2.70809194246302,2.708677298235156,2.709262654007292,2.709848009779428,2.7104333655515642,2.7110187213237,2.7116040770958363,2.712189432867972,2.7127747886401083,2.713360144412244,2.71394550018438,2.714530855956516,2.715116211728652,2.7157015675007883,2.716286923272924,2.7168722790450603,2.717457634817196,2.7180429905893324,2.718628346361468,2.7192137021336045,2.7197990579057403,2.7203844136778765,2.7209697694500123,2.721555125222148,2.7221404809942844,2.72272583676642,2.7233111925385565,2.7238965483106923,2.7244819040828285,2.7250672598549643,2.7256526156271006,2.7262379713992364,2.7268233271713727,2.7274086829435085,2.7279940387156447,2.7285793944877805]}], {\"showlegend\":true,\"xaxis\":{\"gridwidth\":0.5,\"tickvals\":[0.0,1.0,2.0,3.0,4.0,5.0],\"visible\":true,\"ticks\":\"inside\",\"range\":[0.0,5.0],\"domain\":[0.03619130941965587,0.9934383202099738],\"tickmode\":\"array\",\"linecolor\":\"rgba(0, 0, 0, 1.000)\",\"showgrid\":true,\"title\":\"\",\"mirror\":false,\"tickangle\":0,\"showline\":true,\"gridcolor\":\"rgba(0, 0, 0, 0.100)\",\"titlefont\":{\"color\":\"rgba(0, 0, 0, 1.000)\",\"family\":\"sans-serif\",\"size\":15},\"tickcolor\":\"rgb(0, 0, 0)\",\"ticktext\":[\"0\",\"1\",\"2\",\"3\",\"4\",\"5\"],\"zeroline\":false,\"type\":\"-\",\"tickfont\":{\"color\":\"rgba(0, 0, 0, 1.000)\",\"family\":\"sans-serif\",\"size\":11},\"zerolinecolor\":\"rgba(0, 0, 0, 1.000)\",\"anchor\":\"y\"},\"paper_bgcolor\":\"rgba(255, 255, 255, 1.000)\",\"annotations\":[],\"height\":400,\"margin\":{\"l\":0,\"b\":20,\"r\":0,\"t\":20},\"plot_bgcolor\":\"rgba(255, 255, 255, 1.000)\",\"yaxis\":{\"gridwidth\":0.5,\"tickvals\":[5.0,10.0,15.0,20.0,25.0,30.0],\"visible\":true,\"ticks\":\"inside\",\"tickmode\":\"array\",\"domain\":[0.03762029746281716,0.9901574803149606],\"linecolor\":\"rgba(0, 0, 0, 1.000)\",\"showgrid\":true,\"title\":\"\",\"mirror\":false,\"tickangle\":0,\"showline\":true,\"gridcolor\":\"rgba(0, 0, 0, 0.100)\",\"titlefont\":{\"color\":\"rgba(0, 0, 0, 1.000)\",\"family\":\"sans-serif\",\"size\":15},\"tickcolor\":\"rgb(0, 0, 0)\",\"ticktext\":[\"5\",\"10\",\"15\",\"20\",\"25\",\"30\"],\"zeroline\":false,\"type\":\"-\",\"tickfont\":{\"color\":\"rgba(0, 0, 0, 1.000)\",\"family\":\"sans-serif\",\"size\":11},\"zerolinecolor\":\"rgba(0, 0, 0, 1.000)\",\"anchor\":\"x\"},\"legend\":{\"bordercolor\":\"rgba(0, 0, 0, 1.000)\",\"bgcolor\":\"rgba(255, 255, 255, 1.000)\",\"font\":{\"color\":\"rgba(0, 0, 0, 1.000)\",\"family\":\"sans-serif\",\"size\":11},\"y\":1.0,\"x\":1.0},\"width\":600});\n",
       "    </script>\n"
      ]
     },
     "execution_count": 174,
     "metadata": {},
     "output_type": "execute_result"
    }
   ],
   "source": [
    "boundary = [[0,1],[0,2]]\n",
    "f(x) = x[1]^2 +x[2]\n",
    "\n",
    "#=Para N = 10000=#\n",
    "values = valueDist(f,boundary,10000)\n",
    "\n",
    "#=Graficamos el histograma =#\n",
    "using Plots; \n",
    "plots = Plots\n",
    "\n",
    "plots.density(values,xlim =(0,5))"
   ]
  },
  {
   "cell_type": "markdown",
   "metadata": {},
   "source": [
    "# Bibliografía\n",
    "-Análisis numérico. Burden R. L., Douglas Faires J., International Thomson Editores , Septima edición.(1998) \n",
    "\n",
    "-Métodos. Numéricos con MATLAB. Mathews John H.,  Fink Kurtis D. , Prentice Hall, Tercera edición.(2000)"
   ]
  },
  {
   "cell_type": "code",
   "execution_count": null,
   "metadata": {},
   "outputs": [],
   "source": []
  }
 ],
 "metadata": {
  "kernelspec": {
   "display_name": "Julia 0.6.0",
   "language": "julia",
   "name": "julia-0.6"
  },
  "language_info": {
   "file_extension": ".jl",
   "mimetype": "application/julia",
   "name": "julia",
   "version": "0.6.0"
  }
 },
 "nbformat": 4,
 "nbformat_minor": 2
}
