{
 "cells": [
  {
   "cell_type": "markdown",
   "metadata": {},
   "source": [
    "<div style=\"text-align: center\">\n",
    "# Proyecto: Métodos de Integración\n",
    "<div style=\"text-align: center\">\n",
    "**Juan Samuel Osnaya** <br>\n",
    "<div style=\"text-align: center\">\n",
    "**Francisco Ricardo Torres Arvizu** <br>\n",
    "<div style=\"text-align: center\">\n",
    "**Juan Uriel Legaria Peña**\n"
   ]
  },
  {
   "cell_type": "markdown",
   "metadata": {},
   "source": [
    "# 1.-Newton Cotes"
   ]
  },
  {
   "cell_type": "markdown",
   "metadata": {},
   "source": [
    "<div style=\"text-align: justify\">\n",
    "El método de Newton Cotes, para aproximar la integral de una función $f(x)$ en un intervalo $\\left[a,b\\right]$ consiste en aproximar un polinomio a la función usando la interpolación de Lagrange, y posteriormente integrar dicho polinomio. Los puntos que se utilizan para la interpolación estan igualmente espaciados y en consecuencia este método es insensible al hecho de que podría haber regiones del intervalo que contribuyan en mayor magnitud al valor de la integral. El número de puntos utilizados determina el grado del polinomio que aproxima a la función (Si $N$ es el número de puntos, entonces el polinomio es de grado $N-1$), y también el orden de la aproximación. Con el orden de la aproximación nos referimos, al entero $m$ tal que para polinomios de grado menor a $m$ la integral da un valor exacto. \n",
    "\n",
    "Solo para poner en concreto las ideas anteriores, haremos el ejemplo en que tomamos dos puntos: los extremos $a$ y $b$ para hacer la aproximación. tendremos el polinomio de Lagrange\n",
    "\n",
    "$$P(x) = \\frac{x-a}{b-a}f(a) +\\frac{x-b}{a-b}f(b) = \\frac{xf(a)-af(a)-xf(b)+bf(b)}{b-a} = \\frac{x(f(a)-f(b))-af(a)+b(f(b))}{b-a} $$\n",
    "\n",
    "Esto lo integramos de $a$ a $b$\n",
    "\n",
    "\\begin{aligned}\n",
    "\\int_{a}^b P(x) &= \\frac{1}{b-a}\\left[(f(a)-f(b)) \\frac{b^2-a^2}{2}\\right] -af(a)-bf(b)\\\\\n",
    "& = \\frac{(f(a)-f(b))(b+a)}{2} -af(a)+bf(b)\\\\ \n",
    "&= \\frac{bf(a) +af(a) -bf(b) -af(b) -2af(a) +2bf(b)}{2}\\\\\n",
    "&= \\frac{bf(a)-af(a) +bf(b)-af(b)}{2} \\\\\n",
    "&=\\frac{(b-a)(f(a)+f(b))}{2}\n",
    "\\end{aligned}\n",
    "\n",
    "que es la conocida regla del trapecio. \n",
    "\n",
    "Esta da la integral exacta para funciones lineales, i.e. polinomios de grado menor a dos, por lo tanto el orden de esta aproximación es dos. \n",
    "\n",
    "En esta sección se construiran dos funciones, una que genere la forma simbolica de la aproximación de Newton Cotes de orden $n-1$ y otra que de la aproximación numérica. "
   ]
  },
  {
   "cell_type": "markdown",
   "metadata": {},
   "source": [
    "## 1.1.-Programa que genere la forma simbólica de la fórmula de Newton Cotes de orden n"
   ]
  },
  {
   "cell_type": "code",
   "execution_count": 3,
   "metadata": {},
   "outputs": [
    {
     "data": {
      "text/plain": [
       "xSubscriptSym (generic function with 1 method)"
      ]
     },
     "execution_count": 3,
     "metadata": {},
     "output_type": "execute_result"
    }
   ],
   "source": [
    "function xSubscriptSym(i)\n",
    "   a = \"x_\"\n",
    "   b = string(i)\n",
    "    \n",
    "    return string(a,b)\n",
    "    \n",
    "end"
   ]
  },
  {
   "cell_type": "code",
   "execution_count": 4,
   "metadata": {},
   "outputs": [
    {
     "name": "stderr",
     "output_type": "stream",
     "text": [
      "WARNING: using SymPy.boundary in module Main conflicts with an existing identifier.\n"
     ]
    },
    {
     "data": {
      "text/plain": [
       "lagrangeInterpolation (generic function with 1 method)"
      ]
     },
     "execution_count": 4,
     "metadata": {},
     "output_type": "execute_result"
    }
   ],
   "source": [
    "#=Hacemos una rutina que interpole una funcion con n puntos, usando un espaciado regular=#\n",
    "\n",
    "using SymPy\n",
    "\n",
    "function lagrangeInterpolation(N)\n",
    "    g = SymFunction(\"f\")\n",
    "    x0 = Sym(\"x_0\")\n",
    "    x = Sym(\"x\")\n",
    "    points = []\n",
    "    push!(points,x0)\n",
    "    h = Sym(\"h\")\n",
    "    #=We create all the symbols for each point=#\n",
    "    \n",
    "    for i in 1:N-1\n",
    "       push!(points,Sym(xSubscriptSym(i))) \n",
    "    end\n",
    "    \n",
    "    sum = SymFunction(\"sum\")\n",
    "    lagrangeTerm = SymFunction(\"lagrangeTerm\")\n",
    "    lagrangeTerm = 1\n",
    "    sum = 0\n",
    "    \n",
    "    for i in 1:N\n",
    "        lagrangeTerm  = 1\n",
    "        for j in 1:N\n",
    "            if(j!=i)\n",
    "                \n",
    "               lagrangeTerm = lagrangeTerm*(x-points[j])/((points[i])-points[j])\n",
    "               lagrangeTerm = subs(lagrangeTerm,points[j]=>points[1]+(j-1)*h)\n",
    "               lagrangeTerm = subs(lagrangeTerm,points[i]=>points[1]+(i-1)*h) \n",
    "            \n",
    "            end\n",
    "    end\n",
    "          sum+=g(points[i])*lagrangeTerm\n",
    "end\n",
    "    return sum \n",
    "end"
   ]
  },
  {
   "cell_type": "code",
   "execution_count": 5,
   "metadata": {},
   "outputs": [
    {
     "data": {
      "text/plain": [
       "newtonCotes (generic function with 1 method)"
      ]
     },
     "execution_count": 5,
     "metadata": {},
     "output_type": "execute_result"
    }
   ],
   "source": [
    "#=Aqui obtendremos Newton Cotes=#\n",
    "function newtonCotes(N)\n",
    "    \n",
    "    l = lagrangeInterpolation(N)\n",
    "    x0 = Sym(\"x_0\")\n",
    "    h = Sym(\"h\")\n",
    "    xn =x0 +(N-1)*h\n",
    "    \n",
    "    newtonCotes = simplify(integrate(l,(Sym(\"x\"),x0,xn))) \n",
    "    return newtonCotes\n",
    "end\n"
   ]
  },
  {
   "cell_type": "code",
   "execution_count": 6,
   "metadata": {},
   "outputs": [
    {
     "data": {
      "text/latex": [
       "$$\\frac{h}{3} \\left(f{\\left (x_{0} \\right )} + 4 f{\\left (x_{1} \\right )} + f{\\left (x_{2} \\right )}\\right)$$"
      ],
      "text/plain": [
       "h*(f(x_0) + 4*f(x_1) + f(x_2))\n",
       "------------------------------\n",
       "              3               "
      ]
     },
     "execution_count": 6,
     "metadata": {},
     "output_type": "execute_result"
    }
   ],
   "source": [
    "#=La regla de simpson=#\n",
    "newtonCotes(3)"
   ]
  },
  {
   "cell_type": "code",
   "execution_count": 7,
   "metadata": {},
   "outputs": [
    {
     "data": {
      "text/latex": [
       "$$\\frac{h}{2} \\left(f{\\left (x_{0} \\right )} + f{\\left (x_{1} \\right )}\\right)$$"
      ],
      "text/plain": [
       "h*(f(x_0) + f(x_1))\n",
       "-------------------\n",
       "         2         "
      ]
     },
     "execution_count": 7,
     "metadata": {},
     "output_type": "execute_result"
    }
   ],
   "source": [
    "#=La regla del trapecio=#\n",
    "\n",
    "newtonCotes(2)"
   ]
  },
  {
   "cell_type": "markdown",
   "metadata": {},
   "source": [
    "## 1.2.-Programa que de el resultado numérico de una integral utilizando la fórmula de Newton Cotes de orden n"
   ]
  },
  {
   "cell_type": "code",
   "execution_count": 8,
   "metadata": {},
   "outputs": [
    {
     "data": {
      "text/plain": [
       "newtonCotesDefined (generic function with 1 method)"
      ]
     },
     "execution_count": 8,
     "metadata": {},
     "output_type": "execute_result"
    }
   ],
   "source": [
    "#=Ahora queremos hacer lo mismo, pero que f, este definida para poder utilizarla, hacemos entonces las\n",
    "versiones con funciones definidas de las rutinas anteriores. =#\n",
    "\n",
    "using SymPy\n",
    "\n",
    "function lagrangeInterpolationDefined(N,f)\n",
    "    x0 = Sym(\"x_0\")\n",
    "    x = Sym(\"x\")\n",
    "    g = f(x)\n",
    "    points = []\n",
    "    push!(points,x0)\n",
    "    h = Sym(\"h\")\n",
    "    #=We create all the symbols for each point=#\n",
    "    \n",
    "    for i in 1:N-1\n",
    "       push!(points,Sym(xSubscriptSym(i))) \n",
    "    end\n",
    "    \n",
    "    sum = SymFunction(\"sum\")\n",
    "    lagrangeTerm = SymFunction(\"lagrangeTerm\")\n",
    "    lagrangeTerm = 1\n",
    "    sum = 0\n",
    "    \n",
    "    for i in 1:N\n",
    "        lagrangeTerm  = 1\n",
    "        for j in 1:N\n",
    "            if(j!=i)\n",
    "                \n",
    "               lagrangeTerm = lagrangeTerm*(x-points[j])/((points[i])-points[j])\n",
    "               lagrangeTerm = subs(lagrangeTerm,points[j]=>points[1]+(j-1)*h)\n",
    "               lagrangeTerm = subs(lagrangeTerm,points[i]=>points[1]+(i-1)*h) \n",
    "            \n",
    "            end\n",
    "    end\n",
    "          sum+=g(points[i])*lagrangeTerm\n",
    "end\n",
    "    return sum \n",
    "end\n",
    "\n",
    "function newtonCotesDefined(N,f)\n",
    "    \n",
    "    l = lagrangeInterpolationDefined(N,f)\n",
    "    x0 = Sym(\"x_0\")\n",
    "    h = Sym(\"h\")\n",
    "    xn =x0 +(N-1)*h\n",
    "    \n",
    "    newtonCotes = simplify(integrate(l,(Sym(\"x\"),x0,xn)))\n",
    "    \n",
    "    return newtonCotes\n",
    "end\n",
    "\n"
   ]
  },
  {
   "cell_type": "code",
   "execution_count": 9,
   "metadata": {},
   "outputs": [
    {
     "data": {
      "text/plain": [
       "newtonCotesNumerical (generic function with 1 method)"
      ]
     },
     "execution_count": 9,
     "metadata": {},
     "output_type": "execute_result"
    }
   ],
   "source": [
    "function newtonCotesNumerical(f,x0,xf,order)\n",
    "    points = linspace(x0,xf,order)\n",
    "    g = newtonCotesDefined(order,f)\n",
    "    h = (xf-x0)/(order-1)\n",
    "    g = subs(g,Sym(\"h\")=>h)\n",
    "    for i in 1:size(points,1)\n",
    "       g = subs(g,Sym(xSubscriptSym(i-1))=>points[i])\n",
    "    end\n",
    "    return g\n",
    "end"
   ]
  },
  {
   "cell_type": "code",
   "execution_count": 10,
   "metadata": {},
   "outputs": [
    {
     "name": "stdout",
     "output_type": "stream",
     "text": [
      "Orden 2 4.00000000000000"
     ]
    },
    {
     "name": "stderr",
     "output_type": "stream",
     "text": [
      "WARNING: Compat.UTF8String is deprecated, use String instead.\n",
      "  likely near In[10]:4\n",
      "WARNING: Compat.UTF8String is deprecated, use String instead.\n",
      "  likely near In[10]:4\n",
      "WARNING: Compat.UTF8String is deprecated, use String instead.\n",
      "  likely near In[10]:4\n",
      "in jprint at /home/juser/.julia/v0.6/SymPy/src/display.jl\n"
     ]
    },
    {
     "name": "stdout",
     "output_type": "stream",
     "text": [
      "\n",
      "Orden 3 2.66666666666667\n",
      "Orden 4 2.66666666666667\n"
     ]
    }
   ],
   "source": [
    "#=Probemos con el tipico ejemplo de x^2 de 0 a 2, la respuesta debe ser 8/3  = 2.666=#\n",
    "\n",
    "#=Orden 1=#\n",
    "println(\"Orden 2 \",newtonCotesNumerical(x->x^2,0,2,2))\n",
    "#=Orden 2=#\n",
    "println(\"Orden 3 \",newtonCotesNumerical(x->x^2,0,2,3))\n",
    "#=Orden 3=#\n",
    "println(\"Orden 4 \",newtonCotesNumerical(x->x^2,0,2,4))\n",
    "\n",
    "#=A partir de orden 3, el valor de la integral es exacta, porque la aproximacion cuadratica a la funcion \n",
    "x^2 es la misma funcion=#"
   ]
  },
  {
   "cell_type": "markdown",
   "metadata": {},
   "source": [
    "# 2.-Método adaptativo"
   ]
  },
  {
   "cell_type": "markdown",
   "metadata": {},
   "source": [
    "<div style=\"text-align: justify\">\n",
    "Este método se basa en la regla compuesta de Simpson. Lo que se busca es aproximar $\\int _a^b f(x) \\ dx$ con una toleracia $\\epsilon > 0$. El primer paso es utilizar la regla de Simpson con $h=\\frac{b-a}{2}$ lo cual queda:\n",
    "\n",
    "\\begin{equation}\n",
    "\\int_a^b f(x) \\ dx = \\frac{h}{3} \\left[ f(a)+4f(a+h)+f(b) \\right] - \\frac{h^5}{90}f^{(4)}(\\mu) \\tag{1}\n",
    "\\end{equation}\n",
    "\n",
    "\n",
    " $\\mu $ es un punto en $(a,b)$. El último termino es el error.\n",
    " \n",
    "Nombrando al valor aproximado de la integral como $S$\n",
    "$$S(a,b)=\\frac{h}{3}[f(a)+4f(a+h)+f(b)]$$\n",
    "\n",
    "Ahora para estimar la precisión de la aproximación pero evitando calcular $f^{(4)}(\\mu)$ volvemos a aplicar Simpson pero con m=2 y un tamaño de paso $\\frac{b-a}{4}=\\frac{h}{2}$  \n",
    "\n",
    "\\begin{equation}\n",
    " \\int_a^bf(x)dx = \\frac{h}{6} \\left[ f(a) +4f\\left(a+\\frac{h}{2}\\right)+2f(a+h)+4f\\left(a+\\frac{3h}{2}\\right)+f(b) \\right] - \\left(\\frac{h}{2}\\right)^4\\frac{b-a}{180}f^{(4)}(\\tilde \\mu) \\tag{2}\n",
    " \\end{equation}\n",
    "\n",
    "para alguna $\\tilde \\mu$ en $(a,b)$, para simplificar sea:\n",
    "\n",
    "\\begin{aligned}\n",
    "&S\\left(a,\\frac{a+b}{2}\\right)=\\frac{h}{6} \\left[ f(a)+4f\\left(a+\\frac{h}{2}\\right)+f(a+h) \\right]\\\\\\\\\n",
    "&S\\left(\\frac{a+b}{2},b\\right)=\\frac{h}{6} \\left[ f(a+h)+4f\\left(a+\\frac{3h}{2}\\right)+f(b) \\right]\n",
    "\\end{aligned}\n",
    "\n",
    "Entonces podemos re-escribir a la ecuación (2) como:\n",
    "\n",
    "\\begin{equation}\n",
    "\\int_a^b f(x) \\ dx = S\\left(a,\\frac{a+b}{2}\\right) + S\\left(\\frac{a+b}{2},b\\right) - \\frac{1}{16} \\left (\\frac{h^5}{90} \\right)f^{(4)}(\\tilde \\mu)\\tag{3}\n",
    "\\end{equation}\n",
    "\n",
    "Para poder estimar el error supondremos que $f^{(4)}(\\mu)=f^{(4)}(\\tilde \\mu)$, si la suposición llega a ser precisa, entonces nuestras ecuaciones (1) y (3) implicarían que \n",
    "\n",
    "\\begin{aligned}\n",
    "&S\\left(a,\\frac{a+b}{2}\\right) + S\\left(\\frac{a+b}{2},b\\right) - \\frac{1}{16} \\left (\\frac{h^5}{90} \\right)f^{(4)}(\\tilde \\mu) \\approx S(a,b)- \\left (\\frac{h^5}{90} \\right)f^{(4)}( \\mu)\\\\\\\\\n",
    "& \\to \\left (\\frac{h^5}{90} \\right)f^{(4)}( \\mu) \\approx \\frac{16}{15} \\left[S(a,b)- S\\left(a,\\frac{a+b}{2}\\right) -S\\left(\\frac{a+b}{2},b\\right)\\right]\n",
    "\\end{aligned}\n",
    "\n",
    "Utilizando dicha estimación con la ecuación(3) se obtiene\n",
    "\n",
    "\\begin{equation}\n",
    "\\left |\\int_a^b f(x) dx - S\\left(a,\\frac{a+b}{2}\\right) - S\\left(\\frac{a+b}{2},b\\right) \\right| \\approx \\frac{1}{15} \\left| S(a,b)- S\\left(a,\\frac{a+b}{2}\\right) - S\\left(\\frac{a+b}{2},b\\right)\\right| \\tag{4}\n",
    "\\end{equation}\n",
    "\n",
    "La expresión anterior significa que que $S\\left(a,\\frac{a+b}{2}\\right)+S\\left(\\frac{a+b}{2},b\\right)$ da una aproximación de nuestra integral $\\int_a^b f(x) \\ dx$ 15 veces mejor que lo que ésta coincide con el valor conocido $S(a,b)$. Entonces tendríamos que $S\\left(a,\\frac{a+b}{2}\\right)+S\\left(\\frac{a+b}{2},b\\right)$ aproximará a nuestra integral con un error que será menor a $\\epsilon$, tomando en cuenta que las dos aproximaciones $S\\left(a,\\frac{a+b}{2}\\right)+S\\left(\\frac{a+b}{2},b\\right)$ y $S(a,b)$ deberán ser diferentes menos de 15$\\epsilon$\n",
    "\n",
    "Teniendo que $$\\left| S(a,b)- S\\left(a,\\frac{a+b}{2}\\right)-S\\left(\\frac{a+b}{2},b\\right) \\right| < 15\\epsilon$$\n",
    "\n",
    "Entonces $$\\left|\\int_a^b f(x) dx - S\\left(a,\\frac{a+b}{2}\\right)-S\\left(\\frac{a+b}{2},b\\right) \\right| < \\epsilon$$\n",
    "\n",
    "Por lo que $$S\\left(a,\\frac{a+b}{2}\\right)+S\\left(\\frac{a+b}{2},b\\right)$$ sería una apoximación que cumple con la tolerancia requerida. En caso de que no se cumpliera, habrá que dividir cada uno de los subintervalos en dos partes y aplicar Simpson a ellas. "
   ]
  },
  {
   "cell_type": "code",
   "execution_count": 11,
   "metadata": {},
   "outputs": [
    {
     "data": {
      "text/plain": [
       "Sumation (generic function with 1 method)"
      ]
     },
     "execution_count": 11,
     "metadata": {},
     "output_type": "execute_result"
    }
   ],
   "source": [
    "#Esta funcion calcula aplica la regla de simpson a cada mitad de intervalo delta y te regresa la suma de esos dos intervalos\n",
    "function Sumation(f,ai,bi,deltax)\n",
    "  ci=(bi+ai)/2\n",
    "    ci1=(ai+ci)/2\n",
    "    ci2=(ci+bi)/2\n",
    "    S1=(deltax/12)*(f(ai)+f(ci1)+f(ci))\n",
    "    S2=(deltax/12)*(f(ci)+f(ci2)+f(bi))\n",
    "    return S1+S2\n",
    "end"
   ]
  },
  {
   "cell_type": "code",
   "execution_count": 12,
   "metadata": {},
   "outputs": [
    {
     "data": {
      "text/plain": [
       "Iteration (generic function with 1 method)"
      ]
     },
     "execution_count": 12,
     "metadata": {},
     "output_type": "execute_result"
    }
   ],
   "source": [
    "#esta funciòn te da la suma de cuatro intervalos a partir de otro. \n",
    "function Iteration(f,ai,bi,deltax)\n",
    "    c1i=(bi+ai)/2\n",
    "    S0=Sumation(f,ai,c1i,deltax)+Sumation(f,c1i,bi,deltax)\n",
    "    return S0\n",
    "end"
   ]
  },
  {
   "cell_type": "code",
   "execution_count": 13,
   "metadata": {},
   "outputs": [
    {
     "data": {
      "text/plain": [
       "ErrorCalculator (generic function with 1 method)"
      ]
     },
     "execution_count": 13,
     "metadata": {},
     "output_type": "execute_result"
    }
   ],
   "source": [
    "#esta función calcula el error correspondiente a cada intervalo en la integracion\n",
    "function ErrorCalculator(f,ai,bi,deltax)\n",
    "    ci=(bi+ai)/2\n",
    "    ci1=(ai+ci)/2\n",
    "    ci2=(ci+bi)/2\n",
    "    S1=(deltax/6)*(f(ai)+f(ci1)+f(ci))\n",
    "    S2=(deltax/6)*(f(ci)+f(ci2)+f(bi))\n",
    "    Simp=(deltax/6)*(f(ai)+4*f(ci)+f(bi))\n",
    "    Error=(1/10)*(abs(Simp-S1+S2))\n",
    "    return Error\n",
    "end"
   ]
  },
  {
   "cell_type": "code",
   "execution_count": 14,
   "metadata": {},
   "outputs": [
    {
     "data": {
      "text/plain": [
       "AdaptativeMethod (generic function with 1 method)"
      ]
     },
     "execution_count": 14,
     "metadata": {},
     "output_type": "execute_result"
    }
   ],
   "source": [
    "#El conjunto de funciones se integran en la regla de simson adaptativa. \n",
    "function AdaptativeMethod(f,a,b,n,tolerance)\n",
    "   deltax=(b-a)/(n)\n",
    "    S=0.0\n",
    "    xm=0.0\n",
    "    So=0.0\n",
    "    x0=a\n",
    "    x1=0.0\n",
    "   for i in 1:n\n",
    "        x1=a+i*deltax\n",
    "        xm=(x1+x0)*(1/2)\n",
    "         if ErrorCalculator(f,x1,x0,deltax)<tolerance\n",
    "          S=(deltax/6)*(f(x0)+4*f(xm)+f(x1))+So\n",
    "        else \n",
    "            S=Iteration(f,x1,x0,deltax)+So\n",
    "    end\n",
    "     So=S\n",
    "     x0=x1\n",
    "end \n",
    "    return So\n",
    "end\n"
   ]
  },
  {
   "cell_type": "code",
   "execution_count": 15,
   "metadata": {},
   "outputs": [
    {
     "data": {
      "text/plain": [
       "2.000006784441801"
      ]
     },
     "execution_count": 15,
     "metadata": {},
     "output_type": "execute_result"
    }
   ],
   "source": [
    "#=Algunas pruebas=#\n",
    "AdaptativeMethod(x->sin(x),0.0,pi,10,0.1)"
   ]
  },
  {
   "cell_type": "code",
   "execution_count": 16,
   "metadata": {},
   "outputs": [
    {
     "data": {
      "text/plain": [
       "2.0"
      ]
     },
     "execution_count": 16,
     "metadata": {},
     "output_type": "execute_result"
    }
   ],
   "source": [
    "#=Veamos si coincide con el valor esperado=#\n",
    "-(cos(pi)-cos(0))\n",
    "#=Vemos que cumple la tolerancia=#"
   ]
  },
  {
   "cell_type": "markdown",
   "metadata": {},
   "source": [
    "# 3.-Integración de Romberg"
   ]
  },
  {
   "cell_type": "markdown",
   "metadata": {},
   "source": [
    "<div style=\"text-align: justify\">\n",
    "\n",
    "En la integración de Romberg se obtiene una matriz triangular con aproximaciones a la integral, a continuación se describe el procedimiento para la obtención de dicha matriz.\n",
    "\n",
    "Primero habrá que recordar la ecuación  del método de integración de trapecio extendida para hacer aproximaciones de una función $f(x)$ en un intervalo $[a,b]$ usando $m$ subintervalos, donde $h=\\frac{b-a}{m}$\n",
    "\n",
    "$$\\int_a^b f(x) dx = \\frac{h}{2} \\left( f(a)+f(b)+2\\sum_{j=1}^{m-1} f(x_j)\\right)$$\n",
    "\n",
    "Para el primer paso haremos aproximaciones con $m_1=1, \\ m_2=2,..., \\ m_n=2^{n-1}$, con $n$ un entero positivo. El tamaño de paso es:  $h_k= \\frac{b-a}{2^{k-1}}$, lo que nos daría\n",
    "\n",
    "$$R_{k,1}=\\int_a^b f(x) dx = \\frac{h_k}{2} \\left[ f(a) + f(b) +2 \\left( \\sum_{i=1}^{2^{k-1}-1}f(a+ih_k)\\right)   \\right]$$\n",
    "\n",
    "Apliquemos la ec. anterior\n",
    "\\begin{aligned}\n",
    "&R_{1,1}=\\frac{h_1}{2}[f(a)+f(b)]=\\frac{b-a}{2}[f(a)+f(b)]\\\\\n",
    "&R_{2,1}=\\frac{h_2}{2}[f(a)+f(b)+2f(a+h_2)] \\\\\n",
    "&=\\frac{b-a}{4}\\left[f(a)+f(b)+2f\\left(a+\\frac{b-a}{2}\\right)\\right]\\\\\n",
    "&=\\frac{1}{2} \\left[R_{1,1}+h_1f(a+\\frac{1}{2}h_1\\right]\n",
    "\\end{aligned}\n",
    "y en general podemos obtener la siguiente expresión para $k=1,2,3, \\ldots , n$, que serían los valores de la primera columna, dado un arreglo matricial diagonal.\n",
    "\n",
    "$$R_{k,1}=\\frac{1}{2} \\left[ R_{k-1,1} + h_{k-1} \\sum_{i=1}^{2^{k-2}}f \\left(a+\\left(i-\\frac{1}{2}\\right)h_{k-1} \\right) \\right] $$\n",
    "\n",
    "Para poder seguir avanzando en niveles (columnas) , y llegar a una estimación más precisa se aplica la extrapolación de Richardson\n",
    "\n",
    "$$R_{i,j}=\\frac{4^{j-1}R_{i,j-1}-R_{i-1,j-1}}{4^{j-1}-1}$$\n",
    "\n",
    "Al final obtendríamos una representación como la que se muestra abajo.\n",
    "\\begin{array}\n",
    "$R_{1,1} \\\\\n",
    "R_{2,1} & R_{2,2}\\\\\n",
    "R_{3,1} & R_{3,2} &  R_{3,3}\\\\\n",
    "R_{4,1} & R_{4,2} &  R_{4,3} & R_{4,4}\\\\\n",
    "... & ...& ...&... & \\ddots\\\\\n",
    "R_{n,1} & R_{n,2} & R_{n,3} & R_{n,4} &...& R_{n,n}\\\\\n",
    "\\end{array}"
   ]
  },
  {
   "cell_type": "code",
   "execution_count": 17,
   "metadata": {},
   "outputs": [
    {
     "data": {
      "text/plain": [
       "first_Column (generic function with 1 method)"
      ]
     },
     "execution_count": 17,
     "metadata": {},
     "output_type": "execute_result"
    }
   ],
   "source": [
    "\n",
    "#=La siguiente funcion crea la primera columna solamente=#\n",
    "function first_Column(f::Function,a,b,n)\n",
    "    #a-límite inferior, b-límite inferior, n-número de intervalo\n",
    "    \n",
    "    matrix=zeros(n,n)\n",
    "    #creación de una matriz cuadrada\n",
    "    \n",
    "    matrix[1,1]=((b-a)/(2))*(f(a)+f(b))\n",
    "    #para el elemento (1,1) de la matriz aplicamos la integral del trapecio\n",
    "    \n",
    "    for k in 2:n             \n",
    "        LIM_SUM=(2^(k-2)) #para cada elemento (n,1) definimos un límite para la suma\n",
    "        h=(b-a)/(2^(k-2)) #para cada elemento(n,1) definimos una h\n",
    "        sum=0.0\n",
    "        for i in 1:LIM_SUM\n",
    "            sum=sum+h*(f(a+(i-(1/2))*h))\n",
    "        end\n",
    "        integral=(1/2)*(matrix[k-1,1]+sum)\n",
    "        matrix[k,1]=integral\n",
    "    end\n",
    "    matrix\n",
    "end\n"
   ]
  },
  {
   "cell_type": "code",
   "execution_count": 18,
   "metadata": {},
   "outputs": [
    {
     "data": {
      "text/plain": [
       "6×6 Array{Float64,2}:\n",
       " 1.92367e-16  0.0  0.0  0.0  0.0  0.0\n",
       " 1.5708       0.0  0.0  0.0  0.0  0.0\n",
       " 1.89612      0.0  0.0  0.0  0.0  0.0\n",
       " 1.97423      0.0  0.0  0.0  0.0  0.0\n",
       " 1.99357      0.0  0.0  0.0  0.0  0.0\n",
       " 1.99839      0.0  0.0  0.0  0.0  0.0"
      ]
     },
     "execution_count": 18,
     "metadata": {},
     "output_type": "execute_result"
    }
   ],
   "source": [
    "#=Recuerde que la integral de cero a pi del seno, debe dar dos=#\n",
    "first_Column(x->sin(x),0,pi,6)"
   ]
  },
  {
   "cell_type": "code",
   "execution_count": 19,
   "metadata": {},
   "outputs": [
    {
     "data": {
      "text/plain": [
       "romberg_Integration (generic function with 1 method)"
      ]
     },
     "execution_count": 19,
     "metadata": {},
     "output_type": "execute_result"
    }
   ],
   "source": [
    "#=La siguiente funcion pasa a otros niveles (genera las siguientes columnas)=#\n",
    "function romberg_Integration(f::Function,a,b,n)\n",
    "    matrix=zeros(n,n)\n",
    "    #creación de una matriz cuadrada\n",
    "    \n",
    "    matrix[1,1]=((b-a)/(2))*(f(a)+f(b))\n",
    "    #para el elemento (1,1) de la matriz aplicamos la integral del trapecio\n",
    "    \n",
    "    for k in 2:n             \n",
    "        LIM_SUM=(2^(k-2)) #para cada elemento (n,1) definimos un límite para la suma\n",
    "        h=(b-a)/(2^(k-2)) #para cada elemento(n,1) definimos una h\n",
    "        sum=0.0\n",
    "        for i in 1:LIM_SUM\n",
    "            sum=sum+h*(f(a+(i-(1/2))*h))\n",
    "        end\n",
    "        integral=(1/2)*(matrix[k-1,1]+sum)\n",
    "        matrix[k,1]=integral\n",
    "    end\n",
    "    matrix\n",
    "    \n",
    "    #Para pasar al segundo nivel, (COLUMA 2)\n",
    "    for j in 2:n\n",
    "        \n",
    "        #Debe empezar en los elemento de la matriz i=j\n",
    "        for i in j:n\n",
    "            aproximation=((4^(j-1))*(matrix[i,j-1])-(matrix[i-1,j-1]))/((4^(j-1)-1))\n",
    "            \n",
    "            #Se almacenarán todos los elementos de la columna.\n",
    "            matrix[i,j]=aproximation\n",
    "        end\n",
    "    end\n",
    "    matrix\n",
    "end"
   ]
  },
  {
   "cell_type": "code",
   "execution_count": 20,
   "metadata": {},
   "outputs": [
    {
     "data": {
      "text/plain": [
       "6×6 Array{Float64,2}:\n",
       " 1.92367e-16  0.0      0.0      0.0      0.0  0.0\n",
       " 1.5708       2.0944   0.0      0.0      0.0  0.0\n",
       " 1.89612      2.00456  1.99857  0.0      0.0  0.0\n",
       " 1.97423      2.00027  1.99998  2.00001  0.0  0.0\n",
       " 1.99357      2.00002  2.0      2.0      2.0  0.0\n",
       " 1.99839      2.0      2.0      2.0      2.0  2.0"
      ]
     },
     "execution_count": 20,
     "metadata": {},
     "output_type": "execute_result"
    }
   ],
   "source": [
    "#=Hagamos algunas pruebas. Esta integral debe dar dos=#\n",
    "romberg_Integration(x->sin(x),0,pi,6)"
   ]
  },
  {
   "cell_type": "code",
   "execution_count": 21,
   "metadata": {},
   "outputs": [
    {
     "name": "stdout",
     "output_type": "stream",
     "text": [
      "La integral debe dar 1.0986122886681096\n"
     ]
    },
    {
     "data": {
      "text/plain": [
       "3×3 Array{Float64,2}:\n",
       " 1.33333  0.0      0.0    \n",
       " 1.16667  1.11111  0.0    \n",
       " 1.11667  1.1      1.09926"
      ]
     },
     "execution_count": 21,
     "metadata": {},
     "output_type": "execute_result"
    }
   ],
   "source": [
    "println(\"La integral debe dar \", log(3)-log(1))\n",
    "romberg_Integration(x->1/x,1,3,3)"
   ]
  },
  {
   "cell_type": "code",
   "execution_count": 22,
   "metadata": {},
   "outputs": [
    {
     "data": {
      "text/plain": [
       "3×3 Array{Float64,2}:\n",
       " 14.2302   0.0      0.0   \n",
       " 11.1714  10.1517   0.0   \n",
       " 10.4438  10.2013  10.2046"
      ]
     },
     "execution_count": 22,
     "metadata": {},
     "output_type": "execute_result"
    }
   ],
   "source": [
    "romberg_Integration(x->x*sqrt(complex(1+x^2)),0,3,3)"
   ]
  },
  {
   "cell_type": "markdown",
   "metadata": {},
   "source": [
    "# 4.-Cuadratura Gaussiana\n",
    "\n",
    "<div style=\"text-align: justify\">\n",
    "El método de cuadratura consiste en sustituir la partición regular que se utiliza en métodos como el del trapecio o el de Simpson, por una que sea mas eficiente. Resulta, que si se utilizan las raices del n-esimo polinomio de Legendre para hacer la interpolación de una integral en el intervalo $[-1,1],$ la aproximación de la integral será exacta para polinomios de grado hasta $2n$, por supuesto, no todas las integrales se realizan en ese intervalo, pero con un cambio de variable apropiado se podrían cambiar los límites a -1 y 1. Veamos como tendría que ser dicho cambio:\n",
    "\n",
    "Buscamos una función lineal $T:\\left[a,b\\right]\\to \\left[-1,1\\right]$\n",
    "\n",
    "La función es de forma $$T(x) = mx+k$$\n",
    "\n",
    "\\begin{aligned}\n",
    "& T(a) = -1 \\to ma+k = -1\\\\\n",
    "& T(b) = 1 \\to mb +k = 1\n",
    "\\end{aligned}\n",
    "\n",
    "Resolviendo el sistema nos queda\n",
    "\n",
    "$$T(x) = \\frac{2}{b-a}x -\\frac{b+a}{b-a}$$\n",
    "\n",
    "cuando hacemos esa sustitución la integral de $a$ a $b$ quedaria\n",
    "\n",
    "$$\\int_{a}^b f(x)dx = \\frac{b-a}{2}\\int_{-1}^1 f\\left(\\frac{b-a}{2}\\left( v+\\frac{b+a}{b-a}\\right)\\right)dv$$\n",
    "\n",
    "Entonces el procedimiento va a ser:\n",
    "\n",
    "1. Sacar las raices del polinomio de Legendre de orden $n$\n",
    "\n",
    "2. Interpolar la función a la cual se le ha hecho el cambio de variable antes descrito\n",
    "\n",
    "3. Integrar el polinomio de resultante de -1 a 1"
   ]
  },
  {
   "cell_type": "code",
   "execution_count": 23,
   "metadata": {},
   "outputs": [
    {
     "data": {
      "text/plain": [
       "xSubscriptSym (generic function with 1 method)"
      ]
     },
     "execution_count": 23,
     "metadata": {},
     "output_type": "execute_result"
    }
   ],
   "source": [
    "function xSubscriptSym(i)\n",
    "   a = \"x_\"\n",
    "   b = string(i)\n",
    "    \n",
    "    return string(a,b)\n",
    "    \n",
    "end"
   ]
  },
  {
   "cell_type": "code",
   "execution_count": 24,
   "metadata": {},
   "outputs": [
    {
     "data": {
      "text/plain": [
       "lagrangeInterpolationDefined (generic function with 1 method)"
      ]
     },
     "execution_count": 24,
     "metadata": {},
     "output_type": "execute_result"
    }
   ],
   "source": [
    "using SymPy\n",
    "#=Copiamos nuestra función para la interpolación de la grange N va a ser en este caso el numero de\n",
    "puntos=#\n",
    "function lagrangeInterpolationDefined(N,f)\n",
    "    x0 = Sym(\"x_0\")\n",
    "    x = Sym(\"x\")\n",
    "    g = f(x)\n",
    "    points = []\n",
    "    push!(points,x0)\n",
    "    #=We create all the symbols for each point=#\n",
    "    \n",
    "    for i in 1:N-1\n",
    "       push!(points,Sym(xSubscriptSym(i))) \n",
    "    end\n",
    "    \n",
    "    sum = SymFunction(\"sum\")\n",
    "    lagrangeTerm = SymFunction(\"lagrangeTerm\")\n",
    "    lagrangeTerm = 1\n",
    "    sum = 0\n",
    "    \n",
    "    for i in 1:N\n",
    "        lagrangeTerm  = 1\n",
    "        for j in 1:N\n",
    "            if(j!=i)\n",
    "                \n",
    "               lagrangeTerm = lagrangeTerm*(x-points[j])/((points[i])-points[j])\n",
    "            \n",
    "            end\n",
    "    end\n",
    "          sum+=g(points[i])*lagrangeTerm\n",
    "end\n",
    "    return sum \n",
    "end"
   ]
  },
  {
   "cell_type": "code",
   "execution_count": 25,
   "metadata": {},
   "outputs": [
    {
     "data": {
      "text/plain": [
       "quadratureMethod (generic function with 1 method)"
      ]
     },
     "execution_count": 25,
     "metadata": {},
     "output_type": "execute_result"
    }
   ],
   "source": [
    "#=Ahora construimos la aproximación de la integral =#\n",
    "using SymPy.SpecialFuncs\n",
    "function quadratureMethod(f,a,b,n)\n",
    "   #=Sacamos el n-esimo polinomio de legendre=#\n",
    "    x = Sym(\"x\")\n",
    "    v = Sym(\"v\")\n",
    "    legend = legendre(n,x)\n",
    "    \n",
    "    #=Sacamos las raices del polinomio=#\n",
    "    legendreRoots = solve(legend)\n",
    "    \n",
    "    #=Hacemos el cambio de variable en la función x=#\n",
    "    g = f(x)\n",
    "    g = subs(g,x=>((b-a)/2)*(v +((b-a)/(b+a))))\n",
    "    \n",
    "    #=Bien, ahora hacemos la interpolación de f =#\n",
    "    lagrange = lagrangeInterpolationDefined(n,g)\n",
    "    \n",
    "    #=Sustituimos las raices en el polinomio=#\n",
    "    \n",
    "    for i in 1:n\n",
    "       lagrange = subs(lagrange,Sym(xSubscriptSym(i-1))=>legendreRoots[i]) \n",
    "    end\n",
    "    \n",
    "    integral = integrate(lagrange,(x,-1,1))\n",
    "    \n",
    "    return N(integral)\n",
    "end"
   ]
  },
  {
   "cell_type": "code",
   "execution_count": 26,
   "metadata": {},
   "outputs": [
    {
     "data": {
      "text/plain": [
       "2.666666666666666"
      ]
     },
     "execution_count": 26,
     "metadata": {},
     "output_type": "execute_result"
    }
   ],
   "source": [
    "quadratureMethod(x->x^2,0,2,2)"
   ]
  },
  {
   "cell_type": "code",
   "execution_count": 27,
   "metadata": {},
   "outputs": [
    {
     "data": {
      "text/plain": [
       "10.666666666666668"
      ]
     },
     "execution_count": 27,
     "metadata": {},
     "output_type": "execute_result"
    }
   ],
   "source": [
    "#=Si usamos tres puntos para la interpolacion, la integral sera exacta hasta para polinomios de orden 5, la siguiente integral de x^5 de 0 a 2 debe dar 64/6 = 10.6666=#\n",
    "\n",
    "quadratureMethod(x->x^5,0,2,3)"
   ]
  },
  {
   "cell_type": "markdown",
   "metadata": {},
   "source": [
    "# 5.-Integrales multiples"
   ]
  },
  {
   "cell_type": "markdown",
   "metadata": {},
   "source": [
    "<div style=\"text-align: justify\">\n",
    "En este caso se trabajará primeramente con integrales dobles  $ \\iint \\limits_{R} f(x,y) \\ dA$ donde $R$ será nuestra región rectangular $R=\\{ (x,y) | a\\leq x \\leq b,  \\ c\\leq y \\leq d \\}$. Aquí se utilizará la regla compuesta de Simpson.  \n",
    "Supongamos que $n$ y $m$ son número enteros que nos servirán para obtener los tamaños de los pasos $h=\\frac{b-a}{2n}$ y $k=\\frac{d-c}{2m}$. Y re-escribiendo la integral como un integral doble iterada.\n",
    "$$\\iint \\limits_{R} f(x,y) \\ dA = \\int _a^b \\left( \\int _c^d f(x,y) \\ dy \\right) dx$$\n",
    "\n",
    "Primero se utilizará la regla compuesta de Simpson para la integral de adentro del paréntesis.\n",
    "\n",
    "Ahora tomando $y_j=c+jk$ para cada $j=0,1, ... , 2m$ obtendríamos\n",
    "\n",
    "$$\\int _c^d f(x,y)dy = \\frac{k}{3} \\left [ f(x,y_0) + 2 \\sum_{j=1}^{m-1} f(x,y_{2j}) + 4 \\sum_{j=1}^{m} f(x,y_{2j-1}+f(x,y_{2m}))\\right ] - \\frac{(d-c)k^4}{180}\\frac{\\partial^4 f(x,\\mu)}{\\partial y^4}$$\n",
    "\n",
    "para alguna $\\mu$ en $(c,d)$, si ahora introducimos $\\int_a^b dx$ y multiplicamos por $\\frac{k}{3}$, obtendríamos  \n",
    "\n",
    "$$\\int _a^b \\int _c^d f(x,y)dy \\ dx = \\frac{k}{3} \\int _a^b  f(x,y_0) dx + \\frac{2k}{k} \\sum_{j=1}^{m-1}  \\int _a^b  f(x,y_{2j})dx  + \\frac{4k}{3} \\sum_{j=1}^{m}  \\int _a^b  f(x,y_{2j-1})dx + \\frac{k}{3} \\int _a^b f(x,y_{2m})) dx - \\frac{(d-c)k^4}{180} \\int _a^b \\frac{\\partial^4 f(x,\\mu)}{\\partial y^4} \\ dx$$\n",
    "\n",
    "\n",
    "Ahora la regla compuesta de Simpson se emplea en cada una de la integrales, de la ecuación anterior. Tomando $x_i = a+ih$ para $i=,0,1, ... ,2n$ se obtiene para da $j=0,1, ..., 2m$. Teniendo que la integral resulta de la siguiente forma\n",
    "\n",
    "$$ \\int_a^b f(x,y_j)dx = \\frac{h}{3} \\left[ f(x_0,y_j) + 2 \\sum _{i=1}^{n-1}f(x_{2i},y_j) + 4\\sum _{i=1}^{n} f(x_{2i},y_j)+f(x_{2n},y_j) \\right] -\\frac{b-a}{180}h^4 \\frac{\\partial^4f}{\\partial x^4}(\\xi_j,y_j)$$\n",
    "\n",
    "para alguna $\\xi_j$ en $(a,b)$. Lo que nos daría que la aproximación tiene la forma\n",
    "\n",
    "$$\\int _a^b \\int _c^d f(x,y) dy dx \\approx \\frac{h}{3} \\left [ f(x_0,y_j) + 2\\sum _{i=1}^{n-1}f(x_{2i},y_0) + 4\\sum _{i=1}^n f(x_{2i-1},y_0)\\\\\n",
    "+f(x_{2n},y_0) + 2\\sum_{j=1}^{m-1}f(x_0,y_{2j}) + 4\\sum_{j=1}^{m-1} \\sum_{i=1}^{n-1}f(x_{2i},y_{2j}) \\\\\n",
    "+8 \\sum_{j=1}^{m-1} \\sum_{i=1}^{n} f(x_{2i-1},y_{2j}) + 2\\sum_{j=1} ^{m-1} f(x_{2n},y_{2j}) \\\\\n",
    "+4 \\sum_{j=1}^{m}f(x_0,y_{2j-1}) + 8\\sum_{j=1}^{m} \\sum_{i=1}^{n-1} f(x_{2i},y_{2j-1}) \\\\\n",
    "+16 \\sum_{j=1}^{m}\\sum_{i=1}^{n} f(x_{2i},y_{2j-1}) + 4\\sum_{j=1}^m f(x_{2n},y_(2j-1)\\\\\n",
    "+f(x_0,y_{2m}) + 2\\sum_{i=1}^{n-1}f(x_{2i},y_{2m}) + 4\\sum_{i=1}^{n}f(x_{2i-1},y_{2m})\\\\\n",
    "+f(x_{2n},y_{2m})\\right]$$.\n",
    "El método visto anteriormente se puede generalizar para regiones que no sean cuadradas, y da lugar a integrales de la forma $$\\int _a^b \\left( \\int _{c(x)}^{d(x)} f(x,y) \\ dy \\right) dx$$ ,ya que, por el teorema de Fubini podemos expresar cualquier región como una región x-simple, o una suma de éstas.En este caso definimos $k(x)=\\frac{d(x)-c(x)}{2}$, entonces \n",
    "\n",
    "$$\\int _a^b \\left( \\int _{c(x)}^{d(x)} f(x,y) \\ dy \\right) \\approx \\int _a^b \\frac{h}{3} \\left[ f(x,c(x))+f(x,c(x)+k(x))+f(x,d(x))\\right] dx\\approx \\frac{h}{3}\\left[\\frac{k(a)}{3}(f(a,c(a))+4f(a,c(a)+k(a))+f(a,d(a)))+\\frac{k(a+h)}{3}(f(a+h,c(a+h))+4f(a+h,c(a+h)+k(a+h))+f(a+h,d(a+h)))+\\frac{k(a+2h)}{3}(f(a+2h,c(a+2h))+4f(a+2h,c(a+2h)+k(a+2h))+f(a+2h,d(a+2h)))\\right]$$."
   ]
  },
  {
   "cell_type": "code",
   "execution_count": 28,
   "metadata": {},
   "outputs": [
    {
     "data": {
      "text/plain": [
       "DoubleIntegrlalsSimpsonRule (generic function with 1 method)"
      ]
     },
     "execution_count": 28,
     "metadata": {},
     "output_type": "execute_result"
    }
   ],
   "source": [
    "## Regla de Simpson para integrales multiples\n",
    "function DoubleIntegrlalsSimpsonRule(f,a,b,c,d,n)\n",
    "    h=(b-a)/(n)\n",
    "    S=0.0\n",
    "    xm=0.0\n",
    "    So=0.0\n",
    "    x0=a\n",
    "    x1=0.0\n",
    "    k(x)=(d(x)-c(x))/2\n",
    "    for i in 1:n\n",
    "        x1=a+i*h\n",
    "        xm=(x1+x0)*(1/2)\n",
    "        S1=(k(x0)/3)*[f(x0,c(x0))+4*f(x0,c(x0)+k(x0))+f(x0,d(x0))]\n",
    "        S2=(4*k(xm)/3)*[f(xm,c(xm))+4f(xm,c(xm)+k(xm))+f(xm,d(xm))]\n",
    "        S3=(k(x1)/3)*[f(x1,c(x1))+4*f(x1,c(x1)+k(x1))+f(x1,d(x1))]\n",
    "        S=(h/6)*(S1+S2+S3)+So\n",
    "        So=S\n",
    "        x0=x1\n",
    "    end\n",
    "    return So\n",
    "end"
   ]
  },
  {
   "cell_type": "markdown",
   "metadata": {},
   "source": [
    "## Pruebas\n",
    "Se harán pruebas con las siguientes integrales. \n"
   ]
  },
  {
   "cell_type": "markdown",
   "metadata": {},
   "source": [
    "$\\int_{0.1}^{0.5} \\int_{x}^{x^2} e^{\\frac{y}{x}}dy⋅dx=0.033305$"
   ]
  },
  {
   "cell_type": "code",
   "execution_count": 29,
   "metadata": {},
   "outputs": [
    {
     "data": {
      "text/plain": [
       "1-element Array{Float64,1}:\n",
       " 0.0333056"
      ]
     },
     "execution_count": 29,
     "metadata": {},
     "output_type": "execute_result"
    }
   ],
   "source": [
    "DoubleIntegrlalsSimpsonRule((x,y)->e^(y/x), 0.1,0.5,x->x^3,x->x^2,100)"
   ]
  },
  {
   "cell_type": "markdown",
   "metadata": {},
   "source": [
    "$\\int_{0}^{1} \\int_{x}^{2x}(x^2+y^3)dy⋅dx=1.0$"
   ]
  },
  {
   "cell_type": "code",
   "execution_count": 30,
   "metadata": {},
   "outputs": [
    {
     "data": {
      "text/plain": [
       "1-element Array{Float64,1}:\n",
       " 1.0"
      ]
     },
     "execution_count": 30,
     "metadata": {},
     "output_type": "execute_result"
    }
   ],
   "source": [
    "DoubleIntegrlalsSimpsonRule((x,y)->x^2+y^3, 0.0,1,x->x,x->2x,100)"
   ]
  },
  {
   "cell_type": "markdown",
   "metadata": {},
   "source": [
    "# 6.- Integral de Montecarlo\n",
    "<div style=\"text-align: justify\">\n",
    "La integración de Montecarlo es un método en el que se utilizan números pseudoaleatorios para evaluar la integral. Se basa en el hecho de que el promedio de una función en un intervalo $[a,b]$ está dado por:\n",
    "\\begin{equation}\n",
    "\\left<f \\right> = \\frac{ \\int_{a}^{b}f(x)dx}{b-a}\n",
    "\\end{equation}\n",
    "\n",
    "Si tomamos cierto número de puntos elegidos aleatoriamente dentro del intervalo ${x_{1},x_{2},\\dots,x_{n}}$, podemos aproximar el valor del promedio como \n",
    "\n",
    "\\begin{equation}\n",
    "\\left< f\\right>\\approx \\frac{\\sum_{i = 0}^n f(x_{i})}{n}\n",
    "\\end{equation}\n",
    "Sustituyendo en la primera ecuación y despejando\n",
    "\n",
    "\\begin{equation}\n",
    "\\int_{a}^{b} f(x)dx\\approx (b-a)\\frac{\\sum_{i = 1}^n f(x_{i})}{n}\n",
    "\\end{equation}\n",
    "\n",
    "Esta sería la expresión que se utilizaria para evaluar la integral en el caso unidimensional. Si se deseará obtener la integral de una función $f:\\mathbb{R}^n\\to \\mathbb{R}$ en una región \"rectangular\" : V = $[a_{1},b_{1}] \\times [a_{2},b_{2}]\\times \\dots \\times[a_{m},b_{m}]$ entonces quedaría lo siguiente:\n",
    "\n",
    "\\begin{equation}\n",
    "\\int_{V} f \\approx (b_{1}-a_{1})\\times (b_{2}-a_{2})\\times \\dots \\times(b_{m}-a_{n}) \\frac{\\sum_{i = 1}^n f(\\vec{x_{i}})}{n}\n",
    "\\end{equation}"
   ]
  },
  {
   "cell_type": "markdown",
   "metadata": {},
   "source": [
    "## 6.1.-Funciones para la integral de Montecarlo"
   ]
  },
  {
   "cell_type": "code",
   "execution_count": 31,
   "metadata": {},
   "outputs": [
    {
     "data": {
      "text/plain": [
       "average (generic function with 1 method)"
      ]
     },
     "execution_count": 31,
     "metadata": {},
     "output_type": "execute_result"
    }
   ],
   "source": [
    "#=Funcion para estimar el promedio de una funcion=#\n",
    "\n",
    "function average(f::Function,points)\n",
    "    sum=0.0\n",
    "    n=length(points)\n",
    "    for i in 1:n\n",
    "        sum=sum+f(points[i])\n",
    "    end\n",
    "    sum/n\n",
    "end    "
   ]
  },
  {
   "cell_type": "code",
   "execution_count": 32,
   "metadata": {},
   "outputs": [
    {
     "data": {
      "text/plain": [
       "rectangle_from_coords (generic function with 1 method)"
      ]
     },
     "execution_count": 32,
     "metadata": {},
     "output_type": "execute_result"
    }
   ],
   "source": [
    "function rectangle_from_coords(xb,yb,xt,yt)\n",
    "    [\n",
    "        xb yb\n",
    "        xt yb\n",
    "        xt yt\n",
    "        xb yt\n",
    "        xb yb\n",
    "        NaN NaN\n",
    "    ]\n",
    "end"
   ]
  },
  {
   "cell_type": "code",
   "execution_count": 33,
   "metadata": {},
   "outputs": [
    {
     "name": "stderr",
     "output_type": "stream",
     "text": [
      "WARNING: Compat.UTF8String is deprecated, use String instead.\n",
      "  likely near /opt/julia_packages/.julia/v0.6/Plots/src/series.jl:94\n",
      "WARNING: Compat.UTF8String is deprecated, use String instead.\n",
      "  likely near /opt/julia_packages/.julia/v0.6/Plots/src/series.jl:94\n"
     ]
    },
    {
     "data": {
      "text/plain": [
       "drawRect (generic function with 1 method)"
      ]
     },
     "execution_count": 33,
     "metadata": {},
     "output_type": "execute_result"
    }
   ],
   "source": [
    "#=Esta función grafica un rectangulo y algunos puntos que les demos, esto es porque nos interesara saber cuales puntos aleatorios se estan tomando para hacer la aproximación del promedio y por ende la integral (Esto para integrales de dos variables en regiones rectangulares)=#\n",
    "using Plots; plotly\n",
    "plots = Plots\n",
    "\n",
    "function drawRect(x0,width,height,points)\n",
    "    \n",
    "    xCord(x) = x[1]\n",
    "    yCord(x)=x[2]\n",
    "    \n",
    "    rect = rectangle_from_coords(x0[1],x0[2],x0[1]+width,x0[2]+height)\n",
    "    plots.plot(rect[:,1],rect[:,2],fill = (0,0.5,:orange))\n",
    "    plots.scatter!(xCord.(points),yCord.(points),color = \"blue\")\n",
    "end"
   ]
  },
  {
   "cell_type": "code",
   "execution_count": 44,
   "metadata": {},
   "outputs": [
    {
     "name": "stderr",
     "output_type": "stream",
     "text": [
      "\u001b[1m\u001b[36mINFO: \u001b[39m\u001b[22m\u001b[36mCloning cache of Contour from https://github.com/JuliaGeometry/Contour.jl.git\n",
      "\u001b[39m\u001b[1m\u001b[36mINFO: \u001b[39m\u001b[22m\u001b[36mCloning cache of DataStructures from https://github.com/JuliaCollections/DataStructures.jl.git\n",
      "\u001b[39m\u001b[1m\u001b[36mINFO: \u001b[39m\u001b[22m\u001b[36mCloning cache of Measures from https://github.com/JuliaGraphics/Measures.jl.git\n",
      "\u001b[39m\u001b[1m\u001b[36mINFO: \u001b[39m\u001b[22m\u001b[36mCloning cache of NaNMath from https://github.com/mlubin/NaNMath.jl.git\n",
      "\u001b[39m\u001b[1m\u001b[36mINFO: \u001b[39m\u001b[22m\u001b[36mCloning cache of PlotThemes from https://github.com/JuliaPlots/PlotThemes.jl.git\n",
      "\u001b[39m\u001b[1m\u001b[36mINFO: \u001b[39m\u001b[22m\u001b[36mCloning cache of PlotUtils from https://github.com/JuliaPlots/PlotUtils.jl.git\n",
      "\u001b[39m\u001b[1m\u001b[36mINFO: \u001b[39m\u001b[22m\u001b[36mCloning cache of Plots from https://github.com/JuliaPlots/Plots.jl.git\n",
      "\u001b[39m\u001b[1m\u001b[36mINFO: \u001b[39m\u001b[22m\u001b[36mCloning cache of Requires from https://github.com/MikeInnes/Requires.jl.git\n",
      "\u001b[39m\u001b[1m\u001b[36mINFO: \u001b[39m\u001b[22m\u001b[36mCloning cache of Showoff from https://github.com/JuliaGraphics/Showoff.jl.git\n",
      "\u001b[39m\u001b[1m\u001b[36mINFO: \u001b[39m\u001b[22m\u001b[36mCloning cache of SpecialFunctions from https://github.com/JuliaMath/SpecialFunctions.jl.git\n",
      "\u001b[39m\u001b[1m\u001b[36mINFO: \u001b[39m\u001b[22m\u001b[36mCloning cache of StaticArrays from https://github.com/JuliaArrays/StaticArrays.jl.git\n",
      "\u001b[39m\u001b[1m\u001b[36mINFO: \u001b[39m\u001b[22m\u001b[36mCloning cache of StatsBase from https://github.com/JuliaStats/StatsBase.jl.git\n",
      "\u001b[39m\u001b[1m\u001b[36mINFO: \u001b[39m\u001b[22m\u001b[36mInstalling Contour v0.4.0\n",
      "\u001b[39m\u001b[1m\u001b[36mINFO: \u001b[39m\u001b[22m\u001b[36mInstalling DataStructures v0.7.2\n",
      "\u001b[39m\u001b[1m\u001b[36mINFO: \u001b[39m\u001b[22m\u001b[36mInstalling Measures v0.1.0\n",
      "\u001b[39m\u001b[1m\u001b[36mINFO: \u001b[39m\u001b[22m\u001b[36mInstalling NaNMath v0.2.6\n",
      "\u001b[39m\u001b[1m\u001b[36mINFO: \u001b[39m\u001b[22m\u001b[36mInstalling PlotThemes v0.1.4\n",
      "\u001b[39m\u001b[1m\u001b[36mINFO: \u001b[39m\u001b[22m\u001b[36mInstalling PlotUtils v0.4.4\n",
      "\u001b[39m\u001b[1m\u001b[36mINFO: \u001b[39m\u001b[22m\u001b[36mInstalling Plots v0.13.0\n",
      "\u001b[39m\u001b[1m\u001b[36mINFO: \u001b[39m\u001b[22m\u001b[36mInstalling Requires v0.4.3\n",
      "\u001b[39m\u001b[1m\u001b[36mINFO: \u001b[39m\u001b[22m\u001b[36mInstalling Showoff v0.1.1\n",
      "\u001b[39m\u001b[1m\u001b[36mINFO: \u001b[39m\u001b[22m\u001b[36mInstalling SpecialFunctions v0.3.3\n",
      "\u001b[39m\u001b[1m\u001b[36mINFO: \u001b[39m\u001b[22m\u001b[36mInstalling StaticArrays v0.6.3\n",
      "\u001b[39m\u001b[1m\u001b[36mINFO: \u001b[39m\u001b[22m\u001b[36mInstalling StatsBase v0.19.0\n",
      "\u001b[39m\u001b[1m\u001b[36mINFO: \u001b[39m\u001b[22m\u001b[36mBuilding SpecialFunctions\n",
      "\u001b[39m\u001b[1m\u001b[36mINFO: \u001b[39m\u001b[22m\u001b[36mAttempting to Create directory /home/juser/.julia/v0.6/SpecialFunctions/deps/downloads\n",
      "\u001b[39m\u001b[1m\u001b[36mINFO: \u001b[39m\u001b[22m\u001b[36mDownloading file https://github.com/ararslan/openspecfun-builder/releases/download/v0.5.3/libopenspecfun-0.5.3-linux-x86_64.tar.gz\n",
      "\u001b[39m  % Total    % Received % Xferd  Average Speed   Time    Time     Time  Current\n",
      "                                 Dload  Upload   Total   Spent    Left  Speed\n",
      "100   631    0   631    0     0   1945      0 --:--:-- --:--:-- --:--:--  1947\n",
      "100 2576k  100 2576k    0     0  1698k      0  0:00:01  0:00:01 --:--:-- 4073k\n",
      "\u001b[1m\u001b[36mINFO: \u001b[39m\u001b[22m\u001b[36mDone downloading file https://github.com/ararslan/openspecfun-builder/releases/download/v0.5.3/libopenspecfun-0.5.3-linux-x86_64.tar.gz\n",
      "\u001b[39m\u001b[1m\u001b[36mINFO: \u001b[39m\u001b[22m\u001b[36mAttempting to Create directory /home/juser/.julia/v0.6/SpecialFunctions\n",
      "\u001b[39m\u001b[1m\u001b[36mINFO: \u001b[39m\u001b[22m\u001b[36mDirectory /home/juser/.julia/v0.6/SpecialFunctions already created\n",
      "\u001b[39m\u001b[1m\u001b[36mINFO: \u001b[39m\u001b[22m\u001b[36mBuilding Plots\n",
      "\u001b[39m\u001b[1m\u001b[36mINFO: \u001b[39m\u001b[22m\u001b[36mCannot find deps/plotly-latest.min.js... downloading latest version.\n",
      "\u001b[39m  % Total    % Received % Xferd  Average Speed   Time    Time     Time  Current\n",
      "                                 Dload  Upload   Total   Spent    Left  Speed\n",
      "100 2287k  100 2287k    0     0  4428k      0 --:--:-- --:--:-- --:--:-- 4425k\n",
      "\u001b[1m\u001b[36mINFO: \u001b[39m\u001b[22m\u001b[36mPackage database updated\n",
      "\u001b[39m\u001b[1m\u001b[36mINFO: \u001b[39m\u001b[22m\u001b[36mMETADATA is out-of-date — you may not have the latest version of Plots\n",
      "\u001b[39m\u001b[1m\u001b[36mINFO: \u001b[39m\u001b[22m\u001b[36mUse `Pkg.update()` to get the latest versions of your packages\n",
      "\u001b[39m"
     ]
    },
    {
     "data": {
      "text/plain": [
       "cubeDraw (generic function with 1 method)"
      ]
     },
     "execution_count": 44,
     "metadata": {},
     "output_type": "execute_result"
    }
   ],
   "source": [
    "#=Esta función grafica un prisma rectangular y algunos puntos que se les de, esto para saber que puntos se estan tomando para aproximar una integral de tres variables.=#\n",
    "Pkg.add(\"Plots\")\n",
    "using Plots; plotly\n",
    "plots = Plots\n",
    "function cubeDraw(x0,width,height,large,points)\n",
    "    xcomp(x)=x[1]\n",
    "    ycomp(x)=x[2]\n",
    "    zcomp(x)=x[3]\n",
    "    plots.plot([xcomp(x0)+width,xcomp(x0)],[ycomp(x0),ycomp(x0)],[zcomp(x0),zcomp(x0)],c=:bluesreds,legend=false)\n",
    "    plots.plot!([xcomp(x0),xcomp(x0)],[ycomp(x0),ycomp(x0)+large],[zcomp(x0),zcomp(x0)],c=:bluesreds)\n",
    "    plots.plot!([xcomp(x0),xcomp(x0)],[ycomp(x0),ycomp(x0)],[zcomp(x0),zcomp(x0)+height],c=:bluesreds)\n",
    "    plots.plot!([xcomp(x0)+width,xcomp(x0)+width],[ycomp(x0),ycomp(x0)+large],[zcomp(x0),zcomp(x0)],c=:bluesreds)\n",
    "    plots.plot!([xcomp(x0)+width,xcomp(x0)+width],[ycomp(x0),ycomp(x0)],[zcomp(x0),zcomp(x0)+height],c=:bluesreds)\n",
    "    plots.plot!([xcomp(x0)+width,xcomp(x0)],[ycomp(x0)+large,ycomp(x0)+large],[zcomp(x0),zcomp(x0)],c=:bluesreds)\n",
    "    plots.plot!([xcomp(x0),xcomp(x0)],[ycomp(x0)+large,ycomp(x0)+large],[zcomp(x0),zcomp(x0)+height],c=:bluesreds)\n",
    "    plots.plot!([xcomp(x0),xcomp(x0)],[ycomp(x0),ycomp(x0)+large],[zcomp(x0)+height,zcomp(x0)+height],c=:bluesreds)\n",
    "    plots.plot!([xcomp(x0)+width,xcomp(x0)],[ycomp(x0),ycomp(x0)],[zcomp(x0)+height,zcomp(x0)+height],c=:bluesreds)\n",
    "    plots.plot!([xcomp(x0)+width,xcomp(x0)+width],[ycomp(x0)+large,ycomp(x0)+large],[zcomp(x0),zcomp(x0)+height],c=:bluesreds)\n",
    "    plots.plot!([xcomp(x0)+width,xcomp(x0)],[ycomp(x0)+large,ycomp(x0)+large],[zcomp(x0)+height,zcomp(x0)+height],c=:bluesreds)\n",
    "    plots.plot!([xcomp(x0)+width,xcomp(x0)+width],[ycomp(x0),ycomp(x0)+large],[zcomp(x0)+height,zcomp(x0)+height],c=:bluesreds)\n",
    "    plots.scatter!(xcomp.(points),ycomp.(points),zcomp.(points))\n",
    "end\n"
   ]
  },
  {
   "cell_type": "code",
   "execution_count": 35,
   "metadata": {},
   "outputs": [
    {
     "data": {
      "text/plain": [
       "randomFloat (generic function with 1 method)"
      ]
     },
     "execution_count": 35,
     "metadata": {},
     "output_type": "execute_result"
    }
   ],
   "source": [
    "#=Esta función te da un número aleatorio en el intervalo [a,b]=#\n",
    "\n",
    "function randomFloat(a,b)\n",
    "   return a +(b-a)*rand() \n",
    "end"
   ]
  },
  {
   "cell_type": "code",
   "execution_count": 36,
   "metadata": {},
   "outputs": [
    {
     "data": {
      "text/plain": [
       "multiplyElements (generic function with 1 method)"
      ]
     },
     "execution_count": 36,
     "metadata": {},
     "output_type": "execute_result"
    }
   ],
   "source": [
    "function multiplyElements(A)\n",
    "    product = 1\n",
    "    \n",
    "    for element in A\n",
    "       product *= element \n",
    "    end\n",
    "    \n",
    "    return product\n",
    "    \n",
    "end"
   ]
  },
  {
   "cell_type": "code",
   "execution_count": 37,
   "metadata": {},
   "outputs": [
    {
     "data": {
      "text/plain": [
       "montecarloIntegral (generic function with 1 method)"
      ]
     },
     "execution_count": 37,
     "metadata": {},
     "output_type": "execute_result"
    }
   ],
   "source": [
    "function montecarloIntegral(f::Function,boundary,N)\n",
    "    dimensions = size(boundary,1)\n",
    "    points = []\n",
    "    \n",
    "    #=Generamos N puntos aleatorios que esten dentro de la frontera.=#\n",
    "    for i in 1:N\n",
    "        point = []\n",
    "    for j in 1:dimensions\n",
    "            push!(point,randomFloat(boundary[j][1],boundary[j][2]))\n",
    "        end \n",
    "        push!(points,point)\n",
    "    end\n",
    "    promedio = average(f,points)\n",
    "    \n",
    "    #=Obtenemos el volumen de la región=#\n",
    "    difference(x) = x[2]-x[1]\n",
    "    volume = multiplyElements(difference.(boundary))\n",
    "    \n",
    "    #=La integral es el producto del volumen por el promedio=#\n",
    "    integral = volume*promedio\n",
    "    \n",
    "    #=La funcion regresa un arreglo con el valor de la integral , y con los puntso que se utilizaron para evaluarla=#\n",
    "    \n",
    "    return [integral,points]\n",
    "end "
   ]
  },
  {
   "cell_type": "markdown",
   "metadata": {},
   "source": [
    "## 6.2.-Pruebas de la integral de Montecarlo"
   ]
  },
  {
   "cell_type": "markdown",
   "metadata": {},
   "source": [
    "Primero probemos el caso en dos dimensiones con la función $$f(x) = x^2 +y$$ si integramos en el rectangulo $[0,1]\\times [0,2]$\n",
    "\n",
    "\\begin{equation}\n",
    "\\int_{0}^1\\int_{0}^2 (x^2 +y)dydx = \\int_{0}^1 (2x^2  +2)dx = \\frac{2}{3}+2 =\\frac{8}{3} = 2.6666\n",
    "\\end{equation}"
   ]
  },
  {
   "cell_type": "code",
   "execution_count": 38,
   "metadata": {},
   "outputs": [
    {
     "data": {
      "text/html": [
       "<img src=\"data:image/png;base64,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\" />"
      ]
     },
     "execution_count": 38,
     "metadata": {},
     "output_type": "execute_result"
    }
   ],
   "source": [
    "boundary = [[0,1],[0,2]]\n",
    "f(x) = x[1]^2 +x[2]\n",
    "integral = montecarloIntegral(f,boundary,200)\n",
    "difference(x) = x[2]-x[1]\n",
    "drawRect([0,0],1,2,integral[2])"
   ]
  },
  {
   "cell_type": "code",
   "execution_count": 39,
   "metadata": {},
   "outputs": [
    {
     "name": "stdout",
     "output_type": "stream",
     "text": [
      "El valor de la integral es 2.6667280968671934\n"
     ]
    }
   ],
   "source": [
    "println(\"El valor de la integral es \",integral[1])"
   ]
  },
  {
   "cell_type": "markdown",
   "metadata": {},
   "source": [
    "Ahora hagamos la integral de una función $f:\\mathbb{R^3} \\to \\mathbb{R}$ como $f(x,y,z) = x+y+z$ en la region $[0,1]\\times[0,1]\\times[0,1]$ el valor de dicha integral es:\n",
    "\n",
    "\n",
    "$$\\int_{0}^{1} \\int_{0}^{1} \\int_{0}^{1} (x+y+z)dxdydx = \\frac{3}{2} = 1.5$$\n"
   ]
  },
  {
   "cell_type": "code",
   "execution_count": 47,
   "metadata": {},
   "outputs": [
    {
     "ename": "PyCall.PyError",
     "evalue": "\u001b[91mPyError (ccall(@pysym(:PyObject_Call), PyPtr, (PyPtr, PyPtr, PyPtr), o, arg, C_NULL)) <type 'exceptions.ValueError'>\nValueError(u'Invalid RGBA argument: [(0.0, 0.0, 0.5450980392156862, 1.0), (0.8, 0.85, 0.8, 1.0), (0.5450980392156862, 0.0, 0.0, 1.0)]',)\n  File \"/usr/local/lib/python2.7/dist-packages/matplotlib/artist.py\", line 63, in draw_wrapper\n    draw(artist, renderer, *args, **kwargs)\n  File \"/usr/local/lib/python2.7/dist-packages/matplotlib/figure.py\", line 1144, in draw\n    renderer, self, dsu, self.suppressComposite)\n  File \"/usr/local/lib/python2.7/dist-packages/matplotlib/image.py\", line 139, in _draw_list_compositing_images\n    a.draw(renderer)\n  File \"/usr/local/lib/python2.7/dist-packages/mpl_toolkits/mplot3d/axes3d.py\", line 293, in draw\n    Axes.draw(self, renderer)\n  File \"/usr/local/lib/python2.7/dist-packages/matplotlib/artist.py\", line 63, in draw_wrapper\n    draw(artist, renderer, *args, **kwargs)\n  File \"/usr/local/lib/python2.7/dist-packages/matplotlib/axes/_base.py\", line 2426, in draw\n    mimage._draw_list_compositing_images(renderer, self, dsu)\n  File \"/usr/local/lib/python2.7/dist-packages/matplotlib/image.py\", line 139, in _draw_list_compositing_images\n    a.draw(renderer)\n  File \"/usr/local/lib/python2.7/dist-packages/mpl_toolkits/mplot3d/art3d.py\", line 131, in draw\n    lines.Line2D.draw(self, renderer)\n  File \"/usr/local/lib/python2.7/dist-packages/matplotlib/artist.py\", line 63, in draw_wrapper\n    draw(artist, renderer, *args, **kwargs)\n  File \"/usr/local/lib/python2.7/dist-packages/matplotlib/lines.py\", line 803, in draw\n    ln_color_rgba = self._get_rgba_ln_color()\n  File \"/usr/local/lib/python2.7/dist-packages/matplotlib/lines.py\", line 1344, in _get_rgba_ln_color\n    return mcolors.to_rgba(self._color, self._alpha)\n  File \"/usr/local/lib/python2.7/dist-packages/matplotlib/colors.py\", line 143, in to_rgba\n    rgba = _to_rgba_no_colorcycle(c, alpha)\n  File \"/usr/local/lib/python2.7/dist-packages/matplotlib/colors.py\", line 194, in _to_rgba_no_colorcycle\n    raise ValueError(\"Invalid RGBA argument: {!r}\".format(orig_c))\n\u001b[39m",
     "output_type": "error",
     "traceback": [
      "\u001b[91mPyError (ccall(@pysym(:PyObject_Call), PyPtr, (PyPtr, PyPtr, PyPtr), o, arg, C_NULL)) <type 'exceptions.ValueError'>\nValueError(u'Invalid RGBA argument: [(0.0, 0.0, 0.5450980392156862, 1.0), (0.8, 0.85, 0.8, 1.0), (0.5450980392156862, 0.0, 0.0, 1.0)]',)\n  File \"/usr/local/lib/python2.7/dist-packages/matplotlib/artist.py\", line 63, in draw_wrapper\n    draw(artist, renderer, *args, **kwargs)\n  File \"/usr/local/lib/python2.7/dist-packages/matplotlib/figure.py\", line 1144, in draw\n    renderer, self, dsu, self.suppressComposite)\n  File \"/usr/local/lib/python2.7/dist-packages/matplotlib/image.py\", line 139, in _draw_list_compositing_images\n    a.draw(renderer)\n  File \"/usr/local/lib/python2.7/dist-packages/mpl_toolkits/mplot3d/axes3d.py\", line 293, in draw\n    Axes.draw(self, renderer)\n  File \"/usr/local/lib/python2.7/dist-packages/matplotlib/artist.py\", line 63, in draw_wrapper\n    draw(artist, renderer, *args, **kwargs)\n  File \"/usr/local/lib/python2.7/dist-packages/matplotlib/axes/_base.py\", line 2426, in draw\n    mimage._draw_list_compositing_images(renderer, self, dsu)\n  File \"/usr/local/lib/python2.7/dist-packages/matplotlib/image.py\", line 139, in _draw_list_compositing_images\n    a.draw(renderer)\n  File \"/usr/local/lib/python2.7/dist-packages/mpl_toolkits/mplot3d/art3d.py\", line 131, in draw\n    lines.Line2D.draw(self, renderer)\n  File \"/usr/local/lib/python2.7/dist-packages/matplotlib/artist.py\", line 63, in draw_wrapper\n    draw(artist, renderer, *args, **kwargs)\n  File \"/usr/local/lib/python2.7/dist-packages/matplotlib/lines.py\", line 803, in draw\n    ln_color_rgba = self._get_rgba_ln_color()\n  File \"/usr/local/lib/python2.7/dist-packages/matplotlib/lines.py\", line 1344, in _get_rgba_ln_color\n    return mcolors.to_rgba(self._color, self._alpha)\n  File \"/usr/local/lib/python2.7/dist-packages/matplotlib/colors.py\", line 143, in to_rgba\n    rgba = _to_rgba_no_colorcycle(c, alpha)\n  File \"/usr/local/lib/python2.7/dist-packages/matplotlib/colors.py\", line 194, in _to_rgba_no_colorcycle\n    raise ValueError(\"Invalid RGBA argument: {!r}\".format(orig_c))\n\u001b[39m",
      "",
      "Stacktrace:",
      " [1] \u001b[1mpyerr_check\u001b[22m\u001b[22m at \u001b[1m/home/juser/.julia/v0.6/PyCall/src/exception.jl:56\u001b[22m\u001b[22m [inlined]",
      " [2] \u001b[1mpyerr_check\u001b[22m\u001b[22m at \u001b[1m/home/juser/.julia/v0.6/PyCall/src/exception.jl:61\u001b[22m\u001b[22m [inlined]",
      " [3] \u001b[1mmacro expansion\u001b[22m\u001b[22m at \u001b[1m/home/juser/.julia/v0.6/PyCall/src/exception.jl:81\u001b[22m\u001b[22m [inlined]",
      " [4] \u001b[1m#_pycall#67\u001b[22m\u001b[22m\u001b[1m(\u001b[22m\u001b[22m::Array{Any,1}, ::Function, ::PyCall.PyObject, ::PyCall.PyObject, ::Vararg{PyCall.PyObject,N} where N\u001b[1m)\u001b[22m\u001b[22m at \u001b[1m/home/juser/.julia/v0.6/PyCall/src/PyCall.jl:653\u001b[22m\u001b[22m",
      " [5] \u001b[1m_pycall\u001b[22m\u001b[22m\u001b[1m(\u001b[22m\u001b[22m::PyCall.PyObject, ::PyCall.PyObject, ::Vararg{PyCall.PyObject,N} where N\u001b[1m)\u001b[22m\u001b[22m at \u001b[1m/home/juser/.julia/v0.6/PyCall/src/PyCall.jl:641\u001b[22m\u001b[22m",
      " [6] \u001b[1m#pycall#71\u001b[22m\u001b[22m\u001b[1m(\u001b[22m\u001b[22m::Array{Any,1}, ::Function, ::PyCall.PyObject, ::Type{PyCall.PyAny}, ::PyCall.PyObject, ::Vararg{PyCall.PyObject,N} where N\u001b[1m)\u001b[22m\u001b[22m at \u001b[1m/home/juser/.julia/v0.6/PyCall/src/PyCall.jl:675\u001b[22m\u001b[22m",
      " [7] \u001b[1mpycall\u001b[22m\u001b[22m\u001b[1m(\u001b[22m\u001b[22m::PyCall.PyObject, ::Type{PyCall.PyAny}, ::PyCall.PyObject, ::Vararg{PyCall.PyObject,N} where N\u001b[1m)\u001b[22m\u001b[22m at \u001b[1m/home/juser/.julia/v0.6/PyCall/src/PyCall.jl:675\u001b[22m\u001b[22m",
      " [8] \u001b[1m#call#72\u001b[22m\u001b[22m\u001b[1m(\u001b[22m\u001b[22m::Array{Any,1}, ::PyCall.PyObject, ::PyCall.PyObject, ::Vararg{PyCall.PyObject,N} where N\u001b[1m)\u001b[22m\u001b[22m at \u001b[1m/home/juser/.julia/v0.6/PyCall/src/PyCall.jl:678\u001b[22m\u001b[22m",
      " [9] \u001b[1m(::PyCall.PyObject)\u001b[22m\u001b[22m\u001b[1m(\u001b[22m\u001b[22m::PyCall.PyObject, ::Vararg{PyCall.PyObject,N} where N\u001b[1m)\u001b[22m\u001b[22m at \u001b[1m/home/juser/.julia/v0.6/PyCall/src/PyCall.jl:678\u001b[22m\u001b[22m",
      " [10] \u001b[1m_before_layout_calcs\u001b[22m\u001b[22m\u001b[1m(\u001b[22m\u001b[22m::Plots.Plot{Plots.PyPlotBackend}\u001b[1m)\u001b[22m\u001b[22m at \u001b[1m/opt/julia_packages/.julia/v0.6/Plots/src/backends/pyplot.jl:1093\u001b[22m\u001b[22m",
      " [11] \u001b[1mprepare_output\u001b[22m\u001b[22m\u001b[1m(\u001b[22m\u001b[22m::Plots.Plot{Plots.PyPlotBackend}\u001b[1m)\u001b[22m\u001b[22m at \u001b[1m/opt/julia_packages/.julia/v0.6/Plots/src/plot.jl:251\u001b[22m\u001b[22m",
      " [12] \u001b[1mshow\u001b[22m\u001b[22m\u001b[1m(\u001b[22m\u001b[22m::Base64EncodePipe, ::MIME{Symbol(\"image/png\")}, ::Plots.Plot{Plots.PyPlotBackend}\u001b[1m)\u001b[22m\u001b[22m at \u001b[1m/opt/julia_packages/.julia/v0.6/Plots/src/output.jl:207\u001b[22m\u001b[22m",
      " [13] \u001b[1mbase64encode\u001b[22m\u001b[22m\u001b[1m(\u001b[22m\u001b[22m::Function, ::MIME{Symbol(\"image/png\")}, ::Vararg{Any,N} where N\u001b[1m)\u001b[22m\u001b[22m at \u001b[1m./base64.jl:197\u001b[22m\u001b[22m",
      " [14] \u001b[1mshow\u001b[22m\u001b[22m\u001b[1m(\u001b[22m\u001b[22m::Base.AbstractIOBuffer{Array{UInt8,1}}, ::MIME{Symbol(\"text/html\")}, ::Plots.Plot{Plots.PyPlotBackend}\u001b[1m)\u001b[22m\u001b[22m at \u001b[1m/opt/julia_packages/.julia/v0.6/Plots/src/output.jl:185\u001b[22m\u001b[22m",
      " [15] \u001b[1mshow\u001b[22m\u001b[22m\u001b[1m(\u001b[22m\u001b[22m::Base.AbstractIOBuffer{Array{UInt8,1}}, ::String, ::Plots.Plot{Plots.PyPlotBackend}\u001b[1m)\u001b[22m\u001b[22m at \u001b[1m./multimedia.jl:39\u001b[22m\u001b[22m",
      " [16] \u001b[1m#sprint#228\u001b[22m\u001b[22m\u001b[1m(\u001b[22m\u001b[22m::Void, ::Function, ::Int64, ::Function, ::String, ::Vararg{Any,N} where N\u001b[1m)\u001b[22m\u001b[22m at \u001b[1m./strings/io.jl:66\u001b[22m\u001b[22m",
      " [17] \u001b[1mdisplay_dict\u001b[22m\u001b[22m\u001b[1m(\u001b[22m\u001b[22m::Plots.Plot{Plots.PyPlotBackend}\u001b[1m)\u001b[22m\u001b[22m at \u001b[1m/opt/julia_packages/.julia/v0.6/Plots/src/output.jl:273\u001b[22m\u001b[22m",
      " [18] \u001b[1mexecute_request\u001b[22m\u001b[22m\u001b[1m(\u001b[22m\u001b[22m::ZMQ.Socket, ::IJulia.Msg\u001b[1m)\u001b[22m\u001b[22m at \u001b[1m/opt/julia_packages/.julia/v0.6/IJulia/src/execute_request.jl:182\u001b[22m\u001b[22m",
      " [19] \u001b[1meventloop\u001b[22m\u001b[22m\u001b[1m(\u001b[22m\u001b[22m::ZMQ.Socket\u001b[1m)\u001b[22m\u001b[22m at \u001b[1m/opt/julia_packages/.julia/v0.6/IJulia/src/eventloop.jl:8\u001b[22m\u001b[22m",
      " [20] \u001b[1m(::IJulia.##14#17)\u001b[22m\u001b[22m\u001b[1m(\u001b[22m\u001b[22m\u001b[1m)\u001b[22m\u001b[22m at \u001b[1m./task.jl:335\u001b[22m\u001b[22m"
     ]
    }
   ],
   "source": [
    "boundary = [[0,1],[0,1],[0,1]]\n",
    "f(x) = x[1] +x[2]+x[3]\n",
    "integral = montecarloIntegral(f,boundary,200)\n",
    "cubeDraw([0,0,0],1,1,1,integral[2])"
   ]
  },
  {
   "cell_type": "code",
   "execution_count": 41,
   "metadata": {},
   "outputs": [
    {
     "name": "stdout",
     "output_type": "stream",
     "text": [
      "El valor de la integral es 1.5328502621221523\n"
     ]
    }
   ],
   "source": [
    "println(\"El valor de la integral es \",integral[1])"
   ]
  },
  {
   "cell_type": "markdown",
   "metadata": {},
   "source": [
    "## 6.3.-Distribución del valor de la integral\n",
    "<div style=\"text-align: justify\">\n",
    "Ahora vamos a ver como son las distribuciones de probabilidad de la integral, al utilizar n puntos distintos intuitivamente lo que esperamos es que conforme integramos con mas puntos, la distribución se haga menos ancha, aproximandose a una función delta de dirac centrada en el valor de la integral."
   ]
  },
  {
   "cell_type": "code",
   "execution_count": 42,
   "metadata": {},
   "outputs": [
    {
     "data": {
      "text/plain": [
       "valueDist (generic function with 1 method)"
      ]
     },
     "execution_count": 42,
     "metadata": {},
     "output_type": "execute_result"
    }
   ],
   "source": [
    "function valueDist(f::Function,boundary,N)\n",
    "    numberOfTossings = 10000\n",
    "    values = []\n",
    "    for i in 1:numberOfTossings\n",
    "       push!(values,montecarloIntegral(f,boundary,N)[1]) \n",
    "    end\n",
    "    \n",
    "    return values\n",
    "end"
   ]
  },
  {
   "cell_type": "code",
   "execution_count": 43,
   "metadata": {},
   "outputs": [
    {
     "ename": "LoadError",
     "evalue": "\u001b[91mArgumentError: Module StatPlots not found in current path.\nRun `Pkg.add(\"StatPlots\")` to install the StatPlots package.\u001b[39m",
     "output_type": "error",
     "traceback": [
      "\u001b[91mArgumentError: Module StatPlots not found in current path.\nRun `Pkg.add(\"StatPlots\")` to install the StatPlots package.\u001b[39m",
      "",
      "Stacktrace:",
      " [1] \u001b[1m_require\u001b[22m\u001b[22m\u001b[1m(\u001b[22m\u001b[22m::Symbol\u001b[1m)\u001b[22m\u001b[22m at \u001b[1m./loading.jl:428\u001b[22m\u001b[22m",
      " [2] \u001b[1mrequire\u001b[22m\u001b[22m\u001b[1m(\u001b[22m\u001b[22m::Symbol\u001b[1m)\u001b[22m\u001b[22m at \u001b[1m./loading.jl:398\u001b[22m\u001b[22m",
      " [3] \u001b[1minclude_string\u001b[22m\u001b[22m\u001b[1m(\u001b[22m\u001b[22m::String, ::String\u001b[1m)\u001b[22m\u001b[22m at \u001b[1m./loading.jl:515\u001b[22m\u001b[22m"
     ]
    }
   ],
   "source": [
    "boundary = [[0,1],[0,2]]\n",
    "f(x) = x[1]^2 +x[2]\n",
    "\n",
    "#=Para N = 20=#\n",
    "values = valueDist(f,boundary,20)\n",
    "\n",
    "#=Graficamos el histograma =#\n",
    "using StatPlots; \n",
    "plots = StatPlots\n",
    "\n",
    "plots.density(values,xlim = (0,5))"
   ]
  },
  {
   "cell_type": "code",
   "execution_count": 44,
   "metadata": {},
   "outputs": [
    {
     "ename": "LoadError",
     "evalue": "\u001b[91mArgumentError: Module StatPlots not found in current path.\nRun `Pkg.add(\"StatPlots\")` to install the StatPlots package.\u001b[39m",
     "output_type": "error",
     "traceback": [
      "\u001b[91mArgumentError: Module StatPlots not found in current path.\nRun `Pkg.add(\"StatPlots\")` to install the StatPlots package.\u001b[39m",
      "",
      "Stacktrace:",
      " [1] \u001b[1m_require\u001b[22m\u001b[22m\u001b[1m(\u001b[22m\u001b[22m::Symbol\u001b[1m)\u001b[22m\u001b[22m at \u001b[1m./loading.jl:428\u001b[22m\u001b[22m",
      " [2] \u001b[1mrequire\u001b[22m\u001b[22m\u001b[1m(\u001b[22m\u001b[22m::Symbol\u001b[1m)\u001b[22m\u001b[22m at \u001b[1m./loading.jl:398\u001b[22m\u001b[22m",
      " [3] \u001b[1minclude_string\u001b[22m\u001b[22m\u001b[1m(\u001b[22m\u001b[22m::String, ::String\u001b[1m)\u001b[22m\u001b[22m at \u001b[1m./loading.jl:515\u001b[22m\u001b[22m"
     ]
    }
   ],
   "source": [
    "boundary = [[0,1],[0,2]]\n",
    "f(x) = x[1]^2 +x[2]\n",
    "\n",
    "#=Para N = 1000=#\n",
    "values = valueDist(f,boundary,1000)\n",
    "\n",
    "#=Graficamos el histograma =#\n",
    "using StatPlots; \n",
    "plots = StatPlots\n",
    "\n",
    "plots.density(values,xlim = (0,5))"
   ]
  },
  {
   "cell_type": "code",
   "execution_count": 45,
   "metadata": {},
   "outputs": [
    {
     "name": "stderr",
     "output_type": "stream",
     "text": [
      "\u001b[1m\u001b[33mWARNING: \u001b[39m\u001b[22m\u001b[33mseriestype density has been moved to StatPlots.  To use: `Pkg.add(\"StatPlots\"); using StatPlots`\u001b[39m\n",
      "\u001b[1m\u001b[33mWARNING: \u001b[39m\u001b[22m\u001b[33mseriestype density has been moved to StatPlots.  To use: `Pkg.add(\"StatPlots\"); using StatPlots`\u001b[39m\n"
     ]
    },
    {
     "ename": "LoadError",
     "evalue": "\u001b[91mThe backend must not support the series type Val{:density}, and there isn't a series recipe defined.\u001b[39m",
     "output_type": "error",
     "traceback": [
      "\u001b[91mThe backend must not support the series type Val{:density}, and there isn't a series recipe defined.\u001b[39m",
      "",
      "Stacktrace:",
      " [1] \u001b[1mapply_recipe\u001b[22m\u001b[22m\u001b[1m(\u001b[22m\u001b[22m::Dict{Symbol,Any}, ::Type{Val{:density}}, ::UnitRange{Int64}, ::Array{Float64,1}, ::Void\u001b[1m)\u001b[22m\u001b[22m at \u001b[1m/home/juser/.julia/v0.6/RecipesBase/src/RecipesBase.jl:287\u001b[22m\u001b[22m",
      " [2] \u001b[1m_process_seriesrecipe\u001b[22m\u001b[22m\u001b[1m(\u001b[22m\u001b[22m::Plots.Plot{Plots.PyPlotBackend}, ::Dict{Symbol,Any}\u001b[1m)\u001b[22m\u001b[22m at \u001b[1m/opt/julia_packages/.julia/v0.6/Plots/src/pipeline.jl:406\u001b[22m\u001b[22m",
      " [3] \u001b[1m_plot!\u001b[22m\u001b[22m\u001b[1m(\u001b[22m\u001b[22m::Plots.Plot{Plots.PyPlotBackend}, ::Dict{Symbol,Any}, ::Tuple{Array{Any,1}}\u001b[1m)\u001b[22m\u001b[22m at \u001b[1m/opt/julia_packages/.julia/v0.6/Plots/src/plot.jl:231\u001b[22m\u001b[22m",
      " [4] \u001b[1m(::RecipesBase.#kw##plot)\u001b[22m\u001b[22m\u001b[1m(\u001b[22m\u001b[22m::Array{Any,1}, ::RecipesBase.#plot, ::Array{Any,1}\u001b[1m)\u001b[22m\u001b[22m at \u001b[1m./<missing>:0\u001b[22m\u001b[22m",
      " [5] \u001b[1m#density#459\u001b[22m\u001b[22m\u001b[1m(\u001b[22m\u001b[22m::Array{Any,1}, ::Function, ::Array{Any,1}, ::Vararg{Array{Any,1},N} where N\u001b[1m)\u001b[22m\u001b[22m at \u001b[1m/home/juser/.julia/v0.6/RecipesBase/src/RecipesBase.jl:381\u001b[22m\u001b[22m",
      " [6] \u001b[1m(::Plots.#kw##density)\u001b[22m\u001b[22m\u001b[1m(\u001b[22m\u001b[22m::Array{Any,1}, ::Plots.#density, ::Array{Any,1}, ::Vararg{Array{Any,1},N} where N\u001b[1m)\u001b[22m\u001b[22m at \u001b[1m./<missing>:0\u001b[22m\u001b[22m",
      " [7] \u001b[1minclude_string\u001b[22m\u001b[22m\u001b[1m(\u001b[22m\u001b[22m::String, ::String\u001b[1m)\u001b[22m\u001b[22m at \u001b[1m./loading.jl:515\u001b[22m\u001b[22m"
     ]
    }
   ],
   "source": [
    "boundary = [[0,1],[0,2]]\n",
    "f(x) = x[1]^2 +x[2]\n",
    "\n",
    "#=Para N = 10000=#\n",
    "values = valueDist(f,boundary,10000)\n",
    "\n",
    "#=Graficamos el histograma =#\n",
    "using Plots; \n",
    "plots = Plots\n",
    "\n",
    "plots.density(values,xlim =(0,5))"
   ]
  },
  {
   "cell_type": "markdown",
   "metadata": {},
   "source": [
    "# Bibliografía\n",
    "-Análisis numérico. Burden R. L., Douglas Faires J., International Thomson Editores , Septima edición.(1998) \n",
    "\n",
    "-Métodos. Numéricos con MATLAB. Mathews John H.,  Fink Kurtis D. , Prentice Hall, Tercera edición.(2000)"
   ]
  },
  {
   "cell_type": "code",
   "execution_count": null,
   "metadata": {},
   "outputs": [],
   "source": []
  }
 ],
 "metadata": {
  "kernelspec": {
   "display_name": "Julia 0.6.0",
   "language": "julia",
   "name": "julia-0.6"
  },
  "language_info": {
   "file_extension": ".jl",
   "mimetype": "application/julia",
   "name": "julia",
   "version": "0.6.0"
  }
 },
 "nbformat": 4,
 "nbformat_minor": 2
}
